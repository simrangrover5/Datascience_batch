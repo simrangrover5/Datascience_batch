{
 "cells": [
  {
   "cell_type": "code",
   "execution_count": 9,
   "metadata": {},
   "outputs": [
    {
     "name": "stdout",
     "output_type": "stream",
     "text": [
      "| 10-20  | 3 |\n",
      "| 20-30  | 2 |\n",
      "| 30-40  | 2 |\n"
     ]
    }
   ],
   "source": [
    "interval = [[10,20],[20,30],[30,40]]\n",
    "data = [10,11,34,36,28,12,25]\n",
    "f = [3,2,2]\n",
    "for i in range(len(f)):\n",
    "    v = str(interval[i][0]) + \"-\" + str(interval[i][1])\n",
    "    print(f\"| {v}  | {f[i]} |\")"
   ]
  },
  {
   "cell_type": "code",
   "execution_count": null,
   "metadata": {},
   "outputs": [],
   "source": [
    "[10,20] --> 10-20"
   ]
  },
  {
   "cell_type": "code",
   "execution_count": 6,
   "metadata": {},
   "outputs": [
    {
     "ename": "AttributeError",
     "evalue": "'list' object has no attribute 'split'",
     "output_type": "error",
     "traceback": [
      "\u001b[1;31m---------------------------------------------------------------------\u001b[0m",
      "\u001b[1;31mAttributeError\u001b[0m                      Traceback (most recent call last)",
      "\u001b[1;32m<ipython-input-6-bfff7b0fa225>\u001b[0m in \u001b[0;36m<module>\u001b[1;34m\u001b[0m\n\u001b[1;32m----> 1\u001b[1;33m \u001b[1;33m[\u001b[0m\u001b[1;36m10\u001b[0m\u001b[1;33m,\u001b[0m\u001b[1;36m20\u001b[0m\u001b[1;33m]\u001b[0m\u001b[1;33m.\u001b[0m\u001b[0msplit\u001b[0m\u001b[1;33m(\u001b[0m\u001b[1;33m)\u001b[0m\u001b[1;33m\u001b[0m\u001b[1;33m\u001b[0m\u001b[0m\n\u001b[0m",
      "\u001b[1;31mAttributeError\u001b[0m: 'list' object has no attribute 'split'"
     ]
    }
   ],
   "source": [
    "[10,20].split()"
   ]
  },
  {
   "cell_type": "code",
   "execution_count": 8,
   "metadata": {},
   "outputs": [
    {
     "data": {
      "text/plain": [
       "['[10', ' 20]']"
      ]
     },
     "execution_count": 8,
     "metadata": {},
     "output_type": "execute_result"
    }
   ],
   "source": [
    "str([10,20]).split(\",\")"
   ]
  },
  {
   "cell_type": "code",
   "execution_count": 40,
   "metadata": {},
   "outputs": [
    {
     "name": "stdout",
     "output_type": "stream",
     "text": [
      "Inteval | Frequency |\tLess than Cummulative Frequency\n",
      "10-20   |       3   |  \t\t\t3\n",
      "20-30   |       2   | \t\t\t5\n",
      "30-40   |       2   | \t\t\t7\n",
      "40-50   |       4   | \t\t\t11\n",
      "50-60   |       3   | \t\t\t14\n"
     ]
    }
   ],
   "source": [
    "interval = [[10,20],[20,30],[30,40],[40,50],[50,60]]\n",
    "data = [10,11,34,36,28,12,25,44,43,42,41,52,55,57]\n",
    "f = [3,2,2,4,3]\n",
    "i1 = [str(interval[i][0]) + \"-\" + str(interval[i][1]) for i in range(len(interval))]\n",
    "c = 0\n",
    "print(\"Inteval | Frequency |\\tLess than Cummulative Frequency\")\n",
    "for i in range(len(f)):\n",
    "    v = str(interval[i][0]) + \"-\" + str(interval[i][1])\n",
    "    if i == 0:\n",
    "        print(f\"{v}   |   {f[i]:>5}   |  \\t\\t\\t{f[i]}\")\n",
    "        c += f[i]\n",
    "    else:\n",
    "        c += f[i]\n",
    "        print(f\"{v}   |   {f[i]:>5}   | \\t\\t\\t{c}\")\n",
    "        \n",
    "#morethan CF  --> i=0 = 14 "
   ]
  },
  {
   "cell_type": "code",
   "execution_count": 47,
   "metadata": {},
   "outputs": [],
   "source": [
    "import matplotlib.pyplot as plt\n",
    "import numpy as np"
   ]
  },
  {
   "cell_type": "code",
   "execution_count": 45,
   "metadata": {},
   "outputs": [
    {
     "data": {
      "image/png": "[encoded data removed]",
      "text/plain": [
       "<Figure size 792x360 with 1 Axes>"
      ]
     },
     "metadata": {
      "needs_background": "light"
     },
     "output_type": "display_data"
    }
   ],
   "source": [
    "plt.figure(figsize=(11,5))\n",
    "plt.bar(i1,f,color =['#123456','green','blue','#aaaaaa','#dddddd'])\n",
    "plt.xlabel(\"Interval\",fontdict={'fontsize':20,'color':'red'})\n",
    "plt.ylabel(\"Frequency\",fontdict={'fontsize':20,'color':'red'})\n",
    "plt.show()"
   ]
  },
  {
   "cell_type": "code",
   "execution_count": 46,
   "metadata": {},
   "outputs": [],
   "source": [
    "###Types Of Distribution??\n",
    "###Poisson,Bernouilli,Binomial,Normal,Skewness"
   ]
  },
  {
   "cell_type": "code",
   "execution_count": 48,
   "metadata": {},
   "outputs": [],
   "source": [
    "###to calculate weightes AM \n",
    "data = np.random.randint(50,100,20)\n",
    "weight = np.random.randint(10,20,20)"
   ]
  },
  {
   "cell_type": "code",
   "execution_count": 49,
   "metadata": {},
   "outputs": [
    {
     "data": {
      "text/plain": [
       "array([84, 93, 69, 99, 99, 80, 96, 97, 60, 62, 87, 75, 90, 81, 98, 88, 88,\n",
       "       75, 88, 68])"
      ]
     },
     "execution_count": 49,
     "metadata": {},
     "output_type": "execute_result"
    }
   ],
   "source": [
    "data"
   ]
  },
  {
   "cell_type": "code",
   "execution_count": 50,
   "metadata": {},
   "outputs": [
    {
     "data": {
      "text/plain": [
       "array([10, 11, 19, 17, 11, 16, 10, 11, 19, 10, 11, 13, 18, 10, 18, 17, 15,\n",
       "       15, 10, 12])"
      ]
     },
     "execution_count": 50,
     "metadata": {},
     "output_type": "execute_result"
    }
   ],
   "source": [
    "weight"
   ]
  },
  {
   "cell_type": "code",
   "execution_count": 2,
   "metadata": {},
   "outputs": [],
   "source": [
    "import numpy as np\n",
    "import matplotlib.pyplot as plt\n",
    "import seaborn as sns"
   ]
  },
  {
   "cell_type": "code",
   "execution_count": 4,
   "metadata": {},
   "outputs": [
    {
     "name": "stdout",
     "output_type": "stream",
     "text": [
      "[66 41 41 42 62 76 46 47 54 47 47 49 60 69 43 44 43 42 67 58 78 69 66 52\n",
      " 48 61 50 62 65 56 41 49 62 66 52 51 77 66 55 77 60 60 56 41 72 65 56 79\n",
      " 72 46 48 71 62 50 59 42 60 48 52 48 48 73 77 46 54 56 45 54 44 52 76 64\n",
      " 53 65 41 47 42 50 55 48 64 68 57 79 54 55 62 57 51 57 51 69 79 70 55 79\n",
      " 65 43 76 69]\n"
     ]
    }
   ],
   "source": [
    "data = np.random.randint(40,80,100)\n",
    "print(data)"
   ]
  },
  {
   "cell_type": "code",
   "execution_count": 37,
   "metadata": {},
   "outputs": [
    {
     "name": "stdout",
     "output_type": "stream",
     "text": [
      "The Range of the data is :  38\n",
      "The number of the interval is :  7.66\n",
      "The size pf the interval is :  4.960835509138381\n",
      "The interval is :  [[40, 45], [45, 50], [50, 55], [55, 60], [60, 65], [65, 70], [70, 75], [75, 80]]\n",
      "The Frequency of the data is :  [14, 16, 15, 13, 12, 14, 5, 11]\n",
      "Interval| Frequency | Less Than CF | More Than CF\n",
      "40-45   |      14   |         14   |   100\n",
      "45-50   |      16   |         30   |    86\n",
      "50-55   |      15   |         45   |    70\n",
      "55-60   |      13   |         58   |    55\n",
      "60-65   |      12   |         70   |    42\n",
      "65-70   |      14   |         84   |    30\n",
      "70-75   |       5   |         89   |    16\n",
      "75-80   |      11   |        100   |    11\n"
     ]
    }
   ],
   "source": [
    "from math import log10\n",
    "n = 100\n",
    "range1 = max(data) -min(data)\n",
    "print(\"The Range of the data is : \",range1)\n",
    "k = 1+ (3.33*log10(n))\n",
    "size = range1/k\n",
    "print(\"The number of the interval is : \",k)\n",
    "print(\"The size pf the interval is : \",size)\n",
    "intervals = [[i,i+5] for i in range(40,80,5)]\n",
    "print(\"The interval is : \",intervals)\n",
    "freq = []\n",
    "for i in intervals:\n",
    "    s = 0\n",
    "    for j in range(i[0],i[1]):  #range(40,48)\n",
    "        s += list(data).count(j)\n",
    "    freq.append(s)\n",
    "print(\"The Frequency of the data is : \",freq)\n",
    "print(\"Interval| Frequency | Less Than CF | More Than CF\")\n",
    "mrcf = 0\n",
    "ltcf = 0\n",
    "for i in range(len(freq)):\n",
    "    v = str(intervals[i][0]) + \"-\" + str(intervals[i][1])\n",
    "    #print(f\"{v}   |   {freq[i]:>5}   | \")\n",
    "    if i == 0:\n",
    "        print(f\"{v}   |   {freq[i]:>5}   |  {freq[i]:>9}   |   {n:>3}\")\n",
    "        mrcf = n\n",
    "        ltcf = freq[i]\n",
    "    else:\n",
    "        ltcf += freq[i]\n",
    "        mrcf -= freq[i-1]\n",
    "        print(f\"{v}   |   {freq[i]:>5}   |  {ltcf:>9}   |   {mrcf:>3}\")\n"
   ]
  },
  {
   "cell_type": "code",
   "execution_count": 12,
   "metadata": {},
   "outputs": [
    {
     "data": {
      "image/png": "[encoded data removed]",
      "text/plain": [
       "<Figure size 792x360 with 1 Axes>"
      ]
     },
     "metadata": {
      "needs_background": "light"
     },
     "output_type": "display_data"
    }
   ],
   "source": [
    "plt.figure(figsize=(11,5))\n",
    "sns.countplot(data)\n",
    "plt.xticks(rotation=90)\n",
    "plt.show()"
   ]
  },
  {
   "cell_type": "code",
   "execution_count": 14,
   "metadata": {},
   "outputs": [
    {
     "data": {
      "text/plain": [
       "100"
      ]
     },
     "execution_count": 14,
     "metadata": {},
     "output_type": "execute_result"
    }
   ],
   "source": [
    "data.size"
   ]
  },
  {
   "cell_type": "code",
   "execution_count": 35,
   "metadata": {},
   "outputs": [
    {
     "data": {
      "text/plain": [
       "4.75"
      ]
     },
     "execution_count": 35,
     "metadata": {},
     "output_type": "execute_result"
    }
   ],
   "source": [
    "38/8"
   ]
  },
  {
   "cell_type": "code",
   "execution_count": 54,
   "metadata": {},
   "outputs": [
    {
     "data": {
      "image/png": "[encoded data removed]",
      "text/plain": [
       "<Figure size 432x288 with 1 Axes>"
      ]
     },
     "metadata": {
      "needs_background": "light"
     },
     "output_type": "display_data"
    }
   ],
   "source": [
    "normal = np.random.normal(5,2,10000)\n",
    "mean = normal.mean()\n",
    "med = np.median(normal)\n",
    "plt.hist(normal,bins=30,ec='k')\n",
    "plt.plot([mean,mean],[0,1200],'r')\n",
    "plt.plot([med,med],[0,1200],'g',alpha=0.5)\n",
    "plt.show()"
   ]
  },
  {
   "cell_type": "code",
   "execution_count": 40,
   "metadata": {},
   "outputs": [
    {
     "data": {
      "text/plain": [
       "5.03111266927322"
      ]
     },
     "execution_count": 40,
     "metadata": {},
     "output_type": "execute_result"
    }
   ],
   "source": [
    "normal.mean()"
   ]
  },
  {
   "cell_type": "code",
   "execution_count": 41,
   "metadata": {},
   "outputs": [
    {
     "data": {
      "text/plain": [
       "5.03676877942644"
      ]
     },
     "execution_count": 41,
     "metadata": {},
     "output_type": "execute_result"
    }
   ],
   "source": [
    "np.median(normal)"
   ]
  },
  {
   "cell_type": "code",
   "execution_count": 47,
   "metadata": {},
   "outputs": [
    {
     "data": {
      "image/png": "[encoded data removed]",
      "text/plain": [
       "<Figure size 432x288 with 1 Axes>"
      ]
     },
     "metadata": {
      "needs_background": "light"
     },
     "output_type": "display_data"
    }
   ],
   "source": [
    "ages = np.random.randint(10,20,30)\n",
    "#plt.plot(ages,\"o\")\n",
    "ages = np.append(ages,[50,50])\n",
    "plt.plot(ages,'o')\n",
    "plt.show()"
   ]
  },
  {
   "cell_type": "code",
   "execution_count": 70,
   "metadata": {},
   "outputs": [
    {
     "data": {
      "image/png": "[encoded data removed]",
      "text/plain": [
       "<Figure size 432x288 with 1 Axes>"
      ]
     },
     "metadata": {
      "needs_background": "light"
     },
     "output_type": "display_data"
    }
   ],
   "source": [
    "normal = np.random.normal(5,2,1000)\n",
    "plt.hist(normal,bins=50,ec='k')\n",
    "plt.show()"
   ]
  },
  {
   "cell_type": "code",
   "execution_count": 57,
   "metadata": {},
   "outputs": [
    {
     "data": {
      "text/plain": [
       "array([ 4.76673059,  5.49207198,  3.27335957, 11.02259552,  8.07941462,\n",
       "        4.67162634,  4.92873702,  7.65810481,  5.51016375,  7.82067917])"
      ]
     },
     "execution_count": 57,
     "metadata": {},
     "output_type": "execute_result"
    }
   ],
   "source": [
    "normal"
   ]
  },
  {
   "cell_type": "code",
   "execution_count": null,
   "metadata": {},
   "outputs": [],
   "source": []
  }
 ],
 "metadata": {
  "kernelspec": {
   "display_name": "Python 3",
   "language": "python",
   "name": "python3"
  },
  "language_info": {
   "codemirror_mode": {
    "name": "ipython",
    "version": 3
   },
   "file_extension": ".py",
   "mimetype": "text/x-python",
   "name": "python",
   "nbconvert_exporter": "python",
   "pygments_lexer": "ipython3",
   "version": "3.7.4"
  }
 },
 "nbformat": 4,
 "nbformat_minor": 2
}
