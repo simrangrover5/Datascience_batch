{
 "cells": [
  {
   "cell_type": "markdown",
   "metadata": {},
   "source": [
    "### Measures Of center\n",
    "\n",
    "1. Mean\n",
    "2. Median\n",
    "3. Mode"
   ]
  },
  {
   "cell_type": "markdown",
   "metadata": {},
   "source": [
    "#### Mean\n",
    "\n",
    "    1. It is used to calculate the average\n",
    "    2. The mean of the data depend upon the values and it is effected by outlier"
   ]
  },
  {
   "cell_type": "code",
   "execution_count": 1,
   "metadata": {},
   "outputs": [],
   "source": [
    "##sum of all the values divided by the len of the data"
   ]
  },
  {
   "cell_type": "code",
   "execution_count": 2,
   "metadata": {},
   "outputs": [],
   "source": [
    "#1,2,3,4,5, -->  15/5 --> 3 "
   ]
  },
  {
   "cell_type": "markdown",
   "metadata": {},
   "source": [
    "$$     \\bar{x}   =     \\frac {\\sum \\limits_{i=0}^N x_i} {N}  $$"
   ]
  },
  {
   "cell_type": "code",
   "execution_count": 3,
   "metadata": {},
   "outputs": [],
   "source": [
    "x = [1,2,3,4,5]\n",
    "#x_0,x_1,x_2,x_3,x_4,x_5....."
   ]
  },
  {
   "cell_type": "code",
   "execution_count": 4,
   "metadata": {},
   "outputs": [],
   "source": [
    "import numpy as np\n",
    "import matplotlib.pyplot as plt"
   ]
  },
  {
   "cell_type": "code",
   "execution_count": 5,
   "metadata": {},
   "outputs": [],
   "source": [
    "ages = [10,15,14,16,17,18,15,16,12,13,14]   #10 - 20 age"
   ]
  },
  {
   "cell_type": "code",
   "execution_count": 6,
   "metadata": {},
   "outputs": [
    {
     "data": {
      "text/plain": [
       "11"
      ]
     },
     "execution_count": 6,
     "metadata": {},
     "output_type": "execute_result"
    }
   ],
   "source": [
    "len(ages)"
   ]
  },
  {
   "cell_type": "code",
   "execution_count": 7,
   "metadata": {},
   "outputs": [
    {
     "name": "stdout",
     "output_type": "stream",
     "text": [
      "14.545454545454545\n"
     ]
    }
   ],
   "source": [
    "mean = sum(ages)/len(ages)\n",
    "print(mean)"
   ]
  },
  {
   "cell_type": "code",
   "execution_count": 8,
   "metadata": {},
   "outputs": [],
   "source": [
    "ages.append(40)"
   ]
  },
  {
   "cell_type": "code",
   "execution_count": 9,
   "metadata": {},
   "outputs": [],
   "source": [
    "mean = sum(ages)/len(ages)"
   ]
  },
  {
   "cell_type": "code",
   "execution_count": 10,
   "metadata": {},
   "outputs": [
    {
     "name": "stdout",
     "output_type": "stream",
     "text": [
      "16.666666666666668\n"
     ]
    }
   ],
   "source": [
    "print(mean)"
   ]
  },
  {
   "cell_type": "code",
   "execution_count": 13,
   "metadata": {},
   "outputs": [],
   "source": [
    "ages.append(40)   #added the outlier\n",
    "mean = sum(ages)/len(ages)"
   ]
  },
  {
   "cell_type": "code",
   "execution_count": 14,
   "metadata": {},
   "outputs": [
    {
     "data": {
      "text/plain": [
       "20.0"
      ]
     },
     "execution_count": 14,
     "metadata": {},
     "output_type": "execute_result"
    }
   ],
   "source": [
    "mean"
   ]
  },
  {
   "cell_type": "code",
   "execution_count": 15,
   "metadata": {},
   "outputs": [],
   "source": [
    "ages = np.random.randint(10,20,1000)"
   ]
  },
  {
   "cell_type": "code",
   "execution_count": 16,
   "metadata": {},
   "outputs": [
    {
     "name": "stdout",
     "output_type": "stream",
     "text": [
      "[12 17 14 16 18]\n"
     ]
    }
   ],
   "source": [
    "print(ages[:5])"
   ]
  },
  {
   "cell_type": "code",
   "execution_count": 17,
   "metadata": {},
   "outputs": [
    {
     "data": {
      "text/plain": [
       "14.401"
      ]
     },
     "execution_count": 17,
     "metadata": {},
     "output_type": "execute_result"
    }
   ],
   "source": [
    "ages.mean()"
   ]
  },
  {
   "cell_type": "code",
   "execution_count": 18,
   "metadata": {},
   "outputs": [],
   "source": [
    "ages = np.append(ages,[40,40])"
   ]
  },
  {
   "cell_type": "code",
   "execution_count": 19,
   "metadata": {},
   "outputs": [
    {
     "data": {
      "text/plain": [
       "14.452095808383234"
      ]
     },
     "execution_count": 19,
     "metadata": {},
     "output_type": "execute_result"
    }
   ],
   "source": [
    "ages.mean()"
   ]
  },
  {
   "cell_type": "code",
   "execution_count": 20,
   "metadata": {},
   "outputs": [],
   "source": [
    "ages = np.append(ages,[100,100])"
   ]
  },
  {
   "cell_type": "code",
   "execution_count": 21,
   "metadata": {},
   "outputs": [
    {
     "data": {
      "text/plain": [
       "array([ 12,  17,  14, ...,  40, 100, 100])"
      ]
     },
     "execution_count": 21,
     "metadata": {},
     "output_type": "execute_result"
    }
   ],
   "source": [
    "ages"
   ]
  },
  {
   "cell_type": "code",
   "execution_count": 22,
   "metadata": {},
   "outputs": [
    {
     "name": "stdout",
     "output_type": "stream",
     "text": [
      "14.622509960159363\n"
     ]
    }
   ],
   "source": [
    "mean = sum(ages)/len(ages)\n",
    "print(mean)"
   ]
  },
  {
   "cell_type": "code",
   "execution_count": 23,
   "metadata": {},
   "outputs": [],
   "source": [
    "ages = np.append(ages,[1000,1000])"
   ]
  },
  {
   "cell_type": "code",
   "execution_count": 24,
   "metadata": {},
   "outputs": [
    {
     "data": {
      "text/plain": [
       "16.581510934393638"
      ]
     },
     "execution_count": 24,
     "metadata": {},
     "output_type": "execute_result"
    }
   ],
   "source": [
    "ages.mean()"
   ]
  },
  {
   "cell_type": "markdown",
   "metadata": {},
   "source": [
    "### Median \n",
    "    \n",
    "    1. In this you will calculate by sorting the data \n",
    "    2. It depend upon the number of observations\n",
    "    3. It is not effected by the outlier\n",
    "    "
   ]
  },
  {
   "cell_type": "code",
   "execution_count": 25,
   "metadata": {},
   "outputs": [],
   "source": [
    "data = [1,1.5,2,2.5,8,9,3,3.4,4,4.5]"
   ]
  },
  {
   "cell_type": "markdown",
   "metadata": {},
   "source": [
    "#### Median For odd values\n",
    "\n",
    "\n",
    "    n = len(data)+1//2\n",
    "    data[n]"
   ]
  },
  {
   "cell_type": "code",
   "execution_count": 83,
   "metadata": {},
   "outputs": [],
   "source": [
    "ages = [10,15,14,16,17,18,15,16,12,13,14]   #10 - 20 age"
   ]
  },
  {
   "cell_type": "code",
   "execution_count": 84,
   "metadata": {},
   "outputs": [
    {
     "data": {
      "text/plain": [
       "11"
      ]
     },
     "execution_count": 84,
     "metadata": {},
     "output_type": "execute_result"
    }
   ],
   "source": [
    "len(ages)"
   ]
  },
  {
   "cell_type": "code",
   "execution_count": 85,
   "metadata": {},
   "outputs": [],
   "source": [
    "ages.sort()"
   ]
  },
  {
   "cell_type": "code",
   "execution_count": 86,
   "metadata": {},
   "outputs": [
    {
     "data": {
      "text/plain": [
       "[10, 12, 13, 14, 14, 15, 15, 16, 16, 17, 18]"
      ]
     },
     "execution_count": 86,
     "metadata": {},
     "output_type": "execute_result"
    }
   ],
   "source": [
    "ages"
   ]
  },
  {
   "cell_type": "code",
   "execution_count": 87,
   "metadata": {},
   "outputs": [],
   "source": [
    "n = (len(ages)+1)//2\n",
    "median = ages[n-1]"
   ]
  },
  {
   "cell_type": "code",
   "execution_count": 88,
   "metadata": {},
   "outputs": [
    {
     "data": {
      "text/plain": [
       "15"
      ]
     },
     "execution_count": 88,
     "metadata": {},
     "output_type": "execute_result"
    }
   ],
   "source": [
    "median"
   ]
  },
  {
   "cell_type": "code",
   "execution_count": 89,
   "metadata": {},
   "outputs": [],
   "source": [
    "sal = np.random.randint(30,40,1000)"
   ]
  },
  {
   "cell_type": "code",
   "execution_count": 35,
   "metadata": {},
   "outputs": [
    {
     "data": {
      "text/plain": [
       "array([34, 30, 34, 32, 31, 31, 31, 36, 30, 38, 33, 39, 38, 36, 34, 36, 31,\n",
       "       39, 39, 32, 30, 31, 31, 33, 30, 31, 32, 36, 37, 38, 36, 34, 37, 39,\n",
       "       39, 34, 37, 38, 34, 32, 30, 39, 33, 37, 39, 30, 31, 34, 34, 30, 35,\n",
       "       30, 34, 36, 34, 36, 33, 31, 38, 35, 38, 31, 34, 36, 32, 30, 34, 35,\n",
       "       36, 30, 30, 34, 39, 39, 32, 37, 34, 34, 36, 30, 35, 31, 36, 37, 35,\n",
       "       32, 34, 36, 36, 39, 37, 36, 36, 38, 34, 35, 30, 33, 31, 34, 38, 34,\n",
       "       32, 37, 34, 39, 39, 30, 35, 36, 34, 37, 36, 32, 35, 31, 34, 35, 31,\n",
       "       39, 32, 34, 31, 37, 32, 35, 36, 36, 34, 32, 34, 39, 34, 39, 35, 32,\n",
       "       38, 33, 30, 33, 32, 35, 35, 31, 34, 32, 30, 36, 36, 38, 33, 33, 32,\n",
       "       32, 35, 30, 38, 38, 31, 30, 39, 30, 35, 39, 37, 33, 38, 34, 39, 33,\n",
       "       39, 36, 36, 30, 37, 35, 31, 30, 30, 36, 38, 36, 32, 36, 31, 38, 38,\n",
       "       37, 38, 36, 32, 32, 31, 36, 33, 38, 32, 38, 31, 32, 31, 35, 37, 36,\n",
       "       32, 30, 33, 36, 38, 37, 33, 34, 31, 33, 38, 39, 36, 38, 36, 31, 37,\n",
       "       34, 34, 31, 33, 30, 31, 37, 33, 36, 38, 37, 30, 38, 38, 35, 35, 37,\n",
       "       35, 39, 31, 39, 30, 30, 34, 38, 38, 36, 38, 30, 32, 33, 39, 30, 36,\n",
       "       39, 30, 30, 39, 34, 34, 39, 34, 35, 32, 35, 36, 38, 32, 31, 30, 37,\n",
       "       37, 36, 34, 31, 30, 39, 37, 31, 39, 30, 34, 37, 31, 38, 31, 32, 31,\n",
       "       39, 38, 30, 34, 35, 37, 39, 37, 39, 32, 36, 38, 35, 32, 35, 34, 33,\n",
       "       37, 31, 35, 33, 37, 37, 34, 38, 33, 33, 37, 39, 39, 37, 31, 31, 32,\n",
       "       38, 33, 31, 39, 31, 39, 39, 38, 38, 39, 37, 37, 31, 31, 31, 35, 33,\n",
       "       36, 34, 35, 39, 39, 32, 34, 32, 35, 38, 34, 34, 37, 36, 32, 35, 32,\n",
       "       33, 35, 30, 36, 36, 36, 36, 34, 32, 39, 30, 34, 38, 36, 39, 34, 31,\n",
       "       37, 32, 31, 37, 33, 33, 32, 33, 35, 37, 37, 39, 37, 33, 37, 35, 37,\n",
       "       38, 39, 32, 39, 35, 31, 37, 30, 36, 36, 39, 39, 30, 35, 32, 32, 33,\n",
       "       37, 31, 30, 31, 35, 39, 39, 38, 39, 36, 30, 33, 34, 34, 34, 34, 31,\n",
       "       31, 31, 32, 38, 39, 34, 34, 35, 33, 35, 33, 39, 31, 37, 39, 37, 38,\n",
       "       37, 34, 36, 38, 36, 32, 38, 34, 32, 35, 39, 32, 30, 38, 38, 38, 35,\n",
       "       31, 31, 33, 32, 38, 30, 30, 38, 31, 36, 34, 32, 32, 33, 32, 32, 34,\n",
       "       37, 32, 32, 32, 36, 34, 31, 38, 32, 30, 34, 35, 32, 39, 30, 38, 39,\n",
       "       31, 30, 36, 36, 38, 37, 31, 32, 34, 33, 36, 39, 32, 35, 35, 32, 32,\n",
       "       32, 35, 32, 38, 38, 36, 31, 30, 37, 36, 37, 30, 31, 35, 38, 33, 36,\n",
       "       38, 31, 36, 33, 32, 39, 36, 39, 39, 37, 31, 35, 36, 33, 36, 30, 32,\n",
       "       36, 38, 38, 37, 39, 30, 38, 34, 38, 38, 33, 34, 31, 36, 31, 39, 36,\n",
       "       38, 33, 34, 38, 32, 30, 39, 39, 35, 32, 31, 32, 31, 38, 37, 37, 38,\n",
       "       33, 36, 30, 34, 38, 38, 37, 39, 31, 33, 35, 37, 38, 37, 33, 30, 38,\n",
       "       37, 32, 37, 34, 35, 32, 35, 38, 36, 31, 31, 30, 34, 36, 36, 31, 37,\n",
       "       31, 36, 35, 34, 30, 39, 37, 32, 37, 38, 35, 33, 35, 35, 36, 39, 39,\n",
       "       37, 36, 39, 36, 30, 31, 30, 39, 35, 30, 33, 32, 38, 33, 35, 32, 31,\n",
       "       36, 30, 39, 35, 37, 31, 32, 33, 38, 39, 30, 36, 39, 39, 34, 38, 31,\n",
       "       31, 35, 31, 30, 38, 34, 36, 32, 39, 33, 35, 36, 34, 30, 37, 31, 34,\n",
       "       32, 33, 31, 36, 37, 31, 36, 35, 39, 39, 34, 32, 31, 33, 30, 33, 34,\n",
       "       34, 36, 35, 38, 32, 32, 34, 39, 33, 35, 38, 39, 31, 31, 39, 38, 38,\n",
       "       33, 36, 31, 33, 38, 31, 33, 34, 32, 30, 36, 38, 34, 35, 34, 33, 37,\n",
       "       35, 35, 33, 38, 34, 37, 31, 36, 33, 38, 33, 34, 30, 37, 31, 34, 36,\n",
       "       30, 38, 31, 33, 34, 38, 36, 30, 31, 38, 35, 35, 31, 39, 32, 35, 35,\n",
       "       35, 36, 31, 36, 39, 33, 31, 34, 39, 35, 37, 31, 31, 35, 35, 33, 31,\n",
       "       39, 31, 32, 33, 36, 36, 37, 32, 31, 32, 36, 37, 32, 33, 35, 30, 36,\n",
       "       33, 37, 39, 39, 36, 38, 39, 30, 37, 39, 31, 37, 35, 39, 38, 35, 35,\n",
       "       30, 33, 36, 39, 34, 39, 34, 33, 34, 39, 33, 35, 30, 36, 33, 36, 37,\n",
       "       30, 39, 31, 38, 38, 39, 36, 32, 37, 32, 38, 33, 30, 38, 37, 38, 33,\n",
       "       37, 33, 33, 38, 33, 33, 39, 35, 32, 33, 38, 37, 30, 39, 37, 36, 35,\n",
       "       34, 36, 39, 30, 37, 33, 36, 32, 33, 37, 35, 38, 32, 38, 32, 37, 39,\n",
       "       31, 39, 34, 30, 33, 34, 31, 39, 39, 31, 34, 36, 38, 37, 35, 34, 37,\n",
       "       33, 36, 33, 39, 34, 32, 32, 37, 30, 35, 35, 36, 34, 37, 35, 32, 30,\n",
       "       35, 33, 38, 31, 30, 32, 33, 38, 31, 30, 31, 33, 37, 36, 32, 30, 33,\n",
       "       32, 32, 31, 34, 32, 38, 31, 38, 36, 37, 38, 35, 32, 39, 32, 34, 33,\n",
       "       37, 36, 33, 32, 36, 33, 34, 35, 31, 32, 38, 30, 30, 39, 34, 39, 38,\n",
       "       31, 35, 32, 37, 36, 30, 39, 32, 33, 30, 32, 39, 37, 36, 32, 34, 39,\n",
       "       34, 39, 32, 36, 34, 39, 33, 31, 34, 38, 30, 37, 38, 34])"
      ]
     },
     "execution_count": 35,
     "metadata": {},
     "output_type": "execute_result"
    }
   ],
   "source": [
    "sal"
   ]
  },
  {
   "cell_type": "code",
   "execution_count": 91,
   "metadata": {},
   "outputs": [],
   "source": [
    "sal.sort()"
   ]
  },
  {
   "cell_type": "code",
   "execution_count": 90,
   "metadata": {},
   "outputs": [],
   "source": [
    "sal = np.append(sal,40)"
   ]
  },
  {
   "cell_type": "code",
   "execution_count": 92,
   "metadata": {},
   "outputs": [
    {
     "name": "stdout",
     "output_type": "stream",
     "text": [
      "Median of the data is :  35\n",
      "Mean of the data is : 34.50\n"
     ]
    }
   ],
   "source": [
    "n = (len(sal)+1)//2\n",
    "median = sal[n-1]\n",
    "mean = sum(sal)/len(sal)\n",
    "print(\"Median of the data is : \",median)\n",
    "print(\"Mean of the data is : {:.2f}\".format(mean))"
   ]
  },
  {
   "cell_type": "code",
   "execution_count": 48,
   "metadata": {},
   "outputs": [
    {
     "data": {
      "text/plain": [
       "1001"
      ]
     },
     "execution_count": 48,
     "metadata": {},
     "output_type": "execute_result"
    }
   ],
   "source": [
    "len(sal)"
   ]
  },
  {
   "cell_type": "code",
   "execution_count": 93,
   "metadata": {},
   "outputs": [],
   "source": [
    "sal = np.append(sal,[1000,1000])"
   ]
  },
  {
   "cell_type": "code",
   "execution_count": 94,
   "metadata": {},
   "outputs": [
    {
     "name": "stdout",
     "output_type": "stream",
     "text": [
      "Median of the data is :  35\n",
      "Mean of the data is : 36.42\n"
     ]
    }
   ],
   "source": [
    "n = (len(sal)+1)//2\n",
    "median = sal[n-1]\n",
    "mean = sum(sal)/len(sal)\n",
    "print(\"Median of the data is : \",median)\n",
    "print(\"Mean of the data is : {:.2f}\".format(mean))"
   ]
  },
  {
   "cell_type": "markdown",
   "metadata": {},
   "source": [
    "#### Median for even number of observations\n",
    "\n",
    "    x1 = len(data)//2\n",
    "    x2  = (len(data)+2)//2\n",
    "    median = (data[x1]+data[x2])/2\n",
    "    "
   ]
  },
  {
   "cell_type": "code",
   "execution_count": 52,
   "metadata": {},
   "outputs": [],
   "source": [
    "ages.append(14)"
   ]
  },
  {
   "cell_type": "code",
   "execution_count": 53,
   "metadata": {},
   "outputs": [],
   "source": [
    "ages.sort()"
   ]
  },
  {
   "cell_type": "code",
   "execution_count": 55,
   "metadata": {},
   "outputs": [
    {
     "data": {
      "text/plain": [
       "12"
      ]
     },
     "execution_count": 55,
     "metadata": {},
     "output_type": "execute_result"
    }
   ],
   "source": [
    "len(ages)   #the length of data is even"
   ]
  },
  {
   "cell_type": "code",
   "execution_count": 56,
   "metadata": {},
   "outputs": [
    {
     "name": "stdout",
     "output_type": "stream",
     "text": [
      "6 7\n",
      "Median :  15.0\n"
     ]
    }
   ],
   "source": [
    "x1 = len(ages)//2\n",
    "x2 = (len(ages)+2)//2\n",
    "print(x1,x2)\n",
    "median = (ages[x1-1] + ages[x2-1])/2\n",
    "print(\"Median : \",median)"
   ]
  },
  {
   "cell_type": "code",
   "execution_count": 57,
   "metadata": {},
   "outputs": [
    {
     "data": {
      "text/plain": [
       "[10, 12, 13, 14, 14, 14, 15, 15, 16, 16, 17, 18]"
      ]
     },
     "execution_count": 57,
     "metadata": {},
     "output_type": "execute_result"
    }
   ],
   "source": [
    "ages"
   ]
  },
  {
   "cell_type": "code",
   "execution_count": 82,
   "metadata": {},
   "outputs": [
    {
     "name": "stdout",
     "output_type": "stream",
     "text": [
      "The sorted salary is :  [30 30 30 30 30]\n",
      "The median value is :  34.5\n"
     ]
    }
   ],
   "source": [
    "sal = np.random.randint(30,40,1000)\n",
    "sal.sort()\n",
    "print(\"The sorted salary is : \",sal[:5])\n",
    "x1 = len(sal)//2\n",
    "x2= (len(sal)+2)//2\n",
    "median = (sal[x1-1] + sal[x2-1])/2\n",
    "print(\"The median value is : \",median)"
   ]
  },
  {
   "cell_type": "code",
   "execution_count": 59,
   "metadata": {},
   "outputs": [],
   "source": [
    "###disadvantage of median of even values is that it is not necessary that you will have the value of median in the data"
   ]
  },
  {
   "cell_type": "code",
   "execution_count": 60,
   "metadata": {},
   "outputs": [],
   "source": [
    "#### class --> 1 --> __init__, 2 --> mean, 3 --> median, 4--> mode"
   ]
  },
  {
   "cell_type": "markdown",
   "metadata": {},
   "source": [
    "#### Mode\n",
    "\n",
    "    1. It is used when you want to see the maximum number of observations present in th data\n",
    "    2. It is not necessary that the mode will be your mid value everytime"
   ]
  },
  {
   "cell_type": "code",
   "execution_count": 61,
   "metadata": {},
   "outputs": [
    {
     "data": {
      "text/plain": [
       "[10, 12, 13, 14, 14, 14, 15, 15, 16, 16, 17, 18]"
      ]
     },
     "execution_count": 61,
     "metadata": {},
     "output_type": "execute_result"
    }
   ],
   "source": [
    "ages"
   ]
  },
  {
   "cell_type": "code",
   "execution_count": 62,
   "metadata": {},
   "outputs": [
    {
     "data": {
      "text/plain": [
       "array([30, 30, 30, 30, 30, 30, 30, 30, 30, 30, 30, 30, 30, 30, 30, 30, 30,\n",
       "       30, 30, 30, 30, 30, 30, 30, 30, 30, 30, 30, 30, 30, 30, 30, 30, 30,\n",
       "       30, 30, 30, 30, 30, 30, 30, 30, 30, 30, 30, 30, 30, 30, 30, 30, 30,\n",
       "       30, 30, 30, 30, 30, 30, 30, 30, 30, 30, 30, 30, 30, 30, 30, 30, 30,\n",
       "       30, 30, 30, 30, 30, 30, 30, 30, 30, 30, 30, 30, 30, 30, 30, 30, 30,\n",
       "       30, 30, 30, 30, 30, 30, 30, 30, 30, 30, 30, 30, 30, 30, 30, 30, 30,\n",
       "       30, 30, 30, 30, 30, 30, 31, 31, 31, 31, 31, 31, 31, 31, 31, 31, 31,\n",
       "       31, 31, 31, 31, 31, 31, 31, 31, 31, 31, 31, 31, 31, 31, 31, 31, 31,\n",
       "       31, 31, 31, 31, 31, 31, 31, 31, 31, 31, 31, 31, 31, 31, 31, 31, 31,\n",
       "       31, 31, 31, 31, 31, 31, 31, 31, 31, 31, 31, 31, 31, 31, 31, 31, 31,\n",
       "       31, 31, 31, 31, 31, 31, 31, 31, 31, 31, 31, 31, 31, 31, 31, 31, 31,\n",
       "       31, 31, 31, 31, 31, 31, 31, 31, 31, 31, 31, 31, 31, 32, 32, 32, 32,\n",
       "       32, 32, 32, 32, 32, 32, 32, 32, 32, 32, 32, 32, 32, 32, 32, 32, 32,\n",
       "       32, 32, 32, 32, 32, 32, 32, 32, 32, 32, 32, 32, 32, 32, 32, 32, 32,\n",
       "       32, 32, 32, 32, 32, 32, 32, 32, 32, 32, 32, 32, 32, 32, 32, 32, 32,\n",
       "       32, 32, 32, 32, 32, 32, 32, 32, 32, 32, 32, 32, 32, 32, 32, 32, 32,\n",
       "       32, 32, 32, 32, 32, 32, 32, 32, 32, 32, 32, 32, 32, 32, 32, 32, 32,\n",
       "       32, 32, 32, 32, 32, 32, 32, 32, 32, 32, 32, 32, 32, 32, 32, 32, 32,\n",
       "       32, 32, 33, 33, 33, 33, 33, 33, 33, 33, 33, 33, 33, 33, 33, 33, 33,\n",
       "       33, 33, 33, 33, 33, 33, 33, 33, 33, 33, 33, 33, 33, 33, 33, 33, 33,\n",
       "       33, 33, 33, 33, 33, 33, 33, 33, 33, 33, 33, 33, 33, 33, 33, 33, 33,\n",
       "       33, 33, 33, 33, 33, 33, 33, 33, 33, 33, 33, 33, 33, 33, 33, 33, 33,\n",
       "       33, 33, 33, 33, 33, 33, 33, 33, 33, 33, 33, 33, 33, 33, 33, 33, 33,\n",
       "       33, 33, 33, 33, 33, 33, 33, 33, 33, 33, 33, 33, 33, 33, 33, 33, 33,\n",
       "       33, 33, 33, 33, 33, 33, 33, 34, 34, 34, 34, 34, 34, 34, 34, 34, 34,\n",
       "       34, 34, 34, 34, 34, 34, 34, 34, 34, 34, 34, 34, 34, 34, 34, 34, 34,\n",
       "       34, 34, 34, 34, 34, 34, 34, 34, 34, 34, 34, 34, 34, 34, 34, 34, 34,\n",
       "       34, 34, 34, 34, 34, 34, 34, 34, 34, 34, 34, 34, 34, 34, 34, 34, 34,\n",
       "       34, 34, 34, 34, 34, 34, 34, 34, 34, 34, 34, 34, 34, 34, 34, 34, 34,\n",
       "       34, 34, 34, 34, 34, 34, 34, 34, 34, 34, 34, 34, 34, 34, 34, 34, 34,\n",
       "       34, 34, 34, 34, 34, 34, 35, 35, 35, 35, 35, 35, 35, 35, 35, 35, 35,\n",
       "       35, 35, 35, 35, 35, 35, 35, 35, 35, 35, 35, 35, 35, 35, 35, 35, 35,\n",
       "       35, 35, 35, 35, 35, 35, 35, 35, 35, 35, 35, 35, 35, 35, 35, 35, 35,\n",
       "       35, 35, 35, 35, 35, 35, 35, 35, 35, 35, 35, 35, 35, 35, 35, 35, 35,\n",
       "       35, 35, 35, 35, 35, 35, 35, 35, 35, 35, 35, 35, 35, 35, 35, 35, 35,\n",
       "       35, 35, 35, 35, 35, 35, 35, 35, 35, 35, 35, 35, 35, 36, 36, 36, 36,\n",
       "       36, 36, 36, 36, 36, 36, 36, 36, 36, 36, 36, 36, 36, 36, 36, 36, 36,\n",
       "       36, 36, 36, 36, 36, 36, 36, 36, 36, 36, 36, 36, 36, 36, 36, 36, 36,\n",
       "       36, 36, 36, 36, 36, 36, 36, 36, 36, 36, 36, 36, 36, 36, 36, 36, 36,\n",
       "       36, 36, 36, 36, 36, 36, 36, 36, 36, 36, 36, 36, 36, 36, 36, 36, 36,\n",
       "       36, 36, 36, 36, 36, 36, 36, 36, 36, 36, 36, 36, 36, 36, 36, 36, 36,\n",
       "       36, 36, 36, 36, 36, 36, 37, 37, 37, 37, 37, 37, 37, 37, 37, 37, 37,\n",
       "       37, 37, 37, 37, 37, 37, 37, 37, 37, 37, 37, 37, 37, 37, 37, 37, 37,\n",
       "       37, 37, 37, 37, 37, 37, 37, 37, 37, 37, 37, 37, 37, 37, 37, 37, 37,\n",
       "       37, 37, 37, 37, 37, 37, 37, 37, 37, 37, 37, 37, 37, 37, 37, 37, 37,\n",
       "       37, 37, 37, 37, 37, 37, 37, 37, 37, 37, 37, 37, 37, 37, 37, 37, 37,\n",
       "       37, 37, 37, 37, 37, 37, 37, 37, 37, 37, 37, 37, 38, 38, 38, 38, 38,\n",
       "       38, 38, 38, 38, 38, 38, 38, 38, 38, 38, 38, 38, 38, 38, 38, 38, 38,\n",
       "       38, 38, 38, 38, 38, 38, 38, 38, 38, 38, 38, 38, 38, 38, 38, 38, 38,\n",
       "       38, 38, 38, 38, 38, 38, 38, 38, 38, 38, 38, 38, 38, 38, 38, 38, 38,\n",
       "       38, 38, 38, 38, 38, 38, 38, 38, 38, 38, 38, 38, 38, 38, 38, 38, 38,\n",
       "       38, 38, 38, 38, 38, 38, 38, 38, 38, 38, 38, 38, 38, 38, 38, 38, 38,\n",
       "       38, 38, 38, 38, 38, 38, 38, 38, 38, 38, 38, 38, 38, 39, 39, 39, 39,\n",
       "       39, 39, 39, 39, 39, 39, 39, 39, 39, 39, 39, 39, 39, 39, 39, 39, 39,\n",
       "       39, 39, 39, 39, 39, 39, 39, 39, 39, 39, 39, 39, 39, 39, 39, 39, 39,\n",
       "       39, 39, 39, 39, 39, 39, 39, 39, 39, 39, 39, 39, 39, 39, 39, 39, 39,\n",
       "       39, 39, 39, 39, 39, 39, 39, 39, 39, 39, 39, 39, 39, 39, 39, 39, 39,\n",
       "       39, 39, 39, 39, 39, 39, 39, 39, 39, 39, 39, 39, 39, 39, 39, 39, 39,\n",
       "       39, 39, 39, 39, 39, 39, 39, 39, 39, 39, 39, 39, 39, 39])"
      ]
     },
     "execution_count": 62,
     "metadata": {},
     "output_type": "execute_result"
    }
   ],
   "source": [
    "sal"
   ]
  },
  {
   "cell_type": "code",
   "execution_count": 63,
   "metadata": {},
   "outputs": [],
   "source": [
    "from statistics import mode"
   ]
  },
  {
   "cell_type": "code",
   "execution_count": 65,
   "metadata": {},
   "outputs": [
    {
     "ename": "StatisticsError",
     "evalue": "no unique mode; found 2 equally common values",
     "output_type": "error",
     "traceback": [
      "\u001b[1;31m---------------------------------------------------------------------\u001b[0m",
      "\u001b[1;31mStatisticsError\u001b[0m                     Traceback (most recent call last)",
      "\u001b[1;32m<ipython-input-65-8a0e17b1806d>\u001b[0m in \u001b[0;36m<module>\u001b[1;34m\u001b[0m\n\u001b[1;32m----> 1\u001b[1;33m \u001b[0mmode\u001b[0m\u001b[1;33m(\u001b[0m\u001b[0msal\u001b[0m\u001b[1;33m)\u001b[0m\u001b[1;33m\u001b[0m\u001b[1;33m\u001b[0m\u001b[0m\n\u001b[0m",
      "\u001b[1;32mC:\\Anaconda\\lib\\statistics.py\u001b[0m in \u001b[0;36mmode\u001b[1;34m(data)\u001b[0m\n\u001b[0;32m    504\u001b[0m     \u001b[1;32melif\u001b[0m \u001b[0mtable\u001b[0m\u001b[1;33m:\u001b[0m\u001b[1;33m\u001b[0m\u001b[1;33m\u001b[0m\u001b[0m\n\u001b[0;32m    505\u001b[0m         raise StatisticsError(\n\u001b[1;32m--> 506\u001b[1;33m                 \u001b[1;34m'no unique mode; found %d equally common values'\u001b[0m \u001b[1;33m%\u001b[0m \u001b[0mlen\u001b[0m\u001b[1;33m(\u001b[0m\u001b[0mtable\u001b[0m\u001b[1;33m)\u001b[0m\u001b[1;33m\u001b[0m\u001b[1;33m\u001b[0m\u001b[0m\n\u001b[0m\u001b[0;32m    507\u001b[0m                 )\n\u001b[0;32m    508\u001b[0m     \u001b[1;32melse\u001b[0m\u001b[1;33m:\u001b[0m\u001b[1;33m\u001b[0m\u001b[1;33m\u001b[0m\u001b[0m\n",
      "\u001b[1;31mStatisticsError\u001b[0m: no unique mode; found 2 equally common values"
     ]
    }
   ],
   "source": [
    "mode(sal)"
   ]
  },
  {
   "cell_type": "code",
   "execution_count": 66,
   "metadata": {},
   "outputs": [
    {
     "data": {
      "text/plain": [
       "[10, 12, 13, 14, 14, 14, 15, 15, 16, 16, 17, 18]"
      ]
     },
     "execution_count": 66,
     "metadata": {},
     "output_type": "execute_result"
    }
   ],
   "source": [
    "ages"
   ]
  },
  {
   "cell_type": "code",
   "execution_count": 68,
   "metadata": {},
   "outputs": [
    {
     "data": {
      "text/plain": [
       "14"
      ]
     },
     "execution_count": 68,
     "metadata": {},
     "output_type": "execute_result"
    }
   ],
   "source": [
    "mode(ages)   #14 --> 3, 15 --> 2, 17 --> 2"
   ]
  },
  {
   "cell_type": "code",
   "execution_count": 74,
   "metadata": {},
   "outputs": [],
   "source": [
    "data = [5, 8, 15, 7, 10, 22, 3, 1, 15]"
   ]
  },
  {
   "cell_type": "code",
   "execution_count": 75,
   "metadata": {},
   "outputs": [
    {
     "data": {
      "text/plain": [
       "9"
      ]
     },
     "execution_count": 75,
     "metadata": {},
     "output_type": "execute_result"
    }
   ],
   "source": [
    "len(data)  ##median for odd values"
   ]
  },
  {
   "cell_type": "code",
   "execution_count": 77,
   "metadata": {},
   "outputs": [
    {
     "data": {
      "text/plain": [
       "[1, 3, 5, 7, 8, 10, 15, 15, 22]"
      ]
     },
     "execution_count": 77,
     "metadata": {},
     "output_type": "execute_result"
    }
   ],
   "source": [
    "data"
   ]
  },
  {
   "cell_type": "code",
   "execution_count": 80,
   "metadata": {},
   "outputs": [
    {
     "name": "stdout",
     "output_type": "stream",
     "text": [
      "5\n",
      "8\n"
     ]
    }
   ],
   "source": [
    "data.sort()\n",
    "n = (len(data)+1)//2\n",
    "print(n)\n",
    "median = data[n-1]\n",
    "print(median)"
   ]
  },
  {
   "cell_type": "code",
   "execution_count": 81,
   "metadata": {},
   "outputs": [],
   "source": [
    "###unimode --> if there is single mode in data , bimode if 2 modes in the data"
   ]
  },
  {
   "cell_type": "code",
   "execution_count": 1,
   "metadata": {},
   "outputs": [],
   "source": [
    "##skewness , deviation?? and why there was the need of std deviation??"
   ]
  },
  {
   "cell_type": "code",
   "execution_count": 46,
   "metadata": {},
   "outputs": [],
   "source": [
    "class Stats:\n",
    "    def __init__(self,data):\n",
    "        self.data = data\n",
    "        \n",
    "    def median(self):\n",
    "        self.data.sort()\n",
    "        if len(self.data)%2 == 0:\n",
    "            x1 = len(self.data)//2\n",
    "            x2 = (len(self.data)+2)//2\n",
    "            #print(x1,x2)\n",
    "            m1 = (self.data[x1-1] + self.data[x2-1])/2  #bcz indexing starts from zero\n",
    "        else:\n",
    "            x1 = (len(self.data)+1)//2\n",
    "            #print(x1)\n",
    "            m1 = self.data[x1-1]\n",
    "        return m1\n",
    "    def mean(self):\n",
    "        m = sum(self.data)/len(self.data)\n",
    "        return m\n",
    "    \n",
    "    def mode(self):\n",
    "        d = {}   #that will store the count for eack element\n",
    "        for i in self.data:   #iterate one by one the elements of data\n",
    "            d[i] = self.data.count(i)\n",
    "        max1 = 1\n",
    "        ele = 0\n",
    "        for key,value in d.items():\n",
    "            if max1<value:\n",
    "                max1 = value\n",
    "                ele  = key\n",
    "        # 8 - 3, 10 - 3   \n",
    "        return max1,ele"
   ]
  },
  {
   "cell_type": "code",
   "execution_count": 26,
   "metadata": {},
   "outputs": [],
   "source": [
    "from random import randint"
   ]
  },
  {
   "cell_type": "code",
   "execution_count": 37,
   "metadata": {},
   "outputs": [
    {
     "name": "stdout",
     "output_type": "stream",
     "text": [
      "[3, 6, 9, 9, 8, 3, 3, 8, 10, 8, 6, 7, 5]\n"
     ]
    }
   ],
   "source": [
    "l = [randint(1,10) for i in range(13)]\n",
    "print(l)"
   ]
  },
  {
   "cell_type": "code",
   "execution_count": 47,
   "metadata": {},
   "outputs": [],
   "source": [
    "obj = Stats(l)"
   ]
  },
  {
   "cell_type": "code",
   "execution_count": 48,
   "metadata": {},
   "outputs": [
    {
     "data": {
      "text/plain": [
       "6.538461538461538"
      ]
     },
     "execution_count": 48,
     "metadata": {},
     "output_type": "execute_result"
    }
   ],
   "source": [
    "obj.mean()"
   ]
  },
  {
   "cell_type": "code",
   "execution_count": 49,
   "metadata": {},
   "outputs": [
    {
     "data": {
      "text/plain": [
       "[3, 6, 9, 9, 8, 3, 3, 8, 10, 8, 6, 7, 5]"
      ]
     },
     "execution_count": 49,
     "metadata": {},
     "output_type": "execute_result"
    }
   ],
   "source": [
    "l"
   ]
  },
  {
   "cell_type": "code",
   "execution_count": 50,
   "metadata": {},
   "outputs": [
    {
     "data": {
      "text/plain": [
       "7"
      ]
     },
     "execution_count": 50,
     "metadata": {},
     "output_type": "execute_result"
    }
   ],
   "source": [
    "obj.median()"
   ]
  },
  {
   "cell_type": "code",
   "execution_count": 51,
   "metadata": {},
   "outputs": [
    {
     "data": {
      "text/plain": [
       "(3, 3)"
      ]
     },
     "execution_count": 51,
     "metadata": {},
     "output_type": "execute_result"
    }
   ],
   "source": [
    "obj.mode()"
   ]
  },
  {
   "cell_type": "code",
   "execution_count": 45,
   "metadata": {},
   "outputs": [
    {
     "name": "stdout",
     "output_type": "stream",
     "text": [
      "3 3\n",
      "6 2\n",
      "9 2\n",
      "8 3\n",
      "10 1\n",
      "7 1\n",
      "5 1\n"
     ]
    }
   ],
   "source": [
    "m = 3,ele = 3\n",
    "for key,value in d.items():\n",
    "    print(key,value)"
   ]
  },
  {
   "cell_type": "code",
   "execution_count": null,
   "metadata": {},
   "outputs": [],
   "source": []
  }
 ],
 "metadata": {
  "kernelspec": {
   "display_name": "Python 3",
   "language": "python",
   "name": "python3"
  },
  "language_info": {
   "codemirror_mode": {
    "name": "ipython",
    "version": 3
   },
   "file_extension": ".py",
   "mimetype": "text/x-python",
   "name": "python",
   "nbconvert_exporter": "python",
   "pygments_lexer": "ipython3",
   "version": "3.7.4"
  }
 },
 "nbformat": 4,
 "nbformat_minor": 2
}
