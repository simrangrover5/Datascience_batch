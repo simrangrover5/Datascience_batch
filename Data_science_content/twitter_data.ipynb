{
 "cells": [
  {
   "cell_type": "code",
   "execution_count": 1,
   "metadata": {},
   "outputs": [],
   "source": [
    "import pandas as pd\n",
    "import matplotlib.pyplot as plt\n",
    "import numpy as np\n",
    "import seaborn as sns"
   ]
  },
  {
   "cell_type": "code",
   "execution_count": 2,
   "metadata": {},
   "outputs": [],
   "source": [
    "data = sns.load_dataset(\"tips\")"
   ]
  },
  {
   "cell_type": "code",
   "execution_count": 9,
   "metadata": {},
   "outputs": [
    {
     "data": {
      "text/plain": [
       "<matplotlib.axes._subplots.AxesSubplot at 0x1ba16d2c088>"
      ]
     },
     "execution_count": 9,
     "metadata": {},
     "output_type": "execute_result"
    },
    {
     "data": {
      "image/png": "[encoded data removed]",
      "text/plain": [
       "<Figure size 432x288 with 1 Axes>"
      ]
     },
     "metadata": {
      "needs_background": "light"
     },
     "output_type": "display_data"
    }
   ],
   "source": [
    "sns.distplot(data['tip'],hist_kws={\"ec\":'red','color':'white'},bins=30,kde_kws={\"color\":'green'})"
   ]
  },
  {
   "cell_type": "code",
   "execution_count": 10,
   "metadata": {},
   "outputs": [
    {
     "name": "stdout",
     "output_type": "stream",
     "text": [
      "Requirement already satisfied: tweepy in c:\\anaconda\\lib\\site-packages (3.8.0)\n",
      "Requirement already satisfied: requests-oauthlib>=0.7.0 in c:\\anaconda\\lib\\site-packages (from tweepy) (1.3.0)\n",
      "Requirement already satisfied: requests>=2.11.1 in c:\\anaconda\\lib\\site-packages (from tweepy) (2.22.0)\n",
      "Requirement already satisfied: PySocks>=1.5.7 in c:\\anaconda\\lib\\site-packages (from tweepy) (1.7.1)\n",
      "Requirement already satisfied: six>=1.10.0 in c:\\anaconda\\lib\\site-packages (from tweepy) (1.12.0)\n",
      "Requirement already satisfied: oauthlib>=3.0.0 in c:\\anaconda\\lib\\site-packages (from requests-oauthlib>=0.7.0->tweepy) (3.1.0)\n",
      "Requirement already satisfied: urllib3!=1.25.0,!=1.25.1,<1.26,>=1.21.1 in c:\\anaconda\\lib\\site-packages (from requests>=2.11.1->tweepy) (1.24.2)\n",
      "Requirement already satisfied: certifi>=2017.4.17 in c:\\anaconda\\lib\\site-packages (from requests>=2.11.1->tweepy) (2019.9.11)\n",
      "Requirement already satisfied: idna<2.9,>=2.5 in c:\\anaconda\\lib\\site-packages (from requests>=2.11.1->tweepy) (2.8)\n",
      "Requirement already satisfied: chardet<3.1.0,>=3.0.2 in c:\\anaconda\\lib\\site-packages (from requests>=2.11.1->tweepy) (3.0.4)\n"
     ]
    }
   ],
   "source": [
    "!pip install tweepy"
   ]
  },
  {
   "cell_type": "code",
   "execution_count": 11,
   "metadata": {},
   "outputs": [],
   "source": [
    "#twitter analysis , topic , #tags , country, \n",
    "#ml sentiment analysis --> tweet (+ve) (-ve)"
   ]
  },
  {
   "cell_type": "code",
   "execution_count": 12,
   "metadata": {},
   "outputs": [],
   "source": [
    "#Oauth --> autherization and authentication"
   ]
  },
  {
   "cell_type": "code",
   "execution_count": 13,
   "metadata": {},
   "outputs": [],
   "source": [
    "access_key = \"1547458398-00ATQ97AtsFcNOCC1Aim5GTDZdDZtB6Sp1LPejk\"\n",
    "access_token = \"AHVXRYykLcSK42EVaODUcEcnQvyEpEO6t2S5Fs1yluWLa\"\n",
    "\n",
    "customer_key = \"Mwt59uh4b45jZ7S8fwD7ZPUVl\"\n",
    "customter_token = \"CGMGK5DwE4pCoVHBf9kjpi532C0dRJAwDUo5YE5PJvKZ2mKKE3\""
   ]
  },
  {
   "cell_type": "code",
   "execution_count": 14,
   "metadata": {},
   "outputs": [],
   "source": [
    "#tweepy module is used to use twitter api (with get method as well as post method)\n",
    "#it provides the stream class whose object can be used for streaming\n",
    "#streaming can be used to get data till all the tweets has not come and if it fetches the tweets and then it will wait\n",
    "#for another tweet and fetch it your script"
   ]
  },
  {
   "cell_type": "code",
   "execution_count": 15,
   "metadata": {},
   "outputs": [],
   "source": [
    "import tweepy\n",
    "from tweepy import OAuthHandler,Stream,StreamListener\n"
   ]
  },
  {
   "cell_type": "code",
   "execution_count": 16,
   "metadata": {},
   "outputs": [],
   "source": [
    "auth = OAuthHandler(customer_key,customter_token)"
   ]
  },
  {
   "cell_type": "code",
   "execution_count": 17,
   "metadata": {},
   "outputs": [],
   "source": [
    "auth.set_access_token(access_key,access_token)"
   ]
  },
  {
   "cell_type": "code",
   "execution_count": 18,
   "metadata": {},
   "outputs": [],
   "source": [
    "api = tweepy.API(auth)"
   ]
  },
  {
   "cell_type": "code",
   "execution_count": 19,
   "metadata": {},
   "outputs": [
    {
     "data": {
      "text/plain": [
       "Status(_api=<tweepy.api.API object at 0x000001BA17A266C8>, _json={'created_at': 'Mon Jun 15 11:15:08 +0000 2020', 'id': 1272487802861576194, 'id_str': '1272487802861576194', 'text': 'Stay AT home be safe', 'truncated': False, 'entities': {'hashtags': [], 'symbols': [], 'user_mentions': [], 'urls': []}, 'source': '<a href=\"https://www.example.com\" rel=\"nofollow\">NehalApp</a>', 'in_reply_to_status_id': None, 'in_reply_to_status_id_str': None, 'in_reply_to_user_id': None, 'in_reply_to_user_id_str': None, 'in_reply_to_screen_name': None, 'user': {'id': 1547458398, 'id_str': '1547458398', 'name': 'nehal bhagat', 'screen_name': 'nehalbhagat94', 'location': 'India', 'description': '', 'url': None, 'entities': {'description': {'urls': []}}, 'protected': False, 'followers_count': 6, 'friends_count': 337, 'listed_count': 0, 'created_at': 'Wed Jun 26 06:29:38 +0000 2013', 'favourites_count': 1430, 'utc_offset': None, 'time_zone': None, 'geo_enabled': False, 'verified': False, 'statuses_count': 14, 'lang': None, 'contributors_enabled': False, 'is_translator': False, 'is_translation_enabled': False, 'profile_background_color': '000000', 'profile_background_image_url': 'http://abs.twimg.com/images/themes/theme1/bg.png', 'profile_background_image_url_https': 'https://abs.twimg.com/images/themes/theme1/bg.png', 'profile_background_tile': False, 'profile_image_url': 'http://pbs.twimg.com/profile_images/854000034517360640/fkyiZPnk_normal.jpg', 'profile_image_url_https': 'https://pbs.twimg.com/profile_images/854000034517360640/fkyiZPnk_normal.jpg', 'profile_link_color': 'E81C4F', 'profile_sidebar_border_color': '000000', 'profile_sidebar_fill_color': '000000', 'profile_text_color': '000000', 'profile_use_background_image': False, 'has_extended_profile': True, 'default_profile': False, 'default_profile_image': False, 'following': False, 'follow_request_sent': False, 'notifications': False, 'translator_type': 'none'}, 'geo': None, 'coordinates': None, 'place': None, 'contributors': None, 'is_quote_status': False, 'retweet_count': 0, 'favorite_count': 0, 'favorited': False, 'retweeted': False, 'lang': 'en'}, created_at=datetime.datetime(2020, 6, 15, 11, 15, 8), id=1272487802861576194, id_str='1272487802861576194', text='Stay AT home be safe', truncated=False, entities={'hashtags': [], 'symbols': [], 'user_mentions': [], 'urls': []}, source='NehalApp', source_url='https://www.example.com', in_reply_to_status_id=None, in_reply_to_status_id_str=None, in_reply_to_user_id=None, in_reply_to_user_id_str=None, in_reply_to_screen_name=None, author=User(_api=<tweepy.api.API object at 0x000001BA17A266C8>, _json={'id': 1547458398, 'id_str': '1547458398', 'name': 'nehal bhagat', 'screen_name': 'nehalbhagat94', 'location': 'India', 'description': '', 'url': None, 'entities': {'description': {'urls': []}}, 'protected': False, 'followers_count': 6, 'friends_count': 337, 'listed_count': 0, 'created_at': 'Wed Jun 26 06:29:38 +0000 2013', 'favourites_count': 1430, 'utc_offset': None, 'time_zone': None, 'geo_enabled': False, 'verified': False, 'statuses_count': 14, 'lang': None, 'contributors_enabled': False, 'is_translator': False, 'is_translation_enabled': False, 'profile_background_color': '000000', 'profile_background_image_url': 'http://abs.twimg.com/images/themes/theme1/bg.png', 'profile_background_image_url_https': 'https://abs.twimg.com/images/themes/theme1/bg.png', 'profile_background_tile': False, 'profile_image_url': 'http://pbs.twimg.com/profile_images/854000034517360640/fkyiZPnk_normal.jpg', 'profile_image_url_https': 'https://pbs.twimg.com/profile_images/854000034517360640/fkyiZPnk_normal.jpg', 'profile_link_color': 'E81C4F', 'profile_sidebar_border_color': '000000', 'profile_sidebar_fill_color': '000000', 'profile_text_color': '000000', 'profile_use_background_image': False, 'has_extended_profile': True, 'default_profile': False, 'default_profile_image': False, 'following': False, 'follow_request_sent': False, 'notifications': False, 'translator_type': 'none'}, id=1547458398, id_str='1547458398', name='nehal bhagat', screen_name='nehalbhagat94', location='India', description='', url=None, entities={'description': {'urls': []}}, protected=False, followers_count=6, friends_count=337, listed_count=0, created_at=datetime.datetime(2013, 6, 26, 6, 29, 38), favourites_count=1430, utc_offset=None, time_zone=None, geo_enabled=False, verified=False, statuses_count=14, lang=None, contributors_enabled=False, is_translator=False, is_translation_enabled=False, profile_background_color='000000', profile_background_image_url='http://abs.twimg.com/images/themes/theme1/bg.png', profile_background_image_url_https='https://abs.twimg.com/images/themes/theme1/bg.png', profile_background_tile=False, profile_image_url='http://pbs.twimg.com/profile_images/854000034517360640/fkyiZPnk_normal.jpg', profile_image_url_https='https://pbs.twimg.com/profile_images/854000034517360640/fkyiZPnk_normal.jpg', profile_link_color='E81C4F', profile_sidebar_border_color='000000', profile_sidebar_fill_color='000000', profile_text_color='000000', profile_use_background_image=False, has_extended_profile=True, default_profile=False, default_profile_image=False, following=False, follow_request_sent=False, notifications=False, translator_type='none'), user=User(_api=<tweepy.api.API object at 0x000001BA17A266C8>, _json={'id': 1547458398, 'id_str': '1547458398', 'name': 'nehal bhagat', 'screen_name': 'nehalbhagat94', 'location': 'India', 'description': '', 'url': None, 'entities': {'description': {'urls': []}}, 'protected': False, 'followers_count': 6, 'friends_count': 337, 'listed_count': 0, 'created_at': 'Wed Jun 26 06:29:38 +0000 2013', 'favourites_count': 1430, 'utc_offset': None, 'time_zone': None, 'geo_enabled': False, 'verified': False, 'statuses_count': 14, 'lang': None, 'contributors_enabled': False, 'is_translator': False, 'is_translation_enabled': False, 'profile_background_color': '000000', 'profile_background_image_url': 'http://abs.twimg.com/images/themes/theme1/bg.png', 'profile_background_image_url_https': 'https://abs.twimg.com/images/themes/theme1/bg.png', 'profile_background_tile': False, 'profile_image_url': 'http://pbs.twimg.com/profile_images/854000034517360640/fkyiZPnk_normal.jpg', 'profile_image_url_https': 'https://pbs.twimg.com/profile_images/854000034517360640/fkyiZPnk_normal.jpg', 'profile_link_color': 'E81C4F', 'profile_sidebar_border_color': '000000', 'profile_sidebar_fill_color': '000000', 'profile_text_color': '000000', 'profile_use_background_image': False, 'has_extended_profile': True, 'default_profile': False, 'default_profile_image': False, 'following': False, 'follow_request_sent': False, 'notifications': False, 'translator_type': 'none'}, id=1547458398, id_str='1547458398', name='nehal bhagat', screen_name='nehalbhagat94', location='India', description='', url=None, entities={'description': {'urls': []}}, protected=False, followers_count=6, friends_count=337, listed_count=0, created_at=datetime.datetime(2013, 6, 26, 6, 29, 38), favourites_count=1430, utc_offset=None, time_zone=None, geo_enabled=False, verified=False, statuses_count=14, lang=None, contributors_enabled=False, is_translator=False, is_translation_enabled=False, profile_background_color='000000', profile_background_image_url='http://abs.twimg.com/images/themes/theme1/bg.png', profile_background_image_url_https='https://abs.twimg.com/images/themes/theme1/bg.png', profile_background_tile=False, profile_image_url='http://pbs.twimg.com/profile_images/854000034517360640/fkyiZPnk_normal.jpg', profile_image_url_https='https://pbs.twimg.com/profile_images/854000034517360640/fkyiZPnk_normal.jpg', profile_link_color='E81C4F', profile_sidebar_border_color='000000', profile_sidebar_fill_color='000000', profile_text_color='000000', profile_use_background_image=False, has_extended_profile=True, default_profile=False, default_profile_image=False, following=False, follow_request_sent=False, notifications=False, translator_type='none'), geo=None, coordinates=None, place=None, contributors=None, is_quote_status=False, retweet_count=0, favorite_count=0, favorited=False, retweeted=False, lang='en')"
      ]
     },
     "execution_count": 19,
     "metadata": {},
     "output_type": "execute_result"
    }
   ],
   "source": [
    "api.update_status(\"Stay AT home be safe\")   #http --> method??? post method which will send the data to your twitter account\n",
    "#update_status --> will add your tweet into your account"
   ]
  },
  {
   "cell_type": "code",
   "execution_count": 20,
   "metadata": {},
   "outputs": [
    {
     "data": {
      "text/plain": [
       "User(_api=<tweepy.api.API object at 0x000001BA17A266C8>, _json={'id': 1547458398, 'id_str': '1547458398', 'name': 'nehal bhagat', 'screen_name': 'nehalbhagat94', 'location': 'India', 'profile_location': {'id': 'b850c1bfd38f30e0', 'url': 'https://api.twitter.com/1.1/geo/id/b850c1bfd38f30e0.json', 'place_type': 'unknown', 'name': 'India', 'full_name': 'India', 'country_code': '', 'country': '', 'contained_within': [], 'bounding_box': None, 'attributes': {}}, 'description': '', 'url': None, 'entities': {'description': {'urls': []}}, 'protected': False, 'followers_count': 6, 'friends_count': 337, 'listed_count': 0, 'created_at': 'Wed Jun 26 06:29:38 +0000 2013', 'favourites_count': 1430, 'utc_offset': None, 'time_zone': None, 'geo_enabled': False, 'verified': False, 'statuses_count': 14, 'lang': None, 'status': {'created_at': 'Mon Jun 15 11:15:08 +0000 2020', 'id': 1272487802861576194, 'id_str': '1272487802861576194', 'text': 'Stay AT home be safe', 'truncated': False, 'entities': {'hashtags': [], 'symbols': [], 'user_mentions': [], 'urls': []}, 'source': '<a href=\"https://www.example.com\" rel=\"nofollow\">NehalApp</a>', 'in_reply_to_status_id': None, 'in_reply_to_status_id_str': None, 'in_reply_to_user_id': None, 'in_reply_to_user_id_str': None, 'in_reply_to_screen_name': None, 'geo': None, 'coordinates': None, 'place': None, 'contributors': None, 'is_quote_status': False, 'retweet_count': 0, 'favorite_count': 0, 'favorited': False, 'retweeted': False, 'lang': 'en'}, 'contributors_enabled': False, 'is_translator': False, 'is_translation_enabled': False, 'profile_background_color': '000000', 'profile_background_image_url': 'http://abs.twimg.com/images/themes/theme1/bg.png', 'profile_background_image_url_https': 'https://abs.twimg.com/images/themes/theme1/bg.png', 'profile_background_tile': False, 'profile_image_url': 'http://pbs.twimg.com/profile_images/854000034517360640/fkyiZPnk_normal.jpg', 'profile_image_url_https': 'https://pbs.twimg.com/profile_images/854000034517360640/fkyiZPnk_normal.jpg', 'profile_link_color': 'E81C4F', 'profile_sidebar_border_color': '000000', 'profile_sidebar_fill_color': '000000', 'profile_text_color': '000000', 'profile_use_background_image': False, 'has_extended_profile': True, 'default_profile': False, 'default_profile_image': False, 'following': False, 'follow_request_sent': False, 'notifications': False, 'translator_type': 'none', 'suspended': False, 'needs_phone_verification': False}, id=1547458398, id_str='1547458398', name='nehal bhagat', screen_name='nehalbhagat94', location='India', profile_location={'id': 'b850c1bfd38f30e0', 'url': 'https://api.twitter.com/1.1/geo/id/b850c1bfd38f30e0.json', 'place_type': 'unknown', 'name': 'India', 'full_name': 'India', 'country_code': '', 'country': '', 'contained_within': [], 'bounding_box': None, 'attributes': {}}, description='', url=None, entities={'description': {'urls': []}}, protected=False, followers_count=6, friends_count=337, listed_count=0, created_at=datetime.datetime(2013, 6, 26, 6, 29, 38), favourites_count=1430, utc_offset=None, time_zone=None, geo_enabled=False, verified=False, statuses_count=14, lang=None, status=Status(_api=<tweepy.api.API object at 0x000001BA17A266C8>, _json={'created_at': 'Mon Jun 15 11:15:08 +0000 2020', 'id': 1272487802861576194, 'id_str': '1272487802861576194', 'text': 'Stay AT home be safe', 'truncated': False, 'entities': {'hashtags': [], 'symbols': [], 'user_mentions': [], 'urls': []}, 'source': '<a href=\"https://www.example.com\" rel=\"nofollow\">NehalApp</a>', 'in_reply_to_status_id': None, 'in_reply_to_status_id_str': None, 'in_reply_to_user_id': None, 'in_reply_to_user_id_str': None, 'in_reply_to_screen_name': None, 'geo': None, 'coordinates': None, 'place': None, 'contributors': None, 'is_quote_status': False, 'retweet_count': 0, 'favorite_count': 0, 'favorited': False, 'retweeted': False, 'lang': 'en'}, created_at=datetime.datetime(2020, 6, 15, 11, 15, 8), id=1272487802861576194, id_str='1272487802861576194', text='Stay AT home be safe', truncated=False, entities={'hashtags': [], 'symbols': [], 'user_mentions': [], 'urls': []}, source='NehalApp', source_url='https://www.example.com', in_reply_to_status_id=None, in_reply_to_status_id_str=None, in_reply_to_user_id=None, in_reply_to_user_id_str=None, in_reply_to_screen_name=None, geo=None, coordinates=None, place=None, contributors=None, is_quote_status=False, retweet_count=0, favorite_count=0, favorited=False, retweeted=False, lang='en'), contributors_enabled=False, is_translator=False, is_translation_enabled=False, profile_background_color='000000', profile_background_image_url='http://abs.twimg.com/images/themes/theme1/bg.png', profile_background_image_url_https='https://abs.twimg.com/images/themes/theme1/bg.png', profile_background_tile=False, profile_image_url='http://pbs.twimg.com/profile_images/854000034517360640/fkyiZPnk_normal.jpg', profile_image_url_https='https://pbs.twimg.com/profile_images/854000034517360640/fkyiZPnk_normal.jpg', profile_link_color='E81C4F', profile_sidebar_border_color='000000', profile_sidebar_fill_color='000000', profile_text_color='000000', profile_use_background_image=False, has_extended_profile=True, default_profile=False, default_profile_image=False, following=False, follow_request_sent=False, notifications=False, translator_type='none', suspended=False, needs_phone_verification=False)"
      ]
     },
     "execution_count": 20,
     "metadata": {},
     "output_type": "execute_result"
    }
   ],
   "source": [
    "api.get_user(\"nehalbhagat94\")"
   ]
  },
  {
   "cell_type": "code",
   "execution_count": 21,
   "metadata": {},
   "outputs": [
    {
     "name": "stdout",
     "output_type": "stream",
     "text": [
      "\n",
      " Enter user name whose details you want to see : ani\n",
      "User(_api=<tweepy.api.API object at 0x000001BA17A266C8>, _json={'id': 355989081, 'id_str': '355989081', 'name': 'ANI', 'screen_name': 'ANI', 'location': 'India', 'profile_location': None, 'description': 'Asian News International. Multi-media news agency, content for information platforms: TV, Internet, broadband, newspapers, mobiles https://t.co/PjGRhL4qvg', 'url': 'http://t.co/sFNGg4bASa', 'entities': {'url': {'urls': [{'url': 'http://t.co/sFNGg4bASa', 'expanded_url': 'http://www.aninews.in', 'display_url': 'aninews.in', 'indices': [0, 22]}]}, 'description': {'urls': [{'url': 'https://t.co/PjGRhL4qvg', 'expanded_url': 'http://facebook.com/ANINEWS.IN', 'display_url': 'facebook.com/ANINEWS.IN', 'indices': [131, 154]}]}}, 'protected': False, 'followers_count': 4205789, 'friends_count': 0, 'listed_count': 4324, 'created_at': 'Tue Aug 16 05:23:41 +0000 2011', 'favourites_count': 0, 'utc_offset': None, 'time_zone': None, 'geo_enabled': True, 'verified': True, 'statuses_count': 406671, 'lang': None, 'status': {'created_at': 'Mon Jun 15 11:20:41 +0000 2020', 'id': 1272489200353292295, 'id_str': '1272489200353292295', 'text': 'I appeal to workers of all political parties to ensure that decisions taken by the Central Government in the intere… https://t.co/y6mXtKVF8M', 'truncated': True, 'entities': {'hashtags': [], 'symbols': [], 'user_mentions': [], 'urls': [{'url': 'https://t.co/y6mXtKVF8M', 'expanded_url': 'https://twitter.com/i/web/status/1272489200353292295', 'display_url': 'twitter.com/i/web/status/1…', 'indices': [117, 140]}]}, 'source': '<a href=\"https://mobile.twitter.com\" rel=\"nofollow\">Twitter Web App</a>', 'in_reply_to_status_id': None, 'in_reply_to_status_id_str': None, 'in_reply_to_user_id': None, 'in_reply_to_user_id_str': None, 'in_reply_to_screen_name': None, 'geo': None, 'coordinates': None, 'place': None, 'contributors': None, 'is_quote_status': False, 'retweet_count': 0, 'favorite_count': 0, 'favorited': False, 'retweeted': False, 'possibly_sensitive': False, 'lang': 'en'}, 'contributors_enabled': False, 'is_translator': False, 'is_translation_enabled': False, 'profile_background_color': '131516', 'profile_background_image_url': 'http://abs.twimg.com/images/themes/theme14/bg.gif', 'profile_background_image_url_https': 'https://abs.twimg.com/images/themes/theme14/bg.gif', 'profile_background_tile': True, 'profile_image_url': 'http://pbs.twimg.com/profile_images/1497864299/ani_mic_logo_normal.jpg', 'profile_image_url_https': 'https://pbs.twimg.com/profile_images/1497864299/ani_mic_logo_normal.jpg', 'profile_banner_url': 'https://pbs.twimg.com/profile_banners/355989081/1591340773', 'profile_link_color': '009999', 'profile_sidebar_border_color': 'EEEEEE', 'profile_sidebar_fill_color': 'EFEFEF', 'profile_text_color': '333333', 'profile_use_background_image': True, 'has_extended_profile': False, 'default_profile': False, 'default_profile_image': False, 'following': True, 'follow_request_sent': False, 'notifications': True, 'translator_type': 'none'}, id=355989081, id_str='355989081', name='ANI', screen_name='ANI', location='India', profile_location=None, description='Asian News International. Multi-media news agency, content for information platforms: TV, Internet, broadband, newspapers, mobiles https://t.co/PjGRhL4qvg', url='http://t.co/sFNGg4bASa', entities={'url': {'urls': [{'url': 'http://t.co/sFNGg4bASa', 'expanded_url': 'http://www.aninews.in', 'display_url': 'aninews.in', 'indices': [0, 22]}]}, 'description': {'urls': [{'url': 'https://t.co/PjGRhL4qvg', 'expanded_url': 'http://facebook.com/ANINEWS.IN', 'display_url': 'facebook.com/ANINEWS.IN', 'indices': [131, 154]}]}}, protected=False, followers_count=4205789, friends_count=0, listed_count=4324, created_at=datetime.datetime(2011, 8, 16, 5, 23, 41), favourites_count=0, utc_offset=None, time_zone=None, geo_enabled=True, verified=True, statuses_count=406671, lang=None, status=Status(_api=<tweepy.api.API object at 0x000001BA17A266C8>, _json={'created_at': 'Mon Jun 15 11:20:41 +0000 2020', 'id': 1272489200353292295, 'id_str': '1272489200353292295', 'text': 'I appeal to workers of all political parties to ensure that decisions taken by the Central Government in the intere… https://t.co/y6mXtKVF8M', 'truncated': True, 'entities': {'hashtags': [], 'symbols': [], 'user_mentions': [], 'urls': [{'url': 'https://t.co/y6mXtKVF8M', 'expanded_url': 'https://twitter.com/i/web/status/1272489200353292295', 'display_url': 'twitter.com/i/web/status/1…', 'indices': [117, 140]}]}, 'source': '<a href=\"https://mobile.twitter.com\" rel=\"nofollow\">Twitter Web App</a>', 'in_reply_to_status_id': None, 'in_reply_to_status_id_str': None, 'in_reply_to_user_id': None, 'in_reply_to_user_id_str': None, 'in_reply_to_screen_name': None, 'geo': None, 'coordinates': None, 'place': None, 'contributors': None, 'is_quote_status': False, 'retweet_count': 0, 'favorite_count': 0, 'favorited': False, 'retweeted': False, 'possibly_sensitive': False, 'lang': 'en'}, created_at=datetime.datetime(2020, 6, 15, 11, 20, 41), id=1272489200353292295, id_str='1272489200353292295', text='I appeal to workers of all political parties to ensure that decisions taken by the Central Government in the intere… https://t.co/y6mXtKVF8M', truncated=True, entities={'hashtags': [], 'symbols': [], 'user_mentions': [], 'urls': [{'url': 'https://t.co/y6mXtKVF8M', 'expanded_url': 'https://twitter.com/i/web/status/1272489200353292295', 'display_url': 'twitter.com/i/web/status/1…', 'indices': [117, 140]}]}, source='Twitter Web App', source_url='https://mobile.twitter.com', in_reply_to_status_id=None, in_reply_to_status_id_str=None, in_reply_to_user_id=None, in_reply_to_user_id_str=None, in_reply_to_screen_name=None, geo=None, coordinates=None, place=None, contributors=None, is_quote_status=False, retweet_count=0, favorite_count=0, favorited=False, retweeted=False, possibly_sensitive=False, lang='en'), contributors_enabled=False, is_translator=False, is_translation_enabled=False, profile_background_color='131516', profile_background_image_url='http://abs.twimg.com/images/themes/theme14/bg.gif', profile_background_image_url_https='https://abs.twimg.com/images/themes/theme14/bg.gif', profile_background_tile=True, profile_image_url='http://pbs.twimg.com/profile_images/1497864299/ani_mic_logo_normal.jpg', profile_image_url_https='https://pbs.twimg.com/profile_images/1497864299/ani_mic_logo_normal.jpg', profile_banner_url='https://pbs.twimg.com/profile_banners/355989081/1591340773', profile_link_color='009999', profile_sidebar_border_color='EEEEEE', profile_sidebar_fill_color='EFEFEF', profile_text_color='333333', profile_use_background_image=True, has_extended_profile=False, default_profile=False, default_profile_image=False, following=True, follow_request_sent=False, notifications=True, translator_type='none')\n"
     ]
    }
   ],
   "source": [
    "user = input(\"\\n Enter user name whose details you want to see : \")\n",
    "u = api.get_user(user)\n",
    "print(u)"
   ]
  },
  {
   "cell_type": "code",
   "execution_count": 25,
   "metadata": {},
   "outputs": [
    {
     "data": {
      "text/plain": [
       "dict"
      ]
     },
     "execution_count": 25,
     "metadata": {},
     "output_type": "execute_result"
    }
   ],
   "source": [
    "type(u._json)"
   ]
  },
  {
   "cell_type": "code",
   "execution_count": 32,
   "metadata": {},
   "outputs": [],
   "source": [
    "data = u._json\n",
    "location = data['location']\n",
    "des = data['description']\n",
    "name = data['name']\n",
    "urls = data.get(\"entities\").get(\"url\")\n",
    "lang = data.get(\"lang\")\n",
    "profile_img = data.get(\"profile_image_url\")"
   ]
  },
  {
   "cell_type": "code",
   "execution_count": 31,
   "metadata": {},
   "outputs": [
    {
     "data": {
      "text/plain": [
       "{'urls': [{'url': 'http://t.co/sFNGg4bASa',\n",
       "   'expanded_url': 'http://www.aninews.in',\n",
       "   'display_url': 'aninews.in',\n",
       "   'indices': [0, 22]}]}"
      ]
     },
     "execution_count": 31,
     "metadata": {},
     "output_type": "execute_result"
    }
   ],
   "source": [
    "urls"
   ]
  },
  {
   "cell_type": "code",
   "execution_count": 27,
   "metadata": {},
   "outputs": [
    {
     "data": {
      "text/plain": [
       "{'id': 355989081,\n",
       " 'id_str': '355989081',\n",
       " 'name': 'ANI',\n",
       " 'screen_name': 'ANI',\n",
       " 'location': 'India',\n",
       " 'profile_location': None,\n",
       " 'description': 'Asian News International. Multi-media news agency, content for information platforms: TV, Internet, broadband, newspapers, mobiles https://t.co/PjGRhL4qvg',\n",
       " 'url': 'http://t.co/sFNGg4bASa',\n",
       " 'entities': {'url': {'urls': [{'url': 'http://t.co/sFNGg4bASa',\n",
       "     'expanded_url': 'http://www.aninews.in',\n",
       "     'display_url': 'aninews.in',\n",
       "     'indices': [0, 22]}]},\n",
       "  'description': {'urls': [{'url': 'https://t.co/PjGRhL4qvg',\n",
       "     'expanded_url': 'http://facebook.com/ANINEWS.IN',\n",
       "     'display_url': 'facebook.com/ANINEWS.IN',\n",
       "     'indices': [131, 154]}]}},\n",
       " 'protected': False,\n",
       " 'followers_count': 4205789,\n",
       " 'friends_count': 0,\n",
       " 'listed_count': 4324,\n",
       " 'created_at': 'Tue Aug 16 05:23:41 +0000 2011',\n",
       " 'favourites_count': 0,\n",
       " 'utc_offset': None,\n",
       " 'time_zone': None,\n",
       " 'geo_enabled': True,\n",
       " 'verified': True,\n",
       " 'statuses_count': 406671,\n",
       " 'lang': None,\n",
       " 'status': {'created_at': 'Mon Jun 15 11:20:41 +0000 2020',\n",
       "  'id': 1272489200353292295,\n",
       "  'id_str': '1272489200353292295',\n",
       "  'text': 'I appeal to workers of all political parties to ensure that decisions taken by the Central Government in the intere… https://t.co/y6mXtKVF8M',\n",
       "  'truncated': True,\n",
       "  'entities': {'hashtags': [],\n",
       "   'symbols': [],\n",
       "   'user_mentions': [],\n",
       "   'urls': [{'url': 'https://t.co/y6mXtKVF8M',\n",
       "     'expanded_url': 'https://twitter.com/i/web/status/1272489200353292295',\n",
       "     'display_url': 'twitter.com/i/web/status/1…',\n",
       "     'indices': [117, 140]}]},\n",
       "  'source': '<a href=\"https://mobile.twitter.com\" rel=\"nofollow\">Twitter Web App</a>',\n",
       "  'in_reply_to_status_id': None,\n",
       "  'in_reply_to_status_id_str': None,\n",
       "  'in_reply_to_user_id': None,\n",
       "  'in_reply_to_user_id_str': None,\n",
       "  'in_reply_to_screen_name': None,\n",
       "  'geo': None,\n",
       "  'coordinates': None,\n",
       "  'place': None,\n",
       "  'contributors': None,\n",
       "  'is_quote_status': False,\n",
       "  'retweet_count': 0,\n",
       "  'favorite_count': 0,\n",
       "  'favorited': False,\n",
       "  'retweeted': False,\n",
       "  'possibly_sensitive': False,\n",
       "  'lang': 'en'},\n",
       " 'contributors_enabled': False,\n",
       " 'is_translator': False,\n",
       " 'is_translation_enabled': False,\n",
       " 'profile_background_color': '131516',\n",
       " 'profile_background_image_url': 'http://abs.twimg.com/images/themes/theme14/bg.gif',\n",
       " 'profile_background_image_url_https': 'https://abs.twimg.com/images/themes/theme14/bg.gif',\n",
       " 'profile_background_tile': True,\n",
       " 'profile_image_url': 'http://pbs.twimg.com/profile_images/1497864299/ani_mic_logo_normal.jpg',\n",
       " 'profile_image_url_https': 'https://pbs.twimg.com/profile_images/1497864299/ani_mic_logo_normal.jpg',\n",
       " 'profile_banner_url': 'https://pbs.twimg.com/profile_banners/355989081/1591340773',\n",
       " 'profile_link_color': '009999',\n",
       " 'profile_sidebar_border_color': 'EEEEEE',\n",
       " 'profile_sidebar_fill_color': 'EFEFEF',\n",
       " 'profile_text_color': '333333',\n",
       " 'profile_use_background_image': True,\n",
       " 'has_extended_profile': False,\n",
       " 'default_profile': False,\n",
       " 'default_profile_image': False,\n",
       " 'following': True,\n",
       " 'follow_request_sent': False,\n",
       " 'notifications': True,\n",
       " 'translator_type': 'none'}"
      ]
     },
     "execution_count": 27,
     "metadata": {},
     "output_type": "execute_result"
    }
   ],
   "source": [
    "data"
   ]
  },
  {
   "cell_type": "code",
   "execution_count": 36,
   "metadata": {},
   "outputs": [
    {
     "name": "stdout",
     "output_type": "stream",
     "text": [
      "\n",
      " Enter user name : karanjohar\n",
      "\n",
      " Details of user is \n",
      "********************************************************************************\n",
      "\n",
      " Name :  Karan Johar\n",
      "\n",
      " Location :  Maharashtra, India\n",
      "\n",
      " Description :  Roohi aur Yash ka papa! Hiroo aur Yash ka beta....\n",
      "\n",
      " Urls :  {'urls': [{'url': 'https://t.co/xbfJvWoD5T', 'expanded_url': 'https://twitter.com/karanjohar', 'display_url': 'twitter.com/karanjohar', 'indices': [0, 23]}]}\n",
      "\n",
      " Language :  None\n",
      "\n",
      " Profile Image :  http://pbs.twimg.com/profile_images/1262634699970588672/fqhw05nc_normal.jpg\n",
      "********************************************************************************\n"
     ]
    }
   ],
   "source": [
    "def get_user(username): \n",
    "    u = api.get_user(username)\n",
    "    data = u._json\n",
    "    location = data['location']\n",
    "    des = data['description']\n",
    "    name = data['name']\n",
    "    urls = data.get(\"entities\").get(\"url\")\n",
    "    lang = data.get(\"lang\")\n",
    "    profile_img = data.get(\"profile_image_url\")\n",
    "    print(\"\\n Details of user is \")\n",
    "    print(\"*\"*80)\n",
    "    print(\"\\n Name : \",name)\n",
    "    print(\"\\n Location : \",location)\n",
    "    print(\"\\n Description : \",des)\n",
    "    print(\"\\n Urls : \",urls)\n",
    "    print(\"\\n Language : \",lang)\n",
    "    print(\"\\n Profile Image : \",profile_img)\n",
    "    print(\"*\"*80)\n",
    "    \n",
    "u = input(\"\\n Enter user name : \")\n",
    "get_user(u)"
   ]
  },
  {
   "cell_type": "code",
   "execution_count": 38,
   "metadata": {},
   "outputs": [],
   "source": [
    "u = api.get_user(\"Ani\")"
   ]
  },
  {
   "cell_type": "code",
   "execution_count": 39,
   "metadata": {},
   "outputs": [
    {
     "name": "stdout",
     "output_type": "stream",
     "text": [
      "['__class__', '__delattr__', '__dict__', '__dir__', '__doc__', '__eq__', '__format__', '__ge__', '__getattribute__', '__getstate__', '__gt__', '__hash__', '__init__', '__init_subclass__', '__le__', '__lt__', '__module__', '__ne__', '__new__', '__reduce__', '__reduce_ex__', '__repr__', '__setattr__', '__sizeof__', '__str__', '__subclasshook__', '__weakref__', '_api', '_json', 'contributors_enabled', 'created_at', 'default_profile', 'default_profile_image', 'description', 'entities', 'favourites_count', 'follow', 'follow_request_sent', 'followers', 'followers_count', 'followers_ids', 'following', 'friends', 'friends_count', 'geo_enabled', 'has_extended_profile', 'id', 'id_str', 'is_translation_enabled', 'is_translator', 'lang', 'listed_count', 'lists', 'lists_memberships', 'lists_subscriptions', 'location', 'name', 'notifications', 'parse', 'parse_list', 'profile_background_color', 'profile_background_image_url', 'profile_background_image_url_https', 'profile_background_tile', 'profile_banner_url', 'profile_image_url', 'profile_image_url_https', 'profile_link_color', 'profile_location', 'profile_sidebar_border_color', 'profile_sidebar_fill_color', 'profile_text_color', 'profile_use_background_image', 'protected', 'screen_name', 'status', 'statuses_count', 'time_zone', 'timeline', 'translator_type', 'unfollow', 'url', 'utc_offset', 'verified']\n"
     ]
    }
   ],
   "source": [
    "print(dir(u))"
   ]
  },
  {
   "cell_type": "code",
   "execution_count": 48,
   "metadata": {},
   "outputs": [
    {
     "name": "stdout",
     "output_type": "stream",
     "text": [
      "25\n"
     ]
    }
   ],
   "source": [
    "print(len(u.timeline()[0]._json))"
   ]
  },
  {
   "cell_type": "code",
   "execution_count": 52,
   "metadata": {},
   "outputs": [
    {
     "data": {
      "text/plain": [
       "User(_api=<tweepy.api.API object at 0x000001BA17A266C8>, _json={'id': 1272491462421184512, 'id_str': '1272491462421184512', 'name': 'Tejas kanse 333', 'screen_name': '333Kanse', 'location': '', 'description': '', 'url': None, 'entities': {'description': {'urls': []}}, 'protected': False, 'followers_count': 0, 'friends_count': 31, 'listed_count': 0, 'created_at': 'Mon Jun 15 11:30:06 +0000 2020', 'favourites_count': 0, 'utc_offset': None, 'time_zone': None, 'geo_enabled': False, 'verified': False, 'statuses_count': 0, 'lang': None, 'contributors_enabled': False, 'is_translator': False, 'is_translation_enabled': False, 'profile_background_color': 'F5F8FA', 'profile_background_image_url': None, 'profile_background_image_url_https': None, 'profile_background_tile': False, 'profile_image_url': 'http://abs.twimg.com/sticky/default_profile_images/default_profile_normal.png', 'profile_image_url_https': 'https://abs.twimg.com/sticky/default_profile_images/default_profile_normal.png', 'profile_link_color': '1DA1F2', 'profile_sidebar_border_color': 'C0DEED', 'profile_sidebar_fill_color': 'DDEEF6', 'profile_text_color': '333333', 'profile_use_background_image': True, 'has_extended_profile': False, 'default_profile': True, 'default_profile_image': True, 'following': False, 'live_following': False, 'follow_request_sent': False, 'notifications': False, 'muting': False, 'blocking': False, 'blocked_by': False, 'translator_type': 'none'}, id=1272491462421184512, id_str='1272491462421184512', name='Tejas kanse 333', screen_name='333Kanse', location='', description='', url=None, entities={'description': {'urls': []}}, protected=False, followers_count=0, friends_count=31, listed_count=0, created_at=datetime.datetime(2020, 6, 15, 11, 30, 6), favourites_count=0, utc_offset=None, time_zone=None, geo_enabled=False, verified=False, statuses_count=0, lang=None, contributors_enabled=False, is_translator=False, is_translation_enabled=False, profile_background_color='F5F8FA', profile_background_image_url=None, profile_background_image_url_https=None, profile_background_tile=False, profile_image_url='http://abs.twimg.com/sticky/default_profile_images/default_profile_normal.png', profile_image_url_https='https://abs.twimg.com/sticky/default_profile_images/default_profile_normal.png', profile_link_color='1DA1F2', profile_sidebar_border_color='C0DEED', profile_sidebar_fill_color='DDEEF6', profile_text_color='333333', profile_use_background_image=True, has_extended_profile=False, default_profile=True, default_profile_image=True, following=False, live_following=False, follow_request_sent=False, notifications=False, muting=False, blocking=False, blocked_by=False, translator_type='none')"
      ]
     },
     "execution_count": 52,
     "metadata": {},
     "output_type": "execute_result"
    }
   ],
   "source": [
    "u.followers()[0]"
   ]
  },
  {
   "cell_type": "code",
   "execution_count": 54,
   "metadata": {},
   "outputs": [
    {
     "name": "stdout",
     "output_type": "stream",
     "text": [
      "\n",
      " Enter user name : ani\n",
      "\n",
      " Details of user is \n",
      "********************************************************************************\n",
      "\n",
      " Name :  ANI\n",
      "\n",
      " Location :  India\n",
      "\n",
      " Description :  Asian News International. Multi-media news agency, content for information platforms: TV, Internet, broadband, newspapers, mobiles https://t.co/PjGRhL4qvg\n",
      "\n",
      " Urls :  {'urls': [{'url': 'http://t.co/sFNGg4bASa', 'expanded_url': 'http://www.aninews.in', 'display_url': 'aninews.in', 'indices': [0, 22]}]}\n",
      "\n",
      " Language :  None\n",
      "\n",
      " Profile Image :  http://pbs.twimg.com/profile_images/1497864299/ani_mic_logo_normal.jpg\n",
      "********************************************************************************\n",
      "\n",
      " DO you want it's followers : yes\n",
      "\n",
      " Name :  {'id': 1271797249580822528, 'id_str': '1271797249580822528', 'name': 'ankit singh', 'screen_name': 'ankitsi63110888', 'location': '', 'description': 'software engineer', 'url': None, 'entities': {'description': {'urls': []}}, 'protected': False, 'followers_count': 2, 'friends_count': 49, 'listed_count': 0, 'created_at': 'Sat Jun 13 13:31:25 +0000 2020', 'favourites_count': 0, 'utc_offset': None, 'time_zone': None, 'geo_enabled': False, 'verified': False, 'statuses_count': 0, 'lang': None, 'contributors_enabled': False, 'is_translator': False, 'is_translation_enabled': False, 'profile_background_color': 'F5F8FA', 'profile_background_image_url': None, 'profile_background_image_url_https': None, 'profile_background_tile': False, 'profile_image_url': 'http://pbs.twimg.com/profile_images/1271797485325828096/D2er2p_n_normal.jpg', 'profile_image_url_https': 'https://pbs.twimg.com/profile_images/1271797485325828096/D2er2p_n_normal.jpg', 'profile_link_color': '1DA1F2', 'profile_sidebar_border_color': 'C0DEED', 'profile_sidebar_fill_color': 'DDEEF6', 'profile_text_color': '333333', 'profile_use_background_image': True, 'has_extended_profile': False, 'default_profile': True, 'default_profile_image': False, 'following': False, 'live_following': False, 'follow_request_sent': False, 'notifications': False, 'muting': False, 'blocking': False, 'blocked_by': False, 'translator_type': 'none'}\n"
     ]
    }
   ],
   "source": [
    "def get_user(username): \n",
    "    u = api.get_user(username)\n",
    "    data = u._json\n",
    "    location = data['location']\n",
    "    des = data['description']\n",
    "    name = data['name']\n",
    "    urls = data.get(\"entities\").get(\"url\")\n",
    "    lang = data.get(\"lang\")\n",
    "    profile_img = data.get(\"profile_image_url\")\n",
    "    print(\"\\n Details of user is \")\n",
    "    print(\"*\"*80)\n",
    "    print(\"\\n Name : \",name)\n",
    "    print(\"\\n Location : \",location)\n",
    "    print(\"\\n Description : \",des)\n",
    "    print(\"\\n Urls : \",urls)\n",
    "    print(\"\\n Language : \",lang)\n",
    "    print(\"\\n Profile Image : \",profile_img)\n",
    "    print(\"*\"*80)\n",
    "    ch = input(\"\\n DO you want it's followers : \")\n",
    "    if ch == \"yes\":\n",
    "        #num = int(input(\"\\n Enter total number of followers : \"))\n",
    "        #for i in range(num):\n",
    "        data = u.followers()[0]._json\n",
    "        #name = data['name']\n",
    "        print(\"\\n Name : \",data)\n",
    "\n",
    "u = input(\"\\n Enter user name : \")\n",
    "get_user(u)"
   ]
  },
  {
   "cell_type": "code",
   "execution_count": null,
   "metadata": {},
   "outputs": [],
   "source": []
  }
 ],
 "metadata": {
  "kernelspec": {
   "display_name": "Python 3",
   "language": "python",
   "name": "python3"
  },
  "language_info": {
   "codemirror_mode": {
    "name": "ipython",
    "version": 3
   },
   "file_extension": ".py",
   "mimetype": "text/x-python",
   "name": "python",
   "nbconvert_exporter": "python",
   "pygments_lexer": "ipython3",
   "version": "3.7.4"
  }
 },
 "nbformat": 4,
 "nbformat_minor": 2
}
