{
 "cells": [
  {
   "cell_type": "code",
   "execution_count": 1,
   "metadata": {},
   "outputs": [
    {
     "name": "stdout",
     "output_type": "stream",
     "text": [
      "\n",
      "\n",
      "SERVER IS READY TO LISTEN....\n"
     ]
    }
   ],
   "source": [
    "import socket\n",
    "\n",
    "server_socket = socket.socket(socket.AF_INET,socket.SOCK_STREAM)  #(IP4,TCP protocol) #creating socket\n",
    "ip = \"127.0.0.1\"\n",
    "port = 1234\n",
    "\n",
    "server_socket.bind((ip,port))  #binding the server\n",
    "\n",
    "server_socket.listen()  #ready to listen\n",
    "print(\"\\n\\nSERVER IS READY TO LISTEN....\")\n",
    "\n",
    "client_socket,client_address = server_socket.accept()  #accepting the client request\n",
    "#print(client_socket)\n",
    "#print(client_address)\n",
    "head = client_socket.recv(1024).decode()  #recieving data from client side either it will bring both head and body part or only head part if there is no data\n",
    "#print(head.split())\n",
    "path = head.split()[1]\n",
    "\n",
    "resp1 = \"\"\"Http/1.1 200 OK\n",
    "Content-Type : text/html\n",
    "\n",
    "\n",
    "<html>\n",
    "<body>\n",
    "<h1 style='color:red'>THis is my domain page</h1>\n",
    "</body>\n",
    "</html>\n",
    "\"\"\"\n",
    "\n",
    "resp4 = \"\"\"Http/1.1 200 OK\n",
    "Content-Type : text/html\n",
    "\n",
    "\n",
    "<html>\n",
    "<body>\n",
    "<h1 style='color:blue'>No request handle for this path</h1>\n",
    "<img src ='three.png'>\n",
    "</body>\n",
    "</html>\n",
    "\"\"\"\n",
    "\n",
    "if path == \"/\":\n",
    "    client_socket.send(resp1.encode())\n",
    "#/ --> html\n",
    "#/data --> html\n",
    "#/page --> html\n",
    "\n",
    "elif path == \"/data\":\n",
    "    client_socket.send(resp2.encode())\n",
    "\n",
    "elif path  == \"/page\":\n",
    "    client_socket.send(resp3.encode())\n",
    "    \n",
    "else:\n",
    "    client_socket.send(resp4.encode())\n",
    "    "
   ]
  },
  {
   "cell_type": "code",
   "execution_count": 13,
   "metadata": {},
   "outputs": [],
   "source": [
    "#make file sharing using sockets"
   ]
  },
  {
   "cell_type": "code",
   "execution_count": null,
   "metadata": {},
   "outputs": [],
   "source": []
  }
 ],
 "metadata": {
  "kernelspec": {
   "display_name": "Python 3",
   "language": "python",
   "name": "python3"
  },
  "language_info": {
   "codemirror_mode": {
    "name": "ipython",
    "version": 3
   },
   "file_extension": ".py",
   "mimetype": "text/x-python",
   "name": "python",
   "nbconvert_exporter": "python",
   "pygments_lexer": "ipython3",
   "version": "3.7.4"
  }
 },
 "nbformat": 4,
 "nbformat_minor": 2
}
