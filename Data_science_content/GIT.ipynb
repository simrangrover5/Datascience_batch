{
 "cells": [
  {
   "cell_type": "markdown",
   "metadata": {},
   "source": [
    "    GIT\n",
    "    \n",
    "        Version Control System\n",
    "        \n",
    "        hello.txt --> Hello world (V1)\n",
    "        hello.txt (edit) --> Hello World (V2)\n",
    "                            How are You\n",
    "                            \n",
    "        benefits:\n",
    "            The track of each version\n",
    "            (date) (changes) \n",
    "            \n",
    "            This can be use undo the changes\n",
    "            To track the files\n",
    "            History\n",
    "            \n",
    "        Version Control System are of two types:\n",
    "        \n",
    "            1. Central Version Control System (CVCS)\n",
    "                2-tier architecture\n",
    "            2. Distributes Version Control System(DVCS)\n",
    "                GIT\n",
    "                3-tier architecture\n",
    "            "
   ]
  },
  {
   "cell_type": "markdown",
   "metadata": {},
   "source": [
    "    Tree like structure\n",
    "    \n",
    "                root\n",
    "              /   \\    \\\n",
    "           B1     B2    B3\n",
    "        / | \\    / | \\   | \\\n",
    "        \n",
    "        \n",
    "       Root --> Repository(folder1)\n",
    "       B1 --> one.txt\n",
    "       B2 --> one.txt\n",
    "       B3 --> one.txt"
   ]
  },
  {
   "cell_type": "markdown",
   "metadata": {},
   "source": [
    "    Git Bash --> commands\n",
    "    Powershell --> commands (environment variable is set)"
   ]
  },
  {
   "cell_type": "code",
   "execution_count": null,
   "metadata": {},
   "outputs": [],
   "source": []
  }
 ],
 "metadata": {
  "kernelspec": {
   "display_name": "Python 3",
   "language": "python",
   "name": "python3"
  },
  "language_info": {
   "codemirror_mode": {
    "name": "ipython",
    "version": 3
   },
   "file_extension": ".py",
   "mimetype": "text/x-python",
   "name": "python",
   "nbconvert_exporter": "python",
   "pygments_lexer": "ipython3",
   "version": "3.7.4"
  }
 },
 "nbformat": 4,
 "nbformat_minor": 2
}
