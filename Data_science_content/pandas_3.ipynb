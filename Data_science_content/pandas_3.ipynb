{
 "cells": [
  {
   "cell_type": "code",
   "execution_count": 1,
   "metadata": {},
   "outputs": [],
   "source": [
    "import pandas as pd\n",
    "import matplotlib.pyplot as plt\n",
    "import numpy as np"
   ]
  },
  {
   "cell_type": "code",
   "execution_count": 5,
   "metadata": {},
   "outputs": [],
   "source": [
    "df = pd.DataFrame({\n",
    "    'Name' : ['nehal','padmani','ayush','ravi','manish','ayushi','tushar','rahul','rohan'],\n",
    "    'Maths' : np.random.randint(50,100,9),\n",
    "    'Science' : np.random.randint(50,100,9),\n",
    "    'English' : np.random.randint(50,100,9),\n",
    "    'History' : np.random.randint(50,100,9),\n",
    "    'Hindi' : np.random.randint(50,100,9)\n",
    "})"
   ]
  },
  {
   "cell_type": "code",
   "execution_count": 6,
   "metadata": {},
   "outputs": [
    {
     "data": {
      "text/html": [
       "<div>\n",
       "<style scoped>\n",
       "    .dataframe tbody tr th:only-of-type {\n",
       "        vertical-align: middle;\n",
       "    }\n",
       "\n",
       "    .dataframe tbody tr th {\n",
       "        vertical-align: top;\n",
       "    }\n",
       "\n",
       "    .dataframe thead th {\n",
       "        text-align: right;\n",
       "    }\n",
       "</style>\n",
       "<table border=\"1\" class=\"dataframe\">\n",
       "  <thead>\n",
       "    <tr style=\"text-align: right;\">\n",
       "      <th></th>\n",
       "      <th>Name</th>\n",
       "      <th>Maths</th>\n",
       "      <th>Science</th>\n",
       "      <th>English</th>\n",
       "      <th>History</th>\n",
       "      <th>Hindi</th>\n",
       "    </tr>\n",
       "  </thead>\n",
       "  <tbody>\n",
       "    <tr>\n",
       "      <td>0</td>\n",
       "      <td>nehal</td>\n",
       "      <td>67</td>\n",
       "      <td>73</td>\n",
       "      <td>59</td>\n",
       "      <td>58</td>\n",
       "      <td>67</td>\n",
       "    </tr>\n",
       "    <tr>\n",
       "      <td>1</td>\n",
       "      <td>padmani</td>\n",
       "      <td>58</td>\n",
       "      <td>79</td>\n",
       "      <td>57</td>\n",
       "      <td>85</td>\n",
       "      <td>93</td>\n",
       "    </tr>\n",
       "    <tr>\n",
       "      <td>2</td>\n",
       "      <td>ayush</td>\n",
       "      <td>71</td>\n",
       "      <td>67</td>\n",
       "      <td>97</td>\n",
       "      <td>98</td>\n",
       "      <td>77</td>\n",
       "    </tr>\n",
       "    <tr>\n",
       "      <td>3</td>\n",
       "      <td>ravi</td>\n",
       "      <td>56</td>\n",
       "      <td>58</td>\n",
       "      <td>80</td>\n",
       "      <td>85</td>\n",
       "      <td>51</td>\n",
       "    </tr>\n",
       "    <tr>\n",
       "      <td>4</td>\n",
       "      <td>manish</td>\n",
       "      <td>69</td>\n",
       "      <td>77</td>\n",
       "      <td>81</td>\n",
       "      <td>76</td>\n",
       "      <td>95</td>\n",
       "    </tr>\n",
       "    <tr>\n",
       "      <td>5</td>\n",
       "      <td>ayushi</td>\n",
       "      <td>89</td>\n",
       "      <td>70</td>\n",
       "      <td>50</td>\n",
       "      <td>68</td>\n",
       "      <td>91</td>\n",
       "    </tr>\n",
       "    <tr>\n",
       "      <td>6</td>\n",
       "      <td>tushar</td>\n",
       "      <td>50</td>\n",
       "      <td>77</td>\n",
       "      <td>62</td>\n",
       "      <td>93</td>\n",
       "      <td>61</td>\n",
       "    </tr>\n",
       "    <tr>\n",
       "      <td>7</td>\n",
       "      <td>rahul</td>\n",
       "      <td>96</td>\n",
       "      <td>56</td>\n",
       "      <td>76</td>\n",
       "      <td>57</td>\n",
       "      <td>53</td>\n",
       "    </tr>\n",
       "    <tr>\n",
       "      <td>8</td>\n",
       "      <td>rohan</td>\n",
       "      <td>99</td>\n",
       "      <td>84</td>\n",
       "      <td>70</td>\n",
       "      <td>88</td>\n",
       "      <td>60</td>\n",
       "    </tr>\n",
       "  </tbody>\n",
       "</table>\n",
       "</div>"
      ],
      "text/plain": [
       "      Name  Maths  Science  English  History  Hindi\n",
       "0    nehal     67       73       59       58     67\n",
       "1  padmani     58       79       57       85     93\n",
       "2    ayush     71       67       97       98     77\n",
       "3     ravi     56       58       80       85     51\n",
       "4   manish     69       77       81       76     95\n",
       "5   ayushi     89       70       50       68     91\n",
       "6   tushar     50       77       62       93     61\n",
       "7    rahul     96       56       76       57     53\n",
       "8    rohan     99       84       70       88     60"
      ]
     },
     "execution_count": 6,
     "metadata": {},
     "output_type": "execute_result"
    }
   ],
   "source": [
    "df"
   ]
  },
  {
   "cell_type": "code",
   "execution_count": 7,
   "metadata": {},
   "outputs": [],
   "source": [
    "df.index = df['Name']"
   ]
  },
  {
   "cell_type": "code",
   "execution_count": 8,
   "metadata": {},
   "outputs": [
    {
     "data": {
      "text/html": [
       "<div>\n",
       "<style scoped>\n",
       "    .dataframe tbody tr th:only-of-type {\n",
       "        vertical-align: middle;\n",
       "    }\n",
       "\n",
       "    .dataframe tbody tr th {\n",
       "        vertical-align: top;\n",
       "    }\n",
       "\n",
       "    .dataframe thead th {\n",
       "        text-align: right;\n",
       "    }\n",
       "</style>\n",
       "<table border=\"1\" class=\"dataframe\">\n",
       "  <thead>\n",
       "    <tr style=\"text-align: right;\">\n",
       "      <th></th>\n",
       "      <th>Name</th>\n",
       "      <th>Maths</th>\n",
       "      <th>Science</th>\n",
       "      <th>English</th>\n",
       "      <th>History</th>\n",
       "      <th>Hindi</th>\n",
       "    </tr>\n",
       "    <tr>\n",
       "      <th>Name</th>\n",
       "      <th></th>\n",
       "      <th></th>\n",
       "      <th></th>\n",
       "      <th></th>\n",
       "      <th></th>\n",
       "      <th></th>\n",
       "    </tr>\n",
       "  </thead>\n",
       "  <tbody>\n",
       "    <tr>\n",
       "      <td>nehal</td>\n",
       "      <td>nehal</td>\n",
       "      <td>67</td>\n",
       "      <td>73</td>\n",
       "      <td>59</td>\n",
       "      <td>58</td>\n",
       "      <td>67</td>\n",
       "    </tr>\n",
       "    <tr>\n",
       "      <td>padmani</td>\n",
       "      <td>padmani</td>\n",
       "      <td>58</td>\n",
       "      <td>79</td>\n",
       "      <td>57</td>\n",
       "      <td>85</td>\n",
       "      <td>93</td>\n",
       "    </tr>\n",
       "    <tr>\n",
       "      <td>ayush</td>\n",
       "      <td>ayush</td>\n",
       "      <td>71</td>\n",
       "      <td>67</td>\n",
       "      <td>97</td>\n",
       "      <td>98</td>\n",
       "      <td>77</td>\n",
       "    </tr>\n",
       "    <tr>\n",
       "      <td>ravi</td>\n",
       "      <td>ravi</td>\n",
       "      <td>56</td>\n",
       "      <td>58</td>\n",
       "      <td>80</td>\n",
       "      <td>85</td>\n",
       "      <td>51</td>\n",
       "    </tr>\n",
       "    <tr>\n",
       "      <td>manish</td>\n",
       "      <td>manish</td>\n",
       "      <td>69</td>\n",
       "      <td>77</td>\n",
       "      <td>81</td>\n",
       "      <td>76</td>\n",
       "      <td>95</td>\n",
       "    </tr>\n",
       "    <tr>\n",
       "      <td>ayushi</td>\n",
       "      <td>ayushi</td>\n",
       "      <td>89</td>\n",
       "      <td>70</td>\n",
       "      <td>50</td>\n",
       "      <td>68</td>\n",
       "      <td>91</td>\n",
       "    </tr>\n",
       "    <tr>\n",
       "      <td>tushar</td>\n",
       "      <td>tushar</td>\n",
       "      <td>50</td>\n",
       "      <td>77</td>\n",
       "      <td>62</td>\n",
       "      <td>93</td>\n",
       "      <td>61</td>\n",
       "    </tr>\n",
       "    <tr>\n",
       "      <td>rahul</td>\n",
       "      <td>rahul</td>\n",
       "      <td>96</td>\n",
       "      <td>56</td>\n",
       "      <td>76</td>\n",
       "      <td>57</td>\n",
       "      <td>53</td>\n",
       "    </tr>\n",
       "    <tr>\n",
       "      <td>rohan</td>\n",
       "      <td>rohan</td>\n",
       "      <td>99</td>\n",
       "      <td>84</td>\n",
       "      <td>70</td>\n",
       "      <td>88</td>\n",
       "      <td>60</td>\n",
       "    </tr>\n",
       "  </tbody>\n",
       "</table>\n",
       "</div>"
      ],
      "text/plain": [
       "            Name  Maths  Science  English  History  Hindi\n",
       "Name                                                     \n",
       "nehal      nehal     67       73       59       58     67\n",
       "padmani  padmani     58       79       57       85     93\n",
       "ayush      ayush     71       67       97       98     77\n",
       "ravi        ravi     56       58       80       85     51\n",
       "manish    manish     69       77       81       76     95\n",
       "ayushi    ayushi     89       70       50       68     91\n",
       "tushar    tushar     50       77       62       93     61\n",
       "rahul      rahul     96       56       76       57     53\n",
       "rohan      rohan     99       84       70       88     60"
      ]
     },
     "execution_count": 8,
     "metadata": {},
     "output_type": "execute_result"
    }
   ],
   "source": [
    "df"
   ]
  },
  {
   "cell_type": "code",
   "execution_count": 9,
   "metadata": {},
   "outputs": [
    {
     "data": {
      "text/html": [
       "<div>\n",
       "<style scoped>\n",
       "    .dataframe tbody tr th:only-of-type {\n",
       "        vertical-align: middle;\n",
       "    }\n",
       "\n",
       "    .dataframe tbody tr th {\n",
       "        vertical-align: top;\n",
       "    }\n",
       "\n",
       "    .dataframe thead th {\n",
       "        text-align: right;\n",
       "    }\n",
       "</style>\n",
       "<table border=\"1\" class=\"dataframe\">\n",
       "  <thead>\n",
       "    <tr style=\"text-align: right;\">\n",
       "      <th></th>\n",
       "      <th>Maths</th>\n",
       "      <th>Science</th>\n",
       "      <th>English</th>\n",
       "      <th>History</th>\n",
       "      <th>Hindi</th>\n",
       "    </tr>\n",
       "    <tr>\n",
       "      <th>Name</th>\n",
       "      <th></th>\n",
       "      <th></th>\n",
       "      <th></th>\n",
       "      <th></th>\n",
       "      <th></th>\n",
       "    </tr>\n",
       "  </thead>\n",
       "  <tbody>\n",
       "    <tr>\n",
       "      <td>nehal</td>\n",
       "      <td>67</td>\n",
       "      <td>73</td>\n",
       "      <td>59</td>\n",
       "      <td>58</td>\n",
       "      <td>67</td>\n",
       "    </tr>\n",
       "    <tr>\n",
       "      <td>padmani</td>\n",
       "      <td>58</td>\n",
       "      <td>79</td>\n",
       "      <td>57</td>\n",
       "      <td>85</td>\n",
       "      <td>93</td>\n",
       "    </tr>\n",
       "    <tr>\n",
       "      <td>ayush</td>\n",
       "      <td>71</td>\n",
       "      <td>67</td>\n",
       "      <td>97</td>\n",
       "      <td>98</td>\n",
       "      <td>77</td>\n",
       "    </tr>\n",
       "    <tr>\n",
       "      <td>ravi</td>\n",
       "      <td>56</td>\n",
       "      <td>58</td>\n",
       "      <td>80</td>\n",
       "      <td>85</td>\n",
       "      <td>51</td>\n",
       "    </tr>\n",
       "    <tr>\n",
       "      <td>manish</td>\n",
       "      <td>69</td>\n",
       "      <td>77</td>\n",
       "      <td>81</td>\n",
       "      <td>76</td>\n",
       "      <td>95</td>\n",
       "    </tr>\n",
       "    <tr>\n",
       "      <td>ayushi</td>\n",
       "      <td>89</td>\n",
       "      <td>70</td>\n",
       "      <td>50</td>\n",
       "      <td>68</td>\n",
       "      <td>91</td>\n",
       "    </tr>\n",
       "    <tr>\n",
       "      <td>tushar</td>\n",
       "      <td>50</td>\n",
       "      <td>77</td>\n",
       "      <td>62</td>\n",
       "      <td>93</td>\n",
       "      <td>61</td>\n",
       "    </tr>\n",
       "    <tr>\n",
       "      <td>rahul</td>\n",
       "      <td>96</td>\n",
       "      <td>56</td>\n",
       "      <td>76</td>\n",
       "      <td>57</td>\n",
       "      <td>53</td>\n",
       "    </tr>\n",
       "    <tr>\n",
       "      <td>rohan</td>\n",
       "      <td>99</td>\n",
       "      <td>84</td>\n",
       "      <td>70</td>\n",
       "      <td>88</td>\n",
       "      <td>60</td>\n",
       "    </tr>\n",
       "  </tbody>\n",
       "</table>\n",
       "</div>"
      ],
      "text/plain": [
       "         Maths  Science  English  History  Hindi\n",
       "Name                                            \n",
       "nehal       67       73       59       58     67\n",
       "padmani     58       79       57       85     93\n",
       "ayush       71       67       97       98     77\n",
       "ravi        56       58       80       85     51\n",
       "manish      69       77       81       76     95\n",
       "ayushi      89       70       50       68     91\n",
       "tushar      50       77       62       93     61\n",
       "rahul       96       56       76       57     53\n",
       "rohan       99       84       70       88     60"
      ]
     },
     "execution_count": 9,
     "metadata": {},
     "output_type": "execute_result"
    }
   ],
   "source": [
    "df.drop('Name',axis=1)"
   ]
  },
  {
   "cell_type": "code",
   "execution_count": 12,
   "metadata": {},
   "outputs": [
    {
     "ename": "KeyError",
     "evalue": "\"['Name'] not found in axis\"",
     "output_type": "error",
     "traceback": [
      "\u001b[1;31m---------------------------------------------------------------------\u001b[0m",
      "\u001b[1;31mKeyError\u001b[0m                            Traceback (most recent call last)",
      "\u001b[1;32m<ipython-input-12-a360f9ce07ba>\u001b[0m in \u001b[0;36m<module>\u001b[1;34m\u001b[0m\n\u001b[1;32m----> 1\u001b[1;33m \u001b[0mdf\u001b[0m\u001b[1;33m.\u001b[0m\u001b[0mdrop\u001b[0m\u001b[1;33m(\u001b[0m\u001b[1;34m'Name'\u001b[0m\u001b[1;33m)\u001b[0m  \u001b[1;31m#by default it find the name index in axis 0 i.e row\u001b[0m\u001b[1;33m\u001b[0m\u001b[1;33m\u001b[0m\u001b[0m\n\u001b[0m",
      "\u001b[1;32mC:\\Anaconda\\lib\\site-packages\\pandas\\core\\frame.py\u001b[0m in \u001b[0;36mdrop\u001b[1;34m(self, labels, axis, index, columns, level, inplace, errors)\u001b[0m\n\u001b[0;32m   4100\u001b[0m             \u001b[0mlevel\u001b[0m\u001b[1;33m=\u001b[0m\u001b[0mlevel\u001b[0m\u001b[1;33m,\u001b[0m\u001b[1;33m\u001b[0m\u001b[1;33m\u001b[0m\u001b[0m\n\u001b[0;32m   4101\u001b[0m             \u001b[0minplace\u001b[0m\u001b[1;33m=\u001b[0m\u001b[0minplace\u001b[0m\u001b[1;33m,\u001b[0m\u001b[1;33m\u001b[0m\u001b[1;33m\u001b[0m\u001b[0m\n\u001b[1;32m-> 4102\u001b[1;33m             \u001b[0merrors\u001b[0m\u001b[1;33m=\u001b[0m\u001b[0merrors\u001b[0m\u001b[1;33m,\u001b[0m\u001b[1;33m\u001b[0m\u001b[1;33m\u001b[0m\u001b[0m\n\u001b[0m\u001b[0;32m   4103\u001b[0m         )\n\u001b[0;32m   4104\u001b[0m \u001b[1;33m\u001b[0m\u001b[0m\n",
      "\u001b[1;32mC:\\Anaconda\\lib\\site-packages\\pandas\\core\\generic.py\u001b[0m in \u001b[0;36mdrop\u001b[1;34m(self, labels, axis, index, columns, level, inplace, errors)\u001b[0m\n\u001b[0;32m   3912\u001b[0m         \u001b[1;32mfor\u001b[0m \u001b[0maxis\u001b[0m\u001b[1;33m,\u001b[0m \u001b[0mlabels\u001b[0m \u001b[1;32min\u001b[0m \u001b[0maxes\u001b[0m\u001b[1;33m.\u001b[0m\u001b[0mitems\u001b[0m\u001b[1;33m(\u001b[0m\u001b[1;33m)\u001b[0m\u001b[1;33m:\u001b[0m\u001b[1;33m\u001b[0m\u001b[1;33m\u001b[0m\u001b[0m\n\u001b[0;32m   3913\u001b[0m             \u001b[1;32mif\u001b[0m \u001b[0mlabels\u001b[0m \u001b[1;32mis\u001b[0m \u001b[1;32mnot\u001b[0m \u001b[1;32mNone\u001b[0m\u001b[1;33m:\u001b[0m\u001b[1;33m\u001b[0m\u001b[1;33m\u001b[0m\u001b[0m\n\u001b[1;32m-> 3914\u001b[1;33m                 \u001b[0mobj\u001b[0m \u001b[1;33m=\u001b[0m \u001b[0mobj\u001b[0m\u001b[1;33m.\u001b[0m\u001b[0m_drop_axis\u001b[0m\u001b[1;33m(\u001b[0m\u001b[0mlabels\u001b[0m\u001b[1;33m,\u001b[0m \u001b[0maxis\u001b[0m\u001b[1;33m,\u001b[0m \u001b[0mlevel\u001b[0m\u001b[1;33m=\u001b[0m\u001b[0mlevel\u001b[0m\u001b[1;33m,\u001b[0m \u001b[0merrors\u001b[0m\u001b[1;33m=\u001b[0m\u001b[0merrors\u001b[0m\u001b[1;33m)\u001b[0m\u001b[1;33m\u001b[0m\u001b[1;33m\u001b[0m\u001b[0m\n\u001b[0m\u001b[0;32m   3915\u001b[0m \u001b[1;33m\u001b[0m\u001b[0m\n\u001b[0;32m   3916\u001b[0m         \u001b[1;32mif\u001b[0m \u001b[0minplace\u001b[0m\u001b[1;33m:\u001b[0m\u001b[1;33m\u001b[0m\u001b[1;33m\u001b[0m\u001b[0m\n",
      "\u001b[1;32mC:\\Anaconda\\lib\\site-packages\\pandas\\core\\generic.py\u001b[0m in \u001b[0;36m_drop_axis\u001b[1;34m(self, labels, axis, level, errors)\u001b[0m\n\u001b[0;32m   3944\u001b[0m                 \u001b[0mnew_axis\u001b[0m \u001b[1;33m=\u001b[0m \u001b[0maxis\u001b[0m\u001b[1;33m.\u001b[0m\u001b[0mdrop\u001b[0m\u001b[1;33m(\u001b[0m\u001b[0mlabels\u001b[0m\u001b[1;33m,\u001b[0m \u001b[0mlevel\u001b[0m\u001b[1;33m=\u001b[0m\u001b[0mlevel\u001b[0m\u001b[1;33m,\u001b[0m \u001b[0merrors\u001b[0m\u001b[1;33m=\u001b[0m\u001b[0merrors\u001b[0m\u001b[1;33m)\u001b[0m\u001b[1;33m\u001b[0m\u001b[1;33m\u001b[0m\u001b[0m\n\u001b[0;32m   3945\u001b[0m             \u001b[1;32melse\u001b[0m\u001b[1;33m:\u001b[0m\u001b[1;33m\u001b[0m\u001b[1;33m\u001b[0m\u001b[0m\n\u001b[1;32m-> 3946\u001b[1;33m                 \u001b[0mnew_axis\u001b[0m \u001b[1;33m=\u001b[0m \u001b[0maxis\u001b[0m\u001b[1;33m.\u001b[0m\u001b[0mdrop\u001b[0m\u001b[1;33m(\u001b[0m\u001b[0mlabels\u001b[0m\u001b[1;33m,\u001b[0m \u001b[0merrors\u001b[0m\u001b[1;33m=\u001b[0m\u001b[0merrors\u001b[0m\u001b[1;33m)\u001b[0m\u001b[1;33m\u001b[0m\u001b[1;33m\u001b[0m\u001b[0m\n\u001b[0m\u001b[0;32m   3947\u001b[0m             \u001b[0mresult\u001b[0m \u001b[1;33m=\u001b[0m \u001b[0mself\u001b[0m\u001b[1;33m.\u001b[0m\u001b[0mreindex\u001b[0m\u001b[1;33m(\u001b[0m\u001b[1;33m**\u001b[0m\u001b[1;33m{\u001b[0m\u001b[0maxis_name\u001b[0m\u001b[1;33m:\u001b[0m \u001b[0mnew_axis\u001b[0m\u001b[1;33m}\u001b[0m\u001b[1;33m)\u001b[0m\u001b[1;33m\u001b[0m\u001b[1;33m\u001b[0m\u001b[0m\n\u001b[0;32m   3948\u001b[0m \u001b[1;33m\u001b[0m\u001b[0m\n",
      "\u001b[1;32mC:\\Anaconda\\lib\\site-packages\\pandas\\core\\indexes\\base.py\u001b[0m in \u001b[0;36mdrop\u001b[1;34m(self, labels, errors)\u001b[0m\n\u001b[0;32m   5338\u001b[0m         \u001b[1;32mif\u001b[0m \u001b[0mmask\u001b[0m\u001b[1;33m.\u001b[0m\u001b[0many\u001b[0m\u001b[1;33m(\u001b[0m\u001b[1;33m)\u001b[0m\u001b[1;33m:\u001b[0m\u001b[1;33m\u001b[0m\u001b[1;33m\u001b[0m\u001b[0m\n\u001b[0;32m   5339\u001b[0m             \u001b[1;32mif\u001b[0m \u001b[0merrors\u001b[0m \u001b[1;33m!=\u001b[0m \u001b[1;34m\"ignore\"\u001b[0m\u001b[1;33m:\u001b[0m\u001b[1;33m\u001b[0m\u001b[1;33m\u001b[0m\u001b[0m\n\u001b[1;32m-> 5340\u001b[1;33m                 \u001b[1;32mraise\u001b[0m \u001b[0mKeyError\u001b[0m\u001b[1;33m(\u001b[0m\u001b[1;34m\"{} not found in axis\"\u001b[0m\u001b[1;33m.\u001b[0m\u001b[0mformat\u001b[0m\u001b[1;33m(\u001b[0m\u001b[0mlabels\u001b[0m\u001b[1;33m[\u001b[0m\u001b[0mmask\u001b[0m\u001b[1;33m]\u001b[0m\u001b[1;33m)\u001b[0m\u001b[1;33m)\u001b[0m\u001b[1;33m\u001b[0m\u001b[1;33m\u001b[0m\u001b[0m\n\u001b[0m\u001b[0;32m   5341\u001b[0m             \u001b[0mindexer\u001b[0m \u001b[1;33m=\u001b[0m \u001b[0mindexer\u001b[0m\u001b[1;33m[\u001b[0m\u001b[1;33m~\u001b[0m\u001b[0mmask\u001b[0m\u001b[1;33m]\u001b[0m\u001b[1;33m\u001b[0m\u001b[1;33m\u001b[0m\u001b[0m\n\u001b[0;32m   5342\u001b[0m         \u001b[1;32mreturn\u001b[0m \u001b[0mself\u001b[0m\u001b[1;33m.\u001b[0m\u001b[0mdelete\u001b[0m\u001b[1;33m(\u001b[0m\u001b[0mindexer\u001b[0m\u001b[1;33m)\u001b[0m\u001b[1;33m\u001b[0m\u001b[1;33m\u001b[0m\u001b[0m\n",
      "\u001b[1;31mKeyError\u001b[0m: \"['Name'] not found in axis\""
     ]
    }
   ],
   "source": [
    "df.drop('Name')  #by default it find the name index in axis 0 i.e row"
   ]
  },
  {
   "cell_type": "code",
   "execution_count": 13,
   "metadata": {},
   "outputs": [
    {
     "data": {
      "text/html": [
       "<div>\n",
       "<style scoped>\n",
       "    .dataframe tbody tr th:only-of-type {\n",
       "        vertical-align: middle;\n",
       "    }\n",
       "\n",
       "    .dataframe tbody tr th {\n",
       "        vertical-align: top;\n",
       "    }\n",
       "\n",
       "    .dataframe thead th {\n",
       "        text-align: right;\n",
       "    }\n",
       "</style>\n",
       "<table border=\"1\" class=\"dataframe\">\n",
       "  <thead>\n",
       "    <tr style=\"text-align: right;\">\n",
       "      <th></th>\n",
       "      <th>Name</th>\n",
       "      <th>Maths</th>\n",
       "      <th>Science</th>\n",
       "      <th>English</th>\n",
       "      <th>History</th>\n",
       "      <th>Hindi</th>\n",
       "    </tr>\n",
       "    <tr>\n",
       "      <th>Name</th>\n",
       "      <th></th>\n",
       "      <th></th>\n",
       "      <th></th>\n",
       "      <th></th>\n",
       "      <th></th>\n",
       "      <th></th>\n",
       "    </tr>\n",
       "  </thead>\n",
       "  <tbody>\n",
       "    <tr>\n",
       "      <td>padmani</td>\n",
       "      <td>padmani</td>\n",
       "      <td>58</td>\n",
       "      <td>79</td>\n",
       "      <td>57</td>\n",
       "      <td>85</td>\n",
       "      <td>93</td>\n",
       "    </tr>\n",
       "    <tr>\n",
       "      <td>ayush</td>\n",
       "      <td>ayush</td>\n",
       "      <td>71</td>\n",
       "      <td>67</td>\n",
       "      <td>97</td>\n",
       "      <td>98</td>\n",
       "      <td>77</td>\n",
       "    </tr>\n",
       "    <tr>\n",
       "      <td>ravi</td>\n",
       "      <td>ravi</td>\n",
       "      <td>56</td>\n",
       "      <td>58</td>\n",
       "      <td>80</td>\n",
       "      <td>85</td>\n",
       "      <td>51</td>\n",
       "    </tr>\n",
       "    <tr>\n",
       "      <td>manish</td>\n",
       "      <td>manish</td>\n",
       "      <td>69</td>\n",
       "      <td>77</td>\n",
       "      <td>81</td>\n",
       "      <td>76</td>\n",
       "      <td>95</td>\n",
       "    </tr>\n",
       "    <tr>\n",
       "      <td>ayushi</td>\n",
       "      <td>ayushi</td>\n",
       "      <td>89</td>\n",
       "      <td>70</td>\n",
       "      <td>50</td>\n",
       "      <td>68</td>\n",
       "      <td>91</td>\n",
       "    </tr>\n",
       "    <tr>\n",
       "      <td>tushar</td>\n",
       "      <td>tushar</td>\n",
       "      <td>50</td>\n",
       "      <td>77</td>\n",
       "      <td>62</td>\n",
       "      <td>93</td>\n",
       "      <td>61</td>\n",
       "    </tr>\n",
       "    <tr>\n",
       "      <td>rahul</td>\n",
       "      <td>rahul</td>\n",
       "      <td>96</td>\n",
       "      <td>56</td>\n",
       "      <td>76</td>\n",
       "      <td>57</td>\n",
       "      <td>53</td>\n",
       "    </tr>\n",
       "    <tr>\n",
       "      <td>rohan</td>\n",
       "      <td>rohan</td>\n",
       "      <td>99</td>\n",
       "      <td>84</td>\n",
       "      <td>70</td>\n",
       "      <td>88</td>\n",
       "      <td>60</td>\n",
       "    </tr>\n",
       "  </tbody>\n",
       "</table>\n",
       "</div>"
      ],
      "text/plain": [
       "            Name  Maths  Science  English  History  Hindi\n",
       "Name                                                     \n",
       "padmani  padmani     58       79       57       85     93\n",
       "ayush      ayush     71       67       97       98     77\n",
       "ravi        ravi     56       58       80       85     51\n",
       "manish    manish     69       77       81       76     95\n",
       "ayushi    ayushi     89       70       50       68     91\n",
       "tushar    tushar     50       77       62       93     61\n",
       "rahul      rahul     96       56       76       57     53\n",
       "rohan      rohan     99       84       70       88     60"
      ]
     },
     "execution_count": 13,
     "metadata": {},
     "output_type": "execute_result"
    }
   ],
   "source": [
    "df.drop('nehal')  #returns the df after dropping the particular "
   ]
  },
  {
   "cell_type": "code",
   "execution_count": 14,
   "metadata": {},
   "outputs": [],
   "source": [
    "df.drop('Name',axis=1,inplace=True)"
   ]
  },
  {
   "cell_type": "code",
   "execution_count": 15,
   "metadata": {},
   "outputs": [
    {
     "data": {
      "text/html": [
       "<div>\n",
       "<style scoped>\n",
       "    .dataframe tbody tr th:only-of-type {\n",
       "        vertical-align: middle;\n",
       "    }\n",
       "\n",
       "    .dataframe tbody tr th {\n",
       "        vertical-align: top;\n",
       "    }\n",
       "\n",
       "    .dataframe thead th {\n",
       "        text-align: right;\n",
       "    }\n",
       "</style>\n",
       "<table border=\"1\" class=\"dataframe\">\n",
       "  <thead>\n",
       "    <tr style=\"text-align: right;\">\n",
       "      <th></th>\n",
       "      <th>Maths</th>\n",
       "      <th>Science</th>\n",
       "      <th>English</th>\n",
       "      <th>History</th>\n",
       "      <th>Hindi</th>\n",
       "    </tr>\n",
       "    <tr>\n",
       "      <th>Name</th>\n",
       "      <th></th>\n",
       "      <th></th>\n",
       "      <th></th>\n",
       "      <th></th>\n",
       "      <th></th>\n",
       "    </tr>\n",
       "  </thead>\n",
       "  <tbody>\n",
       "    <tr>\n",
       "      <td>nehal</td>\n",
       "      <td>67</td>\n",
       "      <td>73</td>\n",
       "      <td>59</td>\n",
       "      <td>58</td>\n",
       "      <td>67</td>\n",
       "    </tr>\n",
       "    <tr>\n",
       "      <td>padmani</td>\n",
       "      <td>58</td>\n",
       "      <td>79</td>\n",
       "      <td>57</td>\n",
       "      <td>85</td>\n",
       "      <td>93</td>\n",
       "    </tr>\n",
       "    <tr>\n",
       "      <td>ayush</td>\n",
       "      <td>71</td>\n",
       "      <td>67</td>\n",
       "      <td>97</td>\n",
       "      <td>98</td>\n",
       "      <td>77</td>\n",
       "    </tr>\n",
       "    <tr>\n",
       "      <td>ravi</td>\n",
       "      <td>56</td>\n",
       "      <td>58</td>\n",
       "      <td>80</td>\n",
       "      <td>85</td>\n",
       "      <td>51</td>\n",
       "    </tr>\n",
       "    <tr>\n",
       "      <td>manish</td>\n",
       "      <td>69</td>\n",
       "      <td>77</td>\n",
       "      <td>81</td>\n",
       "      <td>76</td>\n",
       "      <td>95</td>\n",
       "    </tr>\n",
       "    <tr>\n",
       "      <td>ayushi</td>\n",
       "      <td>89</td>\n",
       "      <td>70</td>\n",
       "      <td>50</td>\n",
       "      <td>68</td>\n",
       "      <td>91</td>\n",
       "    </tr>\n",
       "    <tr>\n",
       "      <td>tushar</td>\n",
       "      <td>50</td>\n",
       "      <td>77</td>\n",
       "      <td>62</td>\n",
       "      <td>93</td>\n",
       "      <td>61</td>\n",
       "    </tr>\n",
       "    <tr>\n",
       "      <td>rahul</td>\n",
       "      <td>96</td>\n",
       "      <td>56</td>\n",
       "      <td>76</td>\n",
       "      <td>57</td>\n",
       "      <td>53</td>\n",
       "    </tr>\n",
       "    <tr>\n",
       "      <td>rohan</td>\n",
       "      <td>99</td>\n",
       "      <td>84</td>\n",
       "      <td>70</td>\n",
       "      <td>88</td>\n",
       "      <td>60</td>\n",
       "    </tr>\n",
       "  </tbody>\n",
       "</table>\n",
       "</div>"
      ],
      "text/plain": [
       "         Maths  Science  English  History  Hindi\n",
       "Name                                            \n",
       "nehal       67       73       59       58     67\n",
       "padmani     58       79       57       85     93\n",
       "ayush       71       67       97       98     77\n",
       "ravi        56       58       80       85     51\n",
       "manish      69       77       81       76     95\n",
       "ayushi      89       70       50       68     91\n",
       "tushar      50       77       62       93     61\n",
       "rahul       96       56       76       57     53\n",
       "rohan       99       84       70       88     60"
      ]
     },
     "execution_count": 15,
     "metadata": {},
     "output_type": "execute_result"
    }
   ],
   "source": [
    "df"
   ]
  },
  {
   "cell_type": "code",
   "execution_count": 17,
   "metadata": {},
   "outputs": [
    {
     "data": {
      "text/html": [
       "<div>\n",
       "<style scoped>\n",
       "    .dataframe tbody tr th:only-of-type {\n",
       "        vertical-align: middle;\n",
       "    }\n",
       "\n",
       "    .dataframe tbody tr th {\n",
       "        vertical-align: top;\n",
       "    }\n",
       "\n",
       "    .dataframe thead th {\n",
       "        text-align: right;\n",
       "    }\n",
       "</style>\n",
       "<table border=\"1\" class=\"dataframe\">\n",
       "  <thead>\n",
       "    <tr style=\"text-align: right;\">\n",
       "      <th></th>\n",
       "      <th>Maths</th>\n",
       "      <th>Science</th>\n",
       "      <th>English</th>\n",
       "      <th>History</th>\n",
       "      <th>Hindi</th>\n",
       "    </tr>\n",
       "    <tr>\n",
       "      <th>Name</th>\n",
       "      <th></th>\n",
       "      <th></th>\n",
       "      <th></th>\n",
       "      <th></th>\n",
       "      <th></th>\n",
       "    </tr>\n",
       "  </thead>\n",
       "  <tbody>\n",
       "    <tr>\n",
       "      <td>nehal</td>\n",
       "      <td>False</td>\n",
       "      <td>True</td>\n",
       "      <td>False</td>\n",
       "      <td>False</td>\n",
       "      <td>False</td>\n",
       "    </tr>\n",
       "    <tr>\n",
       "      <td>padmani</td>\n",
       "      <td>False</td>\n",
       "      <td>True</td>\n",
       "      <td>False</td>\n",
       "      <td>True</td>\n",
       "      <td>True</td>\n",
       "    </tr>\n",
       "    <tr>\n",
       "      <td>ayush</td>\n",
       "      <td>False</td>\n",
       "      <td>False</td>\n",
       "      <td>True</td>\n",
       "      <td>True</td>\n",
       "      <td>True</td>\n",
       "    </tr>\n",
       "    <tr>\n",
       "      <td>ravi</td>\n",
       "      <td>False</td>\n",
       "      <td>False</td>\n",
       "      <td>True</td>\n",
       "      <td>True</td>\n",
       "      <td>False</td>\n",
       "    </tr>\n",
       "    <tr>\n",
       "      <td>manish</td>\n",
       "      <td>False</td>\n",
       "      <td>True</td>\n",
       "      <td>True</td>\n",
       "      <td>True</td>\n",
       "      <td>True</td>\n",
       "    </tr>\n",
       "    <tr>\n",
       "      <td>ayushi</td>\n",
       "      <td>True</td>\n",
       "      <td>False</td>\n",
       "      <td>False</td>\n",
       "      <td>False</td>\n",
       "      <td>True</td>\n",
       "    </tr>\n",
       "    <tr>\n",
       "      <td>tushar</td>\n",
       "      <td>False</td>\n",
       "      <td>True</td>\n",
       "      <td>False</td>\n",
       "      <td>True</td>\n",
       "      <td>False</td>\n",
       "    </tr>\n",
       "    <tr>\n",
       "      <td>rahul</td>\n",
       "      <td>True</td>\n",
       "      <td>False</td>\n",
       "      <td>True</td>\n",
       "      <td>False</td>\n",
       "      <td>False</td>\n",
       "    </tr>\n",
       "    <tr>\n",
       "      <td>rohan</td>\n",
       "      <td>True</td>\n",
       "      <td>True</td>\n",
       "      <td>False</td>\n",
       "      <td>True</td>\n",
       "      <td>False</td>\n",
       "    </tr>\n",
       "  </tbody>\n",
       "</table>\n",
       "</div>"
      ],
      "text/plain": [
       "         Maths  Science  English  History  Hindi\n",
       "Name                                            \n",
       "nehal    False     True    False    False  False\n",
       "padmani  False     True    False     True   True\n",
       "ayush    False    False     True     True   True\n",
       "ravi     False    False     True     True  False\n",
       "manish   False     True     True     True   True\n",
       "ayushi    True    False    False    False   True\n",
       "tushar   False     True    False     True  False\n",
       "rahul     True    False     True    False  False\n",
       "rohan     True     True    False     True  False"
      ]
     },
     "execution_count": 17,
     "metadata": {},
     "output_type": "execute_result"
    }
   ],
   "source": [
    "df > 71"
   ]
  },
  {
   "cell_type": "code",
   "execution_count": 18,
   "metadata": {},
   "outputs": [
    {
     "data": {
      "text/html": [
       "<div>\n",
       "<style scoped>\n",
       "    .dataframe tbody tr th:only-of-type {\n",
       "        vertical-align: middle;\n",
       "    }\n",
       "\n",
       "    .dataframe tbody tr th {\n",
       "        vertical-align: top;\n",
       "    }\n",
       "\n",
       "    .dataframe thead th {\n",
       "        text-align: right;\n",
       "    }\n",
       "</style>\n",
       "<table border=\"1\" class=\"dataframe\">\n",
       "  <thead>\n",
       "    <tr style=\"text-align: right;\">\n",
       "      <th></th>\n",
       "      <th>Maths</th>\n",
       "      <th>Science</th>\n",
       "      <th>English</th>\n",
       "      <th>History</th>\n",
       "      <th>Hindi</th>\n",
       "    </tr>\n",
       "    <tr>\n",
       "      <th>Name</th>\n",
       "      <th></th>\n",
       "      <th></th>\n",
       "      <th></th>\n",
       "      <th></th>\n",
       "      <th></th>\n",
       "    </tr>\n",
       "  </thead>\n",
       "  <tbody>\n",
       "    <tr>\n",
       "      <td>nehal</td>\n",
       "      <td>NaN</td>\n",
       "      <td>73.0</td>\n",
       "      <td>NaN</td>\n",
       "      <td>NaN</td>\n",
       "      <td>NaN</td>\n",
       "    </tr>\n",
       "    <tr>\n",
       "      <td>padmani</td>\n",
       "      <td>NaN</td>\n",
       "      <td>79.0</td>\n",
       "      <td>NaN</td>\n",
       "      <td>85.0</td>\n",
       "      <td>93.0</td>\n",
       "    </tr>\n",
       "    <tr>\n",
       "      <td>ayush</td>\n",
       "      <td>NaN</td>\n",
       "      <td>NaN</td>\n",
       "      <td>97.0</td>\n",
       "      <td>98.0</td>\n",
       "      <td>77.0</td>\n",
       "    </tr>\n",
       "    <tr>\n",
       "      <td>ravi</td>\n",
       "      <td>NaN</td>\n",
       "      <td>NaN</td>\n",
       "      <td>80.0</td>\n",
       "      <td>85.0</td>\n",
       "      <td>NaN</td>\n",
       "    </tr>\n",
       "    <tr>\n",
       "      <td>manish</td>\n",
       "      <td>NaN</td>\n",
       "      <td>77.0</td>\n",
       "      <td>81.0</td>\n",
       "      <td>76.0</td>\n",
       "      <td>95.0</td>\n",
       "    </tr>\n",
       "    <tr>\n",
       "      <td>ayushi</td>\n",
       "      <td>89.0</td>\n",
       "      <td>NaN</td>\n",
       "      <td>NaN</td>\n",
       "      <td>NaN</td>\n",
       "      <td>91.0</td>\n",
       "    </tr>\n",
       "    <tr>\n",
       "      <td>tushar</td>\n",
       "      <td>NaN</td>\n",
       "      <td>77.0</td>\n",
       "      <td>NaN</td>\n",
       "      <td>93.0</td>\n",
       "      <td>NaN</td>\n",
       "    </tr>\n",
       "    <tr>\n",
       "      <td>rahul</td>\n",
       "      <td>96.0</td>\n",
       "      <td>NaN</td>\n",
       "      <td>76.0</td>\n",
       "      <td>NaN</td>\n",
       "      <td>NaN</td>\n",
       "    </tr>\n",
       "    <tr>\n",
       "      <td>rohan</td>\n",
       "      <td>99.0</td>\n",
       "      <td>84.0</td>\n",
       "      <td>NaN</td>\n",
       "      <td>88.0</td>\n",
       "      <td>NaN</td>\n",
       "    </tr>\n",
       "  </tbody>\n",
       "</table>\n",
       "</div>"
      ],
      "text/plain": [
       "         Maths  Science  English  History  Hindi\n",
       "Name                                            \n",
       "nehal      NaN     73.0      NaN      NaN    NaN\n",
       "padmani    NaN     79.0      NaN     85.0   93.0\n",
       "ayush      NaN      NaN     97.0     98.0   77.0\n",
       "ravi       NaN      NaN     80.0     85.0    NaN\n",
       "manish     NaN     77.0     81.0     76.0   95.0\n",
       "ayushi    89.0      NaN      NaN      NaN   91.0\n",
       "tushar     NaN     77.0      NaN     93.0    NaN\n",
       "rahul     96.0      NaN     76.0      NaN    NaN\n",
       "rohan     99.0     84.0      NaN     88.0    NaN"
      ]
     },
     "execution_count": 18,
     "metadata": {},
     "output_type": "execute_result"
    }
   ],
   "source": [
    "df[df > 71]"
   ]
  },
  {
   "cell_type": "code",
   "execution_count": 19,
   "metadata": {},
   "outputs": [
    {
     "data": {
      "text/html": [
       "<div>\n",
       "<style scoped>\n",
       "    .dataframe tbody tr th:only-of-type {\n",
       "        vertical-align: middle;\n",
       "    }\n",
       "\n",
       "    .dataframe tbody tr th {\n",
       "        vertical-align: top;\n",
       "    }\n",
       "\n",
       "    .dataframe thead th {\n",
       "        text-align: right;\n",
       "    }\n",
       "</style>\n",
       "<table border=\"1\" class=\"dataframe\">\n",
       "  <thead>\n",
       "    <tr style=\"text-align: right;\">\n",
       "      <th></th>\n",
       "      <th>Maths</th>\n",
       "      <th>Science</th>\n",
       "      <th>English</th>\n",
       "      <th>History</th>\n",
       "      <th>Hindi</th>\n",
       "    </tr>\n",
       "    <tr>\n",
       "      <th>Name</th>\n",
       "      <th></th>\n",
       "      <th></th>\n",
       "      <th></th>\n",
       "      <th></th>\n",
       "      <th></th>\n",
       "    </tr>\n",
       "  </thead>\n",
       "  <tbody>\n",
       "    <tr>\n",
       "      <td>nehal</td>\n",
       "      <td>False</td>\n",
       "      <td>False</td>\n",
       "      <td>False</td>\n",
       "      <td>False</td>\n",
       "      <td>False</td>\n",
       "    </tr>\n",
       "    <tr>\n",
       "      <td>padmani</td>\n",
       "      <td>False</td>\n",
       "      <td>False</td>\n",
       "      <td>False</td>\n",
       "      <td>False</td>\n",
       "      <td>False</td>\n",
       "    </tr>\n",
       "    <tr>\n",
       "      <td>ayush</td>\n",
       "      <td>False</td>\n",
       "      <td>False</td>\n",
       "      <td>False</td>\n",
       "      <td>False</td>\n",
       "      <td>False</td>\n",
       "    </tr>\n",
       "    <tr>\n",
       "      <td>ravi</td>\n",
       "      <td>False</td>\n",
       "      <td>False</td>\n",
       "      <td>True</td>\n",
       "      <td>False</td>\n",
       "      <td>False</td>\n",
       "    </tr>\n",
       "    <tr>\n",
       "      <td>manish</td>\n",
       "      <td>False</td>\n",
       "      <td>False</td>\n",
       "      <td>False</td>\n",
       "      <td>False</td>\n",
       "      <td>False</td>\n",
       "    </tr>\n",
       "    <tr>\n",
       "      <td>ayushi</td>\n",
       "      <td>False</td>\n",
       "      <td>False</td>\n",
       "      <td>False</td>\n",
       "      <td>False</td>\n",
       "      <td>False</td>\n",
       "    </tr>\n",
       "    <tr>\n",
       "      <td>tushar</td>\n",
       "      <td>False</td>\n",
       "      <td>False</td>\n",
       "      <td>False</td>\n",
       "      <td>False</td>\n",
       "      <td>False</td>\n",
       "    </tr>\n",
       "    <tr>\n",
       "      <td>rahul</td>\n",
       "      <td>False</td>\n",
       "      <td>False</td>\n",
       "      <td>False</td>\n",
       "      <td>False</td>\n",
       "      <td>False</td>\n",
       "    </tr>\n",
       "    <tr>\n",
       "      <td>rohan</td>\n",
       "      <td>False</td>\n",
       "      <td>False</td>\n",
       "      <td>False</td>\n",
       "      <td>False</td>\n",
       "      <td>False</td>\n",
       "    </tr>\n",
       "  </tbody>\n",
       "</table>\n",
       "</div>"
      ],
      "text/plain": [
       "         Maths  Science  English  History  Hindi\n",
       "Name                                            \n",
       "nehal    False    False    False    False  False\n",
       "padmani  False    False    False    False  False\n",
       "ayush    False    False    False    False  False\n",
       "ravi     False    False     True    False  False\n",
       "manish   False    False    False    False  False\n",
       "ayushi   False    False    False    False  False\n",
       "tushar   False    False    False    False  False\n",
       "rahul    False    False    False    False  False\n",
       "rohan    False    False    False    False  False"
      ]
     },
     "execution_count": 19,
     "metadata": {},
     "output_type": "execute_result"
    }
   ],
   "source": [
    "df==80"
   ]
  },
  {
   "cell_type": "code",
   "execution_count": 22,
   "metadata": {},
   "outputs": [
    {
     "data": {
      "text/plain": [
       "Maths      3\n",
       "Science    2\n",
       "English    3\n",
       "History    2\n",
       "Hindi      2\n",
       "dtype: int64"
      ]
     },
     "execution_count": 22,
     "metadata": {},
     "output_type": "execute_result"
    }
   ],
   "source": [
    "df[df<60].count()"
   ]
  },
  {
   "cell_type": "code",
   "execution_count": 25,
   "metadata": {},
   "outputs": [
    {
     "data": {
      "text/plain": [
       "Name\n",
       "nehal      False\n",
       "padmani    False\n",
       "ayush       True\n",
       "ravi       False\n",
       "manish     False\n",
       "ayushi      True\n",
       "tushar     False\n",
       "rahul       True\n",
       "rohan       True\n",
       "Name: Maths, dtype: bool"
      ]
     },
     "execution_count": 25,
     "metadata": {},
     "output_type": "execute_result"
    }
   ],
   "source": [
    "df['Maths'] > 70"
   ]
  },
  {
   "cell_type": "code",
   "execution_count": 27,
   "metadata": {},
   "outputs": [
    {
     "data": {
      "text/html": [
       "<div>\n",
       "<style scoped>\n",
       "    .dataframe tbody tr th:only-of-type {\n",
       "        vertical-align: middle;\n",
       "    }\n",
       "\n",
       "    .dataframe tbody tr th {\n",
       "        vertical-align: top;\n",
       "    }\n",
       "\n",
       "    .dataframe thead th {\n",
       "        text-align: right;\n",
       "    }\n",
       "</style>\n",
       "<table border=\"1\" class=\"dataframe\">\n",
       "  <thead>\n",
       "    <tr style=\"text-align: right;\">\n",
       "      <th></th>\n",
       "      <th>Maths</th>\n",
       "      <th>Science</th>\n",
       "      <th>English</th>\n",
       "      <th>History</th>\n",
       "      <th>Hindi</th>\n",
       "    </tr>\n",
       "    <tr>\n",
       "      <th>Name</th>\n",
       "      <th></th>\n",
       "      <th></th>\n",
       "      <th></th>\n",
       "      <th></th>\n",
       "      <th></th>\n",
       "    </tr>\n",
       "  </thead>\n",
       "  <tbody>\n",
       "    <tr>\n",
       "      <td>ayush</td>\n",
       "      <td>71</td>\n",
       "      <td>67</td>\n",
       "      <td>97</td>\n",
       "      <td>98</td>\n",
       "      <td>77</td>\n",
       "    </tr>\n",
       "    <tr>\n",
       "      <td>ayushi</td>\n",
       "      <td>89</td>\n",
       "      <td>70</td>\n",
       "      <td>50</td>\n",
       "      <td>68</td>\n",
       "      <td>91</td>\n",
       "    </tr>\n",
       "    <tr>\n",
       "      <td>rahul</td>\n",
       "      <td>96</td>\n",
       "      <td>56</td>\n",
       "      <td>76</td>\n",
       "      <td>57</td>\n",
       "      <td>53</td>\n",
       "    </tr>\n",
       "    <tr>\n",
       "      <td>rohan</td>\n",
       "      <td>99</td>\n",
       "      <td>84</td>\n",
       "      <td>70</td>\n",
       "      <td>88</td>\n",
       "      <td>60</td>\n",
       "    </tr>\n",
       "  </tbody>\n",
       "</table>\n",
       "</div>"
      ],
      "text/plain": [
       "        Maths  Science  English  History  Hindi\n",
       "Name                                           \n",
       "ayush      71       67       97       98     77\n",
       "ayushi     89       70       50       68     91\n",
       "rahul      96       56       76       57     53\n",
       "rohan      99       84       70       88     60"
      ]
     },
     "execution_count": 27,
     "metadata": {},
     "output_type": "execute_result"
    }
   ],
   "source": [
    "df[df['Maths']>70]"
   ]
  },
  {
   "cell_type": "code",
   "execution_count": 31,
   "metadata": {},
   "outputs": [
    {
     "data": {
      "text/plain": [
       "Name\n",
       "ayush     71\n",
       "ayushi    89\n",
       "rahul     96\n",
       "rohan     99\n",
       "Name: Maths, dtype: int32"
      ]
     },
     "execution_count": 31,
     "metadata": {},
     "output_type": "execute_result"
    }
   ],
   "source": [
    "df['Maths'][df['Maths']>70]"
   ]
  },
  {
   "cell_type": "code",
   "execution_count": 33,
   "metadata": {},
   "outputs": [
    {
     "data": {
      "text/plain": [
       "Name\n",
       "ayush     71\n",
       "ayushi    89\n",
       "rahul     96\n",
       "rohan     99\n",
       "Name: Maths, dtype: int32"
      ]
     },
     "execution_count": 33,
     "metadata": {},
     "output_type": "execute_result"
    }
   ],
   "source": [
    "df[df['Maths']>70]['Maths']"
   ]
  },
  {
   "cell_type": "code",
   "execution_count": 39,
   "metadata": {},
   "outputs": [
    {
     "data": {
      "text/html": [
       "<div>\n",
       "<style scoped>\n",
       "    .dataframe tbody tr th:only-of-type {\n",
       "        vertical-align: middle;\n",
       "    }\n",
       "\n",
       "    .dataframe tbody tr th {\n",
       "        vertical-align: top;\n",
       "    }\n",
       "\n",
       "    .dataframe thead th {\n",
       "        text-align: right;\n",
       "    }\n",
       "</style>\n",
       "<table border=\"1\" class=\"dataframe\">\n",
       "  <thead>\n",
       "    <tr style=\"text-align: right;\">\n",
       "      <th></th>\n",
       "      <th>Maths</th>\n",
       "      <th>Science</th>\n",
       "      <th>English</th>\n",
       "      <th>History</th>\n",
       "      <th>Hindi</th>\n",
       "    </tr>\n",
       "    <tr>\n",
       "      <th>Name</th>\n",
       "      <th></th>\n",
       "      <th></th>\n",
       "      <th></th>\n",
       "      <th></th>\n",
       "      <th></th>\n",
       "    </tr>\n",
       "  </thead>\n",
       "  <tbody>\n",
       "    <tr>\n",
       "      <td>ayush</td>\n",
       "      <td>71</td>\n",
       "      <td>67</td>\n",
       "      <td>97</td>\n",
       "      <td>98</td>\n",
       "      <td>77</td>\n",
       "    </tr>\n",
       "    <tr>\n",
       "      <td>rohan</td>\n",
       "      <td>99</td>\n",
       "      <td>84</td>\n",
       "      <td>70</td>\n",
       "      <td>88</td>\n",
       "      <td>60</td>\n",
       "    </tr>\n",
       "  </tbody>\n",
       "</table>\n",
       "</div>"
      ],
      "text/plain": [
       "       Maths  Science  English  History  Hindi\n",
       "Name                                          \n",
       "ayush     71       67       97       98     77\n",
       "rohan     99       84       70       88     60"
      ]
     },
     "execution_count": 39,
     "metadata": {},
     "output_type": "execute_result"
    }
   ],
   "source": [
    "df[(df['Maths'] > 70) & (df['History'] > 75)]"
   ]
  },
  {
   "cell_type": "code",
   "execution_count": 47,
   "metadata": {},
   "outputs": [
    {
     "data": {
      "text/plain": [
       "Index(['ayush', 'rohan'], dtype='object', name='Name')"
      ]
     },
     "execution_count": 47,
     "metadata": {},
     "output_type": "execute_result"
    }
   ],
   "source": [
    "df[(df['Maths'] > 70) & (df['History'] > 75)][['Maths','History']].index"
   ]
  },
  {
   "cell_type": "code",
   "execution_count": 49,
   "metadata": {},
   "outputs": [
    {
     "data": {
      "text/html": [
       "<div>\n",
       "<style scoped>\n",
       "    .dataframe tbody tr th:only-of-type {\n",
       "        vertical-align: middle;\n",
       "    }\n",
       "\n",
       "    .dataframe tbody tr th {\n",
       "        vertical-align: top;\n",
       "    }\n",
       "\n",
       "    .dataframe thead th {\n",
       "        text-align: right;\n",
       "    }\n",
       "</style>\n",
       "<table border=\"1\" class=\"dataframe\">\n",
       "  <thead>\n",
       "    <tr style=\"text-align: right;\">\n",
       "      <th></th>\n",
       "      <th>Maths</th>\n",
       "      <th>Science</th>\n",
       "      <th>English</th>\n",
       "      <th>History</th>\n",
       "      <th>Hindi</th>\n",
       "    </tr>\n",
       "    <tr>\n",
       "      <th>Name</th>\n",
       "      <th></th>\n",
       "      <th></th>\n",
       "      <th></th>\n",
       "      <th></th>\n",
       "      <th></th>\n",
       "    </tr>\n",
       "  </thead>\n",
       "  <tbody>\n",
       "    <tr>\n",
       "      <td>rohan</td>\n",
       "      <td>99</td>\n",
       "      <td>84</td>\n",
       "      <td>70</td>\n",
       "      <td>88</td>\n",
       "      <td>60</td>\n",
       "    </tr>\n",
       "  </tbody>\n",
       "</table>\n",
       "</div>"
      ],
      "text/plain": [
       "       Maths  Science  English  History  Hindi\n",
       "Name                                          \n",
       "rohan     99       84       70       88     60"
      ]
     },
     "execution_count": 49,
     "metadata": {},
     "output_type": "execute_result"
    }
   ],
   "source": [
    "df[(df['Maths'] > 80) & (df['History'] > 85) & (df['Science'] > 82)]"
   ]
  },
  {
   "cell_type": "code",
   "execution_count": 51,
   "metadata": {},
   "outputs": [
    {
     "data": {
      "text/plain": [
       "Index(['ayush', 'ayushi', 'tushar', 'rahul', 'rohan'], dtype='object', name='Name')"
      ]
     },
     "execution_count": 51,
     "metadata": {},
     "output_type": "execute_result"
    }
   ],
   "source": [
    "df[(df['Maths'] > 80) | (df['History'] > 85) | (df['Science'] > 82)].index"
   ]
  },
  {
   "cell_type": "code",
   "execution_count": 53,
   "metadata": {},
   "outputs": [
    {
     "data": {
      "text/plain": [
       "<matplotlib.axes._subplots.AxesSubplot at 0x1d46b0e6948>"
      ]
     },
     "execution_count": 53,
     "metadata": {},
     "output_type": "execute_result"
    },
    {
     "data": {
      "image/png": "[encoded data removed]",
      "text/plain": [
       "<Figure size 432x288 with 1 Axes>"
      ]
     },
     "metadata": {
      "needs_background": "light"
     },
     "output_type": "display_data"
    }
   ],
   "source": [
    "df.plot(kind='bar')"
   ]
  },
  {
   "cell_type": "code",
   "execution_count": 62,
   "metadata": {},
   "outputs": [
    {
     "data": {
      "image/png": "[encoded data removed]",
      "text/plain": [
       "<Figure size 432x288 with 1 Axes>"
      ]
     },
     "metadata": {
      "needs_background": "light"
     },
     "output_type": "display_data"
    }
   ],
   "source": [
    "df[df['Maths'] > 75].plot(kind='bar')\n",
    "plt.show()"
   ]
  },
  {
   "cell_type": "code",
   "execution_count": 64,
   "metadata": {},
   "outputs": [
    {
     "data": {
      "text/plain": [
       "<matplotlib.axes._subplots.AxesSubplot at 0x1d46e7bf888>"
      ]
     },
     "execution_count": 64,
     "metadata": {},
     "output_type": "execute_result"
    },
    {
     "data": {
      "image/png": "[encoded data removed]",
      "text/plain": [
       "<Figure size 432x288 with 1 Axes>"
      ]
     },
     "metadata": {
      "needs_background": "light"
     },
     "output_type": "display_data"
    }
   ],
   "source": [
    "df['Maths'][:5].plot(kind='bar',color=['#123456','#fff123','#aaaaaa','#bbbbbb','#dddddd'])"
   ]
  },
  {
   "cell_type": "code",
   "execution_count": 69,
   "metadata": {},
   "outputs": [
    {
     "data": {
      "text/plain": [
       "Name\n",
       "ayush     77\n",
       "ayushi    91\n",
       "rahul     53\n",
       "rohan     60\n",
       "Name: Hindi, dtype: int32"
      ]
     },
     "execution_count": 69,
     "metadata": {},
     "output_type": "execute_result"
    }
   ],
   "source": [
    "df[df['Maths']>70]['Hindi']"
   ]
  },
  {
   "cell_type": "code",
   "execution_count": 70,
   "metadata": {},
   "outputs": [
    {
     "name": "stdout",
     "output_type": "stream",
     "text": [
      "<class 'pandas.core.frame.DataFrame'>\n",
      "Index: 9 entries, nehal to rohan\n",
      "Data columns (total 5 columns):\n",
      "Maths      9 non-null int32\n",
      "Science    9 non-null int32\n",
      "English    9 non-null int32\n",
      "History    9 non-null int32\n",
      "Hindi      9 non-null int32\n",
      "dtypes: int32(5)\n",
      "memory usage: 572.0+ bytes\n"
     ]
    }
   ],
   "source": [
    "df.info()"
   ]
  },
  {
   "cell_type": "code",
   "execution_count": 71,
   "metadata": {},
   "outputs": [
    {
     "data": {
      "text/html": [
       "<div>\n",
       "<style scoped>\n",
       "    .dataframe tbody tr th:only-of-type {\n",
       "        vertical-align: middle;\n",
       "    }\n",
       "\n",
       "    .dataframe tbody tr th {\n",
       "        vertical-align: top;\n",
       "    }\n",
       "\n",
       "    .dataframe thead th {\n",
       "        text-align: right;\n",
       "    }\n",
       "</style>\n",
       "<table border=\"1\" class=\"dataframe\">\n",
       "  <thead>\n",
       "    <tr style=\"text-align: right;\">\n",
       "      <th></th>\n",
       "      <th>Maths</th>\n",
       "      <th>Science</th>\n",
       "      <th>English</th>\n",
       "      <th>History</th>\n",
       "      <th>Hindi</th>\n",
       "    </tr>\n",
       "  </thead>\n",
       "  <tbody>\n",
       "    <tr>\n",
       "      <td>count</td>\n",
       "      <td>9.000000</td>\n",
       "      <td>9.000000</td>\n",
       "      <td>9.000000</td>\n",
       "      <td>9.000000</td>\n",
       "      <td>9.000000</td>\n",
       "    </tr>\n",
       "    <tr>\n",
       "      <td>mean</td>\n",
       "      <td>72.777778</td>\n",
       "      <td>71.222222</td>\n",
       "      <td>70.222222</td>\n",
       "      <td>78.666667</td>\n",
       "      <td>72.000000</td>\n",
       "    </tr>\n",
       "    <tr>\n",
       "      <td>std</td>\n",
       "      <td>17.886991</td>\n",
       "      <td>9.483904</td>\n",
       "      <td>14.745998</td>\n",
       "      <td>14.849242</td>\n",
       "      <td>17.492856</td>\n",
       "    </tr>\n",
       "    <tr>\n",
       "      <td>min</td>\n",
       "      <td>50.000000</td>\n",
       "      <td>56.000000</td>\n",
       "      <td>50.000000</td>\n",
       "      <td>57.000000</td>\n",
       "      <td>51.000000</td>\n",
       "    </tr>\n",
       "    <tr>\n",
       "      <td>25%</td>\n",
       "      <td>58.000000</td>\n",
       "      <td>67.000000</td>\n",
       "      <td>59.000000</td>\n",
       "      <td>68.000000</td>\n",
       "      <td>60.000000</td>\n",
       "    </tr>\n",
       "    <tr>\n",
       "      <td>50%</td>\n",
       "      <td>69.000000</td>\n",
       "      <td>73.000000</td>\n",
       "      <td>70.000000</td>\n",
       "      <td>85.000000</td>\n",
       "      <td>67.000000</td>\n",
       "    </tr>\n",
       "    <tr>\n",
       "      <td>75%</td>\n",
       "      <td>89.000000</td>\n",
       "      <td>77.000000</td>\n",
       "      <td>80.000000</td>\n",
       "      <td>88.000000</td>\n",
       "      <td>91.000000</td>\n",
       "    </tr>\n",
       "    <tr>\n",
       "      <td>max</td>\n",
       "      <td>99.000000</td>\n",
       "      <td>84.000000</td>\n",
       "      <td>97.000000</td>\n",
       "      <td>98.000000</td>\n",
       "      <td>95.000000</td>\n",
       "    </tr>\n",
       "  </tbody>\n",
       "</table>\n",
       "</div>"
      ],
      "text/plain": [
       "           Maths    Science    English    History      Hindi\n",
       "count   9.000000   9.000000   9.000000   9.000000   9.000000\n",
       "mean   72.777778  71.222222  70.222222  78.666667  72.000000\n",
       "std    17.886991   9.483904  14.745998  14.849242  17.492856\n",
       "min    50.000000  56.000000  50.000000  57.000000  51.000000\n",
       "25%    58.000000  67.000000  59.000000  68.000000  60.000000\n",
       "50%    69.000000  73.000000  70.000000  85.000000  67.000000\n",
       "75%    89.000000  77.000000  80.000000  88.000000  91.000000\n",
       "max    99.000000  84.000000  97.000000  98.000000  95.000000"
      ]
     },
     "execution_count": 71,
     "metadata": {},
     "output_type": "execute_result"
    }
   ],
   "source": [
    "df.describe()"
   ]
  },
  {
   "cell_type": "code",
   "execution_count": 72,
   "metadata": {},
   "outputs": [
    {
     "data": {
      "text/plain": [
       "Index(['nehal', 'padmani', 'ayush', 'ravi', 'manish', 'ayushi', 'tushar',\n",
       "       'rahul', 'rohan'],\n",
       "      dtype='object', name='Name')"
      ]
     },
     "execution_count": 72,
     "metadata": {},
     "output_type": "execute_result"
    }
   ],
   "source": [
    "df.index"
   ]
  },
  {
   "cell_type": "code",
   "execution_count": 74,
   "metadata": {},
   "outputs": [],
   "source": [
    "df.loc['nehal','History'] = 70"
   ]
  },
  {
   "cell_type": "code",
   "execution_count": 75,
   "metadata": {},
   "outputs": [
    {
     "data": {
      "text/html": [
       "<div>\n",
       "<style scoped>\n",
       "    .dataframe tbody tr th:only-of-type {\n",
       "        vertical-align: middle;\n",
       "    }\n",
       "\n",
       "    .dataframe tbody tr th {\n",
       "        vertical-align: top;\n",
       "    }\n",
       "\n",
       "    .dataframe thead th {\n",
       "        text-align: right;\n",
       "    }\n",
       "</style>\n",
       "<table border=\"1\" class=\"dataframe\">\n",
       "  <thead>\n",
       "    <tr style=\"text-align: right;\">\n",
       "      <th></th>\n",
       "      <th>Maths</th>\n",
       "      <th>Science</th>\n",
       "      <th>English</th>\n",
       "      <th>History</th>\n",
       "      <th>Hindi</th>\n",
       "    </tr>\n",
       "    <tr>\n",
       "      <th>Name</th>\n",
       "      <th></th>\n",
       "      <th></th>\n",
       "      <th></th>\n",
       "      <th></th>\n",
       "      <th></th>\n",
       "    </tr>\n",
       "  </thead>\n",
       "  <tbody>\n",
       "    <tr>\n",
       "      <td>nehal</td>\n",
       "      <td>67</td>\n",
       "      <td>73</td>\n",
       "      <td>59</td>\n",
       "      <td>70</td>\n",
       "      <td>67</td>\n",
       "    </tr>\n",
       "    <tr>\n",
       "      <td>padmani</td>\n",
       "      <td>58</td>\n",
       "      <td>79</td>\n",
       "      <td>57</td>\n",
       "      <td>85</td>\n",
       "      <td>93</td>\n",
       "    </tr>\n",
       "    <tr>\n",
       "      <td>ayush</td>\n",
       "      <td>71</td>\n",
       "      <td>67</td>\n",
       "      <td>97</td>\n",
       "      <td>98</td>\n",
       "      <td>77</td>\n",
       "    </tr>\n",
       "    <tr>\n",
       "      <td>ravi</td>\n",
       "      <td>56</td>\n",
       "      <td>58</td>\n",
       "      <td>80</td>\n",
       "      <td>85</td>\n",
       "      <td>51</td>\n",
       "    </tr>\n",
       "    <tr>\n",
       "      <td>manish</td>\n",
       "      <td>69</td>\n",
       "      <td>77</td>\n",
       "      <td>81</td>\n",
       "      <td>76</td>\n",
       "      <td>95</td>\n",
       "    </tr>\n",
       "    <tr>\n",
       "      <td>ayushi</td>\n",
       "      <td>89</td>\n",
       "      <td>70</td>\n",
       "      <td>50</td>\n",
       "      <td>68</td>\n",
       "      <td>91</td>\n",
       "    </tr>\n",
       "    <tr>\n",
       "      <td>tushar</td>\n",
       "      <td>50</td>\n",
       "      <td>77</td>\n",
       "      <td>62</td>\n",
       "      <td>93</td>\n",
       "      <td>61</td>\n",
       "    </tr>\n",
       "    <tr>\n",
       "      <td>rahul</td>\n",
       "      <td>96</td>\n",
       "      <td>56</td>\n",
       "      <td>76</td>\n",
       "      <td>57</td>\n",
       "      <td>53</td>\n",
       "    </tr>\n",
       "    <tr>\n",
       "      <td>rohan</td>\n",
       "      <td>99</td>\n",
       "      <td>84</td>\n",
       "      <td>70</td>\n",
       "      <td>88</td>\n",
       "      <td>60</td>\n",
       "    </tr>\n",
       "  </tbody>\n",
       "</table>\n",
       "</div>"
      ],
      "text/plain": [
       "         Maths  Science  English  History  Hindi\n",
       "Name                                            \n",
       "nehal       67       73       59       70     67\n",
       "padmani     58       79       57       85     93\n",
       "ayush       71       67       97       98     77\n",
       "ravi        56       58       80       85     51\n",
       "manish      69       77       81       76     95\n",
       "ayushi      89       70       50       68     91\n",
       "tushar      50       77       62       93     61\n",
       "rahul       96       56       76       57     53\n",
       "rohan       99       84       70       88     60"
      ]
     },
     "execution_count": 75,
     "metadata": {},
     "output_type": "execute_result"
    }
   ],
   "source": [
    "df"
   ]
  },
  {
   "cell_type": "code",
   "execution_count": 78,
   "metadata": {},
   "outputs": [
    {
     "data": {
      "text/plain": [
       "67.2"
      ]
     },
     "execution_count": 78,
     "metadata": {},
     "output_type": "execute_result"
    }
   ],
   "source": [
    "df.loc['nehal'].sum()/5"
   ]
  },
  {
   "cell_type": "code",
   "execution_count": 79,
   "metadata": {},
   "outputs": [
    {
     "name": "stdout",
     "output_type": "stream",
     "text": [
      "Maths\n",
      "Science\n",
      "English\n",
      "History\n",
      "Hindi\n"
     ]
    }
   ],
   "source": [
    "for i in df:\n",
    "    print(i)"
   ]
  },
  {
   "cell_type": "code",
   "execution_count": 81,
   "metadata": {},
   "outputs": [],
   "source": [
    "per = []\n",
    "for i in df.index:\n",
    "    per.append(df.loc[i].sum()/5)"
   ]
  },
  {
   "cell_type": "code",
   "execution_count": 82,
   "metadata": {},
   "outputs": [
    {
     "data": {
      "text/plain": [
       "[67.2, 74.4, 82.0, 66.0, 79.6, 73.6, 68.6, 67.6, 80.2]"
      ]
     },
     "execution_count": 82,
     "metadata": {},
     "output_type": "execute_result"
    }
   ],
   "source": [
    "per"
   ]
  },
  {
   "cell_type": "code",
   "execution_count": 83,
   "metadata": {},
   "outputs": [],
   "source": [
    "df['Percentage'] = per"
   ]
  },
  {
   "cell_type": "code",
   "execution_count": 84,
   "metadata": {},
   "outputs": [
    {
     "data": {
      "text/html": [
       "<div>\n",
       "<style scoped>\n",
       "    .dataframe tbody tr th:only-of-type {\n",
       "        vertical-align: middle;\n",
       "    }\n",
       "\n",
       "    .dataframe tbody tr th {\n",
       "        vertical-align: top;\n",
       "    }\n",
       "\n",
       "    .dataframe thead th {\n",
       "        text-align: right;\n",
       "    }\n",
       "</style>\n",
       "<table border=\"1\" class=\"dataframe\">\n",
       "  <thead>\n",
       "    <tr style=\"text-align: right;\">\n",
       "      <th></th>\n",
       "      <th>Maths</th>\n",
       "      <th>Science</th>\n",
       "      <th>English</th>\n",
       "      <th>History</th>\n",
       "      <th>Hindi</th>\n",
       "      <th>Percentage</th>\n",
       "    </tr>\n",
       "    <tr>\n",
       "      <th>Name</th>\n",
       "      <th></th>\n",
       "      <th></th>\n",
       "      <th></th>\n",
       "      <th></th>\n",
       "      <th></th>\n",
       "      <th></th>\n",
       "    </tr>\n",
       "  </thead>\n",
       "  <tbody>\n",
       "    <tr>\n",
       "      <td>nehal</td>\n",
       "      <td>67</td>\n",
       "      <td>73</td>\n",
       "      <td>59</td>\n",
       "      <td>70</td>\n",
       "      <td>67</td>\n",
       "      <td>67.2</td>\n",
       "    </tr>\n",
       "    <tr>\n",
       "      <td>padmani</td>\n",
       "      <td>58</td>\n",
       "      <td>79</td>\n",
       "      <td>57</td>\n",
       "      <td>85</td>\n",
       "      <td>93</td>\n",
       "      <td>74.4</td>\n",
       "    </tr>\n",
       "    <tr>\n",
       "      <td>ayush</td>\n",
       "      <td>71</td>\n",
       "      <td>67</td>\n",
       "      <td>97</td>\n",
       "      <td>98</td>\n",
       "      <td>77</td>\n",
       "      <td>82.0</td>\n",
       "    </tr>\n",
       "    <tr>\n",
       "      <td>ravi</td>\n",
       "      <td>56</td>\n",
       "      <td>58</td>\n",
       "      <td>80</td>\n",
       "      <td>85</td>\n",
       "      <td>51</td>\n",
       "      <td>66.0</td>\n",
       "    </tr>\n",
       "    <tr>\n",
       "      <td>manish</td>\n",
       "      <td>69</td>\n",
       "      <td>77</td>\n",
       "      <td>81</td>\n",
       "      <td>76</td>\n",
       "      <td>95</td>\n",
       "      <td>79.6</td>\n",
       "    </tr>\n",
       "    <tr>\n",
       "      <td>ayushi</td>\n",
       "      <td>89</td>\n",
       "      <td>70</td>\n",
       "      <td>50</td>\n",
       "      <td>68</td>\n",
       "      <td>91</td>\n",
       "      <td>73.6</td>\n",
       "    </tr>\n",
       "    <tr>\n",
       "      <td>tushar</td>\n",
       "      <td>50</td>\n",
       "      <td>77</td>\n",
       "      <td>62</td>\n",
       "      <td>93</td>\n",
       "      <td>61</td>\n",
       "      <td>68.6</td>\n",
       "    </tr>\n",
       "    <tr>\n",
       "      <td>rahul</td>\n",
       "      <td>96</td>\n",
       "      <td>56</td>\n",
       "      <td>76</td>\n",
       "      <td>57</td>\n",
       "      <td>53</td>\n",
       "      <td>67.6</td>\n",
       "    </tr>\n",
       "    <tr>\n",
       "      <td>rohan</td>\n",
       "      <td>99</td>\n",
       "      <td>84</td>\n",
       "      <td>70</td>\n",
       "      <td>88</td>\n",
       "      <td>60</td>\n",
       "      <td>80.2</td>\n",
       "    </tr>\n",
       "  </tbody>\n",
       "</table>\n",
       "</div>"
      ],
      "text/plain": [
       "         Maths  Science  English  History  Hindi  Percentage\n",
       "Name                                                        \n",
       "nehal       67       73       59       70     67        67.2\n",
       "padmani     58       79       57       85     93        74.4\n",
       "ayush       71       67       97       98     77        82.0\n",
       "ravi        56       58       80       85     51        66.0\n",
       "manish      69       77       81       76     95        79.6\n",
       "ayushi      89       70       50       68     91        73.6\n",
       "tushar      50       77       62       93     61        68.6\n",
       "rahul       96       56       76       57     53        67.6\n",
       "rohan       99       84       70       88     60        80.2"
      ]
     },
     "execution_count": 84,
     "metadata": {},
     "output_type": "execute_result"
    }
   ],
   "source": [
    "df"
   ]
  },
  {
   "cell_type": "code",
   "execution_count": 88,
   "metadata": {},
   "outputs": [
    {
     "data": {
      "text/plain": [
       "82.0"
      ]
     },
     "execution_count": 88,
     "metadata": {},
     "output_type": "execute_result"
    }
   ],
   "source": [
    "df['Percentage'].max()"
   ]
  },
  {
   "cell_type": "code",
   "execution_count": 92,
   "metadata": {},
   "outputs": [
    {
     "data": {
      "text/plain": [
       "<matplotlib.axes._subplots.AxesSubplot at 0x1d46fbf68c8>"
      ]
     },
     "execution_count": 92,
     "metadata": {},
     "output_type": "execute_result"
    },
    {
     "data": {
      "image/png": "[encoded data removed]",
      "text/plain": [
       "<Figure size 432x288 with 1 Axes>"
      ]
     },
     "metadata": {
      "needs_background": "light"
     },
     "output_type": "display_data"
    }
   ],
   "source": [
    "df['Percentage'][df['Percentage'] > 75].plot(kind='bar')"
   ]
  },
  {
   "cell_type": "code",
   "execution_count": 93,
   "metadata": {},
   "outputs": [
    {
     "data": {
      "text/html": [
       "<div>\n",
       "<style scoped>\n",
       "    .dataframe tbody tr th:only-of-type {\n",
       "        vertical-align: middle;\n",
       "    }\n",
       "\n",
       "    .dataframe tbody tr th {\n",
       "        vertical-align: top;\n",
       "    }\n",
       "\n",
       "    .dataframe thead th {\n",
       "        text-align: right;\n",
       "    }\n",
       "</style>\n",
       "<table border=\"1\" class=\"dataframe\">\n",
       "  <thead>\n",
       "    <tr style=\"text-align: right;\">\n",
       "      <th></th>\n",
       "      <th>Maths</th>\n",
       "      <th>Science</th>\n",
       "      <th>English</th>\n",
       "      <th>History</th>\n",
       "      <th>Hindi</th>\n",
       "      <th>Percentage</th>\n",
       "    </tr>\n",
       "  </thead>\n",
       "  <tbody>\n",
       "    <tr>\n",
       "      <td>count</td>\n",
       "      <td>9.000000</td>\n",
       "      <td>9.000000</td>\n",
       "      <td>9.000000</td>\n",
       "      <td>9.000000</td>\n",
       "      <td>9.000000</td>\n",
       "      <td>9.000000</td>\n",
       "    </tr>\n",
       "    <tr>\n",
       "      <td>mean</td>\n",
       "      <td>72.777778</td>\n",
       "      <td>71.222222</td>\n",
       "      <td>70.222222</td>\n",
       "      <td>80.000000</td>\n",
       "      <td>72.000000</td>\n",
       "      <td>73.244444</td>\n",
       "    </tr>\n",
       "    <tr>\n",
       "      <td>std</td>\n",
       "      <td>17.886991</td>\n",
       "      <td>9.483904</td>\n",
       "      <td>14.745998</td>\n",
       "      <td>13.209845</td>\n",
       "      <td>17.492856</td>\n",
       "      <td>6.218342</td>\n",
       "    </tr>\n",
       "    <tr>\n",
       "      <td>min</td>\n",
       "      <td>50.000000</td>\n",
       "      <td>56.000000</td>\n",
       "      <td>50.000000</td>\n",
       "      <td>57.000000</td>\n",
       "      <td>51.000000</td>\n",
       "      <td>66.000000</td>\n",
       "    </tr>\n",
       "    <tr>\n",
       "      <td>25%</td>\n",
       "      <td>58.000000</td>\n",
       "      <td>67.000000</td>\n",
       "      <td>59.000000</td>\n",
       "      <td>70.000000</td>\n",
       "      <td>60.000000</td>\n",
       "      <td>67.600000</td>\n",
       "    </tr>\n",
       "    <tr>\n",
       "      <td>50%</td>\n",
       "      <td>69.000000</td>\n",
       "      <td>73.000000</td>\n",
       "      <td>70.000000</td>\n",
       "      <td>85.000000</td>\n",
       "      <td>67.000000</td>\n",
       "      <td>73.600000</td>\n",
       "    </tr>\n",
       "    <tr>\n",
       "      <td>75%</td>\n",
       "      <td>89.000000</td>\n",
       "      <td>77.000000</td>\n",
       "      <td>80.000000</td>\n",
       "      <td>88.000000</td>\n",
       "      <td>91.000000</td>\n",
       "      <td>79.600000</td>\n",
       "    </tr>\n",
       "    <tr>\n",
       "      <td>max</td>\n",
       "      <td>99.000000</td>\n",
       "      <td>84.000000</td>\n",
       "      <td>97.000000</td>\n",
       "      <td>98.000000</td>\n",
       "      <td>95.000000</td>\n",
       "      <td>82.000000</td>\n",
       "    </tr>\n",
       "  </tbody>\n",
       "</table>\n",
       "</div>"
      ],
      "text/plain": [
       "           Maths    Science    English    History      Hindi  Percentage\n",
       "count   9.000000   9.000000   9.000000   9.000000   9.000000    9.000000\n",
       "mean   72.777778  71.222222  70.222222  80.000000  72.000000   73.244444\n",
       "std    17.886991   9.483904  14.745998  13.209845  17.492856    6.218342\n",
       "min    50.000000  56.000000  50.000000  57.000000  51.000000   66.000000\n",
       "25%    58.000000  67.000000  59.000000  70.000000  60.000000   67.600000\n",
       "50%    69.000000  73.000000  70.000000  85.000000  67.000000   73.600000\n",
       "75%    89.000000  77.000000  80.000000  88.000000  91.000000   79.600000\n",
       "max    99.000000  84.000000  97.000000  98.000000  95.000000   82.000000"
      ]
     },
     "execution_count": 93,
     "metadata": {},
     "output_type": "execute_result"
    }
   ],
   "source": [
    "df.describe()"
   ]
  },
  {
   "cell_type": "code",
   "execution_count": 95,
   "metadata": {},
   "outputs": [
    {
     "data": {
      "text/plain": [
       "<matplotlib.axes._subplots.AxesSubplot at 0x1d470cf8ac8>"
      ]
     },
     "execution_count": 95,
     "metadata": {},
     "output_type": "execute_result"
    },
    {
     "data": {
      "image/png": "[encoded data removed]",
      "text/plain": [
       "<Figure size 432x288 with 1 Axes>"
      ]
     },
     "metadata": {
      "needs_background": "light"
     },
     "output_type": "display_data"
    }
   ],
   "source": [
    "df.loc['padmani'].plot(kind='bar')"
   ]
  },
  {
   "cell_type": "code",
   "execution_count": 96,
   "metadata": {},
   "outputs": [],
   "source": [
    "###file handling\n",
    "f = open('students.csv','w')\n",
    "header = \"Name,Maths,Science,English\"\n",
    "f.write(header)\n",
    "f.close()"
   ]
  },
  {
   "cell_type": "code",
   "execution_count": 97,
   "metadata": {},
   "outputs": [
    {
     "name": "stdout",
     "output_type": "stream",
     "text": [
      "\n",
      " Number of entries of students you want to make : 5\n",
      "\n",
      " Enter the name : rohan\n",
      "\n",
      " Enter maths marks : 67\n",
      "\n",
      " Enter science marks : 89\n",
      "\n",
      " Enter english marks : 90\n",
      "\n",
      " Enter the name : ayushi\n",
      "\n",
      " Enter maths marks : 78\n",
      "\n",
      " Enter science marks : 80\n",
      "\n",
      " Enter english marks : 85\n",
      "\n",
      " Enter the name : nehal\n",
      "\n",
      " Enter maths marks : 80\n",
      "\n",
      " Enter science marks : 90\n",
      "\n",
      " Enter english marks : 93\n",
      "\n",
      " Enter the name : padmani\n",
      "\n",
      " Enter maths marks : 85\n",
      "\n",
      " Enter science marks : 88\n",
      "\n",
      " Enter english marks : 90\n",
      "\n",
      " Enter the name : tushar\n",
      "\n",
      " Enter maths marks : 50\n",
      "\n",
      " Enter science marks : 60\n",
      "\n",
      " Enter english marks : 70\n",
      "\n",
      "rohan,67,89,90\n",
      "ayushi,78,80,85\n",
      "nehal,80,90,93\n",
      "padmani,85,88,90\n",
      "tushar,50,60,70\n"
     ]
    }
   ],
   "source": [
    "f = open(\"students.csv\",'a')\n",
    "n = int(input(\"\\n Number of entries of students you want to make : \"))\n",
    "t = \"\"\n",
    "for i in range(n):\n",
    "    name = input(\"\\n Enter the name : \")\n",
    "    maths = input(\"\\n Enter maths marks : \")\n",
    "    science = input(\"\\n Enter science marks : \")\n",
    "    eng  = input(\"\\n Enter english marks : \")\n",
    "    t += \"\\n\"+name+\",\"+maths+\",\"+science+\",\"+eng\n",
    "print(t)"
   ]
  },
  {
   "cell_type": "code",
   "execution_count": 98,
   "metadata": {},
   "outputs": [],
   "source": [
    "f.write(t)\n",
    "f.close()"
   ]
  },
  {
   "cell_type": "code",
   "execution_count": 99,
   "metadata": {},
   "outputs": [
    {
     "name": "stdout",
     "output_type": "stream",
     "text": [
      "Name,Maths,Science,English\n",
      "rohan,67,89,90\n",
      "ayushi,78,80,85\n",
      "nehal,80,90,93\n",
      "padmani,85,88,90\n",
      "tushar,50,60,70\n"
     ]
    }
   ],
   "source": [
    "f = open(\"students.csv\",'r')\n",
    "print(f.read())\n",
    "f.close()"
   ]
  },
  {
   "cell_type": "code",
   "execution_count": 100,
   "metadata": {},
   "outputs": [],
   "source": [
    "import os"
   ]
  },
  {
   "cell_type": "code",
   "execution_count": 101,
   "metadata": {},
   "outputs": [
    {
     "name": "stdout",
     "output_type": "stream",
     "text": [
      "['DirEntry', 'F_OK', 'MutableMapping', 'O_APPEND', 'O_BINARY', 'O_CREAT', 'O_EXCL', 'O_NOINHERIT', 'O_RANDOM', 'O_RDONLY', 'O_RDWR', 'O_SEQUENTIAL', 'O_SHORT_LIVED', 'O_TEMPORARY', 'O_TEXT', 'O_TRUNC', 'O_WRONLY', 'P_DETACH', 'P_NOWAIT', 'P_NOWAITO', 'P_OVERLAY', 'P_WAIT', 'PathLike', 'R_OK', 'SEEK_CUR', 'SEEK_END', 'SEEK_SET', 'TMP_MAX', 'W_OK', 'X_OK', '_Environ', '__all__', '__builtins__', '__cached__', '__doc__', '__file__', '__loader__', '__name__', '__package__', '__spec__', '_execvpe', '_exists', '_exit', '_fspath', '_get_exports_list', '_putenv', '_unsetenv', '_wrap_close', 'abc', 'abort', 'access', 'altsep', 'chdir', 'chmod', 'close', 'closerange', 'cpu_count', 'curdir', 'defpath', 'device_encoding', 'devnull', 'dup', 'dup2', 'environ', 'error', 'execl', 'execle', 'execlp', 'execlpe', 'execv', 'execve', 'execvp', 'execvpe', 'extsep', 'fdopen', 'fsdecode', 'fsencode', 'fspath', 'fstat', 'fsync', 'ftruncate', 'get_exec_path', 'get_handle_inheritable', 'get_inheritable', 'get_terminal_size', 'getcwd', 'getcwdb', 'getenv', 'getlogin', 'getpid', 'getppid', 'isatty', 'kill', 'linesep', 'link', 'listdir', 'lseek', 'lstat', 'makedirs', 'mkdir', 'name', 'open', 'pardir', 'path', 'pathsep', 'pipe', 'popen', 'putenv', 'read', 'readlink', 'remove', 'removedirs', 'rename', 'renames', 'replace', 'rmdir', 'scandir', 'sep', 'set_handle_inheritable', 'set_inheritable', 'spawnl', 'spawnle', 'spawnv', 'spawnve', 'st', 'startfile', 'stat', 'stat_result', 'statvfs_result', 'strerror', 'supports_bytes_environ', 'supports_dir_fd', 'supports_effective_ids', 'supports_fd', 'supports_follow_symlinks', 'symlink', 'sys', 'system', 'terminal_size', 'times', 'times_result', 'truncate', 'umask', 'uname_result', 'unlink', 'urandom', 'utime', 'waitpid', 'walk', 'write']\n"
     ]
    }
   ],
   "source": [
    "print(dir(os))"
   ]
  },
  {
   "cell_type": "code",
   "execution_count": 103,
   "metadata": {},
   "outputs": [
    {
     "data": {
      "text/plain": [
       "'C:\\\\batches\\\\online_batch\\\\batch9am'"
      ]
     },
     "execution_count": 103,
     "metadata": {},
     "output_type": "execute_result"
    }
   ],
   "source": [
    "os.getcwd()  #cwd --> current working directory"
   ]
  },
  {
   "cell_type": "code",
   "execution_count": 104,
   "metadata": {},
   "outputs": [
    {
     "ename": "TypeError",
     "evalue": "chdir() missing required argument 'path' (pos 1)",
     "output_type": "error",
     "traceback": [
      "\u001b[1;31m---------------------------------------------------------------------\u001b[0m",
      "\u001b[1;31mTypeError\u001b[0m                           Traceback (most recent call last)",
      "\u001b[1;32m<ipython-input-104-c1288cca7ac0>\u001b[0m in \u001b[0;36m<module>\u001b[1;34m\u001b[0m\n\u001b[1;32m----> 1\u001b[1;33m \u001b[0mos\u001b[0m\u001b[1;33m.\u001b[0m\u001b[0mchdir\u001b[0m\u001b[1;33m(\u001b[0m\u001b[1;33m)\u001b[0m  \u001b[1;31m#chdir --> change directory\u001b[0m\u001b[1;33m\u001b[0m\u001b[1;33m\u001b[0m\u001b[0m\n\u001b[0m",
      "\u001b[1;31mTypeError\u001b[0m: chdir() missing required argument 'path' (pos 1)"
     ]
    }
   ],
   "source": [
    "os.chdir()  #chdir --> change directory"
   ]
  },
  {
   "cell_type": "code",
   "execution_count": 105,
   "metadata": {},
   "outputs": [
    {
     "data": {
      "text/plain": [
       "['.ipynb_checkpoints',\n",
       " '1.Descriptive_Stats - Copy.ipynb',\n",
       " 'Central Tendency.pptx',\n",
       " 'corona.jpg',\n",
       " 'deliveries.csv',\n",
       " 'matches.csv',\n",
       " 'newcorona.jpg',\n",
       " 'Numpy_1.ipynb',\n",
       " 'Numpy_2.ipynb',\n",
       " 'Numpy_3.ipynb',\n",
       " 'numpy_images.ipynb',\n",
       " 'Pandas_1.ipynb',\n",
       " 'Pandas_2.ipynb',\n",
       " 'pandas_3.ipynb',\n",
       " 'Shape_of_data.ipynb',\n",
       " 'Sockets.ipynb',\n",
       " 'stats quiz answers.docx',\n",
       " 'Stats quiz.doc',\n",
       " 'Stats.ipynb',\n",
       " 'Stats_2.ipynb',\n",
       " 'students.csv',\n",
       " 'three.png']"
      ]
     },
     "execution_count": 105,
     "metadata": {},
     "output_type": "execute_result"
    }
   ],
   "source": [
    "os.listdir()"
   ]
  },
  {
   "cell_type": "code",
   "execution_count": 106,
   "metadata": {},
   "outputs": [
    {
     "data": {
      "text/plain": [
       "['.ipynb_checkpoints',\n",
       " '1. Functions.ipynb',\n",
       " '2. Functions.ipynb',\n",
       " '3. Functions.ipynb',\n",
       " '4. Functions.ipynb',\n",
       " '5. OOPS.ipynb',\n",
       " '6. OOPS.ipynb',\n",
       " '7. OOPS.ipynb',\n",
       " '9. Sockets.ipynb',\n",
       " 'bankapp.py',\n",
       " 'bankapp.spec',\n",
       " 'Bank_Application.ipynb',\n",
       " 'build',\n",
       " 'checkprime.py',\n",
       " 'checkprime2.py',\n",
       " 'Class_1.ipynb',\n",
       " 'client.py',\n",
       " 'Database.ipynb',\n",
       " 'dbms',\n",
       " 'design',\n",
       " 'dist',\n",
       " 'Doubts.ipynb',\n",
       " 'Exception_Handling.ipynb',\n",
       " 'For_loop.ipynb',\n",
       " 'For_loop2.ipynb',\n",
       " 'for_loop3.ipynb',\n",
       " 'For_loop_4.ipynb',\n",
       " 'For_loop_continue.ipynb',\n",
       " 'Functions_1.ipynb',\n",
       " 'Functions_2.ipynb',\n",
       " 'Functions_3.ipynb',\n",
       " 'Functions_4.ipynb',\n",
       " 'functions_5.ipynb',\n",
       " 'hello.txt',\n",
       " 'output',\n",
       " 'Patterns.ipynb',\n",
       " 'Practice.ipynb',\n",
       " 'r1.py',\n",
       " 'recursions.ipynb',\n",
       " 'server.py',\n",
       " 'Solutions.ipynb',\n",
       " 'Special_functions.ipynb',\n",
       " 'While_Loop.ipynb',\n",
       " '__pycache__']"
      ]
     },
     "execution_count": 106,
     "metadata": {},
     "output_type": "execute_result"
    }
   ],
   "source": [
    "os.listdir(\"C://batches//batch630\")"
   ]
  },
  {
   "cell_type": "code",
   "execution_count": 107,
   "metadata": {},
   "outputs": [],
   "source": [
    "os.chdir(\"C://batches//batch5pm\")"
   ]
  },
  {
   "cell_type": "code",
   "execution_count": 108,
   "metadata": {},
   "outputs": [
    {
     "data": {
      "text/plain": [
       "'C:\\\\batches\\\\batch5pm'"
      ]
     },
     "execution_count": 108,
     "metadata": {},
     "output_type": "execute_result"
    }
   ],
   "source": [
    "os.getcwd()"
   ]
  },
  {
   "cell_type": "code",
   "execution_count": 109,
   "metadata": {},
   "outputs": [
    {
     "data": {
      "text/plain": [
       "['.ipynb_checkpoints',\n",
       " 'abc.pkl',\n",
       " 'abc.txt',\n",
       " 'att.csv',\n",
       " 'backup_class',\n",
       " 'bird.jpg',\n",
       " 'Class_1.ipynb',\n",
       " 'class_2.ipynb',\n",
       " 'closures_decorators.ipynb',\n",
       " 'Conditional_statements.ipynb',\n",
       " 'Conversion_operators.ipynb',\n",
       " 'Dictionary.ipynb',\n",
       " 'Dictionary_.ipynb',\n",
       " 'dictionary_2.ipynb',\n",
       " 'Dictionary_3.ipynb',\n",
       " 'Dict_Sets.ipynb',\n",
       " 'Doubts.ipynb',\n",
       " 'File_handling.ipynb',\n",
       " 'file_handling_2.ipynb',\n",
       " 'For_loop_1.ipynb',\n",
       " 'For_loop_2.ipynb',\n",
       " 'For_loop_3.ipynb',\n",
       " 'For_loop_4.ipynb',\n",
       " 'func1.py',\n",
       " 'functions_1.ipynb',\n",
       " 'functions_2.ipynb',\n",
       " 'functions_3.ipynb',\n",
       " 'functions_4.ipynb',\n",
       " 'if_else_2.ipynb',\n",
       " 'if_else_3.ipynb',\n",
       " 'json_encoding_python.png',\n",
       " 'Lists.ipynb',\n",
       " 'Lists_2.ipynb',\n",
       " 'lists_tuple.ipynb',\n",
       " 'myfile.py',\n",
       " 'one',\n",
       " 'one.txt',\n",
       " 'OOPs_1.ipynb',\n",
       " 'OOPs_2.ipynb',\n",
       " 'Operators.ipynb',\n",
       " 'Operators_conditionalstatements.ipynb',\n",
       " 'python.json',\n",
       " 'pythonwork',\n",
       " 'recursion_nested_func.ipynb',\n",
       " 'results.csv',\n",
       " 'Serialization.ipynb',\n",
       " 'Sets_type_conversion.ipynb',\n",
       " 'Special_functions.ipynb',\n",
       " 'strings.ipynb',\n",
       " 'Strings_list.ipynb',\n",
       " 'students.csv',\n",
       " 'student_details.py',\n",
       " 't1.py',\n",
       " 't2.py',\n",
       " 't3.py',\n",
       " 'two.txt',\n",
       " 'Untitled.ipynb',\n",
       " 'while_loop3.ipynb',\n",
       " 'while_loop_1.ipynb',\n",
       " 'While_loop_2.ipynb',\n",
       " 'While_loop_4.ipynb',\n",
       " 'While_loop_5.ipynb',\n",
       " 'while_loop_6.ipynb',\n",
       " '__pycache__']"
      ]
     },
     "execution_count": 109,
     "metadata": {},
     "output_type": "execute_result"
    }
   ],
   "source": [
    "os.listdir()"
   ]
  },
  {
   "cell_type": "code",
   "execution_count": 110,
   "metadata": {},
   "outputs": [],
   "source": [
    "os.mkdir(\"hello\")  #make directory"
   ]
  },
  {
   "cell_type": "code",
   "execution_count": 111,
   "metadata": {},
   "outputs": [
    {
     "data": {
      "text/plain": [
       "['.ipynb_checkpoints',\n",
       " 'abc.pkl',\n",
       " 'abc.txt',\n",
       " 'att.csv',\n",
       " 'backup_class',\n",
       " 'bird.jpg',\n",
       " 'Class_1.ipynb',\n",
       " 'class_2.ipynb',\n",
       " 'closures_decorators.ipynb',\n",
       " 'Conditional_statements.ipynb',\n",
       " 'Conversion_operators.ipynb',\n",
       " 'Dictionary.ipynb',\n",
       " 'Dictionary_.ipynb',\n",
       " 'dictionary_2.ipynb',\n",
       " 'Dictionary_3.ipynb',\n",
       " 'Dict_Sets.ipynb',\n",
       " 'Doubts.ipynb',\n",
       " 'File_handling.ipynb',\n",
       " 'file_handling_2.ipynb',\n",
       " 'For_loop_1.ipynb',\n",
       " 'For_loop_2.ipynb',\n",
       " 'For_loop_3.ipynb',\n",
       " 'For_loop_4.ipynb',\n",
       " 'func1.py',\n",
       " 'functions_1.ipynb',\n",
       " 'functions_2.ipynb',\n",
       " 'functions_3.ipynb',\n",
       " 'functions_4.ipynb',\n",
       " 'hello',\n",
       " 'if_else_2.ipynb',\n",
       " 'if_else_3.ipynb',\n",
       " 'json_encoding_python.png',\n",
       " 'Lists.ipynb',\n",
       " 'Lists_2.ipynb',\n",
       " 'lists_tuple.ipynb',\n",
       " 'myfile.py',\n",
       " 'one',\n",
       " 'one.txt',\n",
       " 'OOPs_1.ipynb',\n",
       " 'OOPs_2.ipynb',\n",
       " 'Operators.ipynb',\n",
       " 'Operators_conditionalstatements.ipynb',\n",
       " 'python.json',\n",
       " 'pythonwork',\n",
       " 'recursion_nested_func.ipynb',\n",
       " 'results.csv',\n",
       " 'Serialization.ipynb',\n",
       " 'Sets_type_conversion.ipynb',\n",
       " 'Special_functions.ipynb',\n",
       " 'strings.ipynb',\n",
       " 'Strings_list.ipynb',\n",
       " 'students.csv',\n",
       " 'student_details.py',\n",
       " 't1.py',\n",
       " 't2.py',\n",
       " 't3.py',\n",
       " 'two.txt',\n",
       " 'Untitled.ipynb',\n",
       " 'while_loop3.ipynb',\n",
       " 'while_loop_1.ipynb',\n",
       " 'While_loop_2.ipynb',\n",
       " 'While_loop_4.ipynb',\n",
       " 'While_loop_5.ipynb',\n",
       " 'while_loop_6.ipynb',\n",
       " '__pycache__']"
      ]
     },
     "execution_count": 111,
     "metadata": {},
     "output_type": "execute_result"
    }
   ],
   "source": [
    "os.listdir()"
   ]
  },
  {
   "cell_type": "code",
   "execution_count": 112,
   "metadata": {},
   "outputs": [],
   "source": [
    "os.rmdir(\"hello\")"
   ]
  },
  {
   "cell_type": "code",
   "execution_count": 113,
   "metadata": {},
   "outputs": [
    {
     "data": {
      "text/plain": [
       "['.ipynb_checkpoints',\n",
       " 'abc.pkl',\n",
       " 'abc.txt',\n",
       " 'att.csv',\n",
       " 'backup_class',\n",
       " 'bird.jpg',\n",
       " 'Class_1.ipynb',\n",
       " 'class_2.ipynb',\n",
       " 'closures_decorators.ipynb',\n",
       " 'Conditional_statements.ipynb',\n",
       " 'Conversion_operators.ipynb',\n",
       " 'Dictionary.ipynb',\n",
       " 'Dictionary_.ipynb',\n",
       " 'dictionary_2.ipynb',\n",
       " 'Dictionary_3.ipynb',\n",
       " 'Dict_Sets.ipynb',\n",
       " 'Doubts.ipynb',\n",
       " 'File_handling.ipynb',\n",
       " 'file_handling_2.ipynb',\n",
       " 'For_loop_1.ipynb',\n",
       " 'For_loop_2.ipynb',\n",
       " 'For_loop_3.ipynb',\n",
       " 'For_loop_4.ipynb',\n",
       " 'func1.py',\n",
       " 'functions_1.ipynb',\n",
       " 'functions_2.ipynb',\n",
       " 'functions_3.ipynb',\n",
       " 'functions_4.ipynb',\n",
       " 'if_else_2.ipynb',\n",
       " 'if_else_3.ipynb',\n",
       " 'json_encoding_python.png',\n",
       " 'Lists.ipynb',\n",
       " 'Lists_2.ipynb',\n",
       " 'lists_tuple.ipynb',\n",
       " 'myfile.py',\n",
       " 'one',\n",
       " 'one.txt',\n",
       " 'OOPs_1.ipynb',\n",
       " 'OOPs_2.ipynb',\n",
       " 'Operators.ipynb',\n",
       " 'Operators_conditionalstatements.ipynb',\n",
       " 'python.json',\n",
       " 'pythonwork',\n",
       " 'recursion_nested_func.ipynb',\n",
       " 'results.csv',\n",
       " 'Serialization.ipynb',\n",
       " 'Sets_type_conversion.ipynb',\n",
       " 'Special_functions.ipynb',\n",
       " 'strings.ipynb',\n",
       " 'Strings_list.ipynb',\n",
       " 'students.csv',\n",
       " 'student_details.py',\n",
       " 't1.py',\n",
       " 't2.py',\n",
       " 't3.py',\n",
       " 'two.txt',\n",
       " 'Untitled.ipynb',\n",
       " 'while_loop3.ipynb',\n",
       " 'while_loop_1.ipynb',\n",
       " 'While_loop_2.ipynb',\n",
       " 'While_loop_4.ipynb',\n",
       " 'While_loop_5.ipynb',\n",
       " 'while_loop_6.ipynb',\n",
       " '__pycache__']"
      ]
     },
     "execution_count": 113,
     "metadata": {},
     "output_type": "execute_result"
    }
   ],
   "source": [
    "os.listdir()"
   ]
  },
  {
   "cell_type": "code",
   "execution_count": 114,
   "metadata": {},
   "outputs": [
    {
     "data": {
      "text/plain": [
       "False"
      ]
     },
     "execution_count": 114,
     "metadata": {},
     "output_type": "execute_result"
    }
   ],
   "source": [
    "os.path.exists(\"C://batches//oiefpijefpijpipokpopookw\")"
   ]
  },
  {
   "cell_type": "code",
   "execution_count": 115,
   "metadata": {},
   "outputs": [
    {
     "data": {
      "text/plain": [
       "True"
      ]
     },
     "execution_count": 115,
     "metadata": {},
     "output_type": "execute_result"
    }
   ],
   "source": [
    "os.path.isfile(\"C://batches//online_batch//batch9am//stats.ipynb\")"
   ]
  },
  {
   "cell_type": "code",
   "execution_count": 117,
   "metadata": {},
   "outputs": [
    {
     "data": {
      "text/plain": [
       "False"
      ]
     },
     "execution_count": 117,
     "metadata": {},
     "output_type": "execute_result"
    }
   ],
   "source": [
    "os.path.isdir(\"C://batches//online_batch//batch9am//stats\")"
   ]
  },
  {
   "cell_type": "code",
   "execution_count": 118,
   "metadata": {},
   "outputs": [
    {
     "data": {
      "text/plain": [
       "True"
      ]
     },
     "execution_count": 118,
     "metadata": {},
     "output_type": "execute_result"
    }
   ],
   "source": [
    "os.path.isdir(\"C://batches//online_batch//batch9am\")"
   ]
  },
  {
   "cell_type": "code",
   "execution_count": 119,
   "metadata": {},
   "outputs": [],
   "source": [
    "#server --> mkdir, rmdir, file create, list"
   ]
  },
  {
   "cell_type": "code",
   "execution_count": 120,
   "metadata": {},
   "outputs": [],
   "source": [
    "###socket --> client + server --> server send client the command "
   ]
  },
  {
   "cell_type": "code",
   "execution_count": 129,
   "metadata": {},
   "outputs": [
    {
     "data": {
      "text/plain": [
       "False"
      ]
     },
     "execution_count": 129,
     "metadata": {},
     "output_type": "execute_result"
    }
   ],
   "source": [
    "os.path.exists(os.path.join(os.getcwd(),\"batch9am\",\"abc\",\"xyz\"))"
   ]
  },
  {
   "cell_type": "code",
   "execution_count": 125,
   "metadata": {},
   "outputs": [
    {
     "data": {
      "text/plain": [
       "'C:\\\\batches\\\\batch5pm\\\\batch9am'"
      ]
     },
     "execution_count": 125,
     "metadata": {},
     "output_type": "execute_result"
    }
   ],
   "source": [
    "os.getcwd() + \"\\\\\"+\"batch9am\""
   ]
  },
  {
   "cell_type": "code",
   "execution_count": 147,
   "metadata": {},
   "outputs": [],
   "source": [
    "def filter_path(path):\n",
    "    if os.path.exists(path):\n",
    "        dirs = []; files = []\n",
    "        all_ = os.listdir(path)\n",
    "        for i in all_:\n",
    "            p = os.path.join(path,i)\n",
    "            if os.path.isfile(p):\n",
    "                files.append(i)\n",
    "            elif os.path.isdir(p):\n",
    "                dirs.append(i)\n",
    "        print(\"*\"*80)\n",
    "        print(f\"\\n The files in the directory {path} are : \")\n",
    "        for i in files:\n",
    "            print(\"_\"*80)\n",
    "            print(i.center(80))\n",
    "            print(\"_\"*80)\n",
    "        print(\"*\"*80)\n",
    "        print(\"*\"*80)\n",
    "        print(f\"\\n The directories in the directory {path} are : \")\n",
    "        for i in dirs:\n",
    "            print(\"_\"*80)\n",
    "            print(i.center(80))\n",
    "            print(\"_\"*80)\n",
    "        print(\"*\"*80)\n",
    "    else:\n",
    "        print(\"\\n There is no such path\")"
   ]
  },
  {
   "cell_type": "code",
   "execution_count": 148,
   "metadata": {},
   "outputs": [
    {
     "name": "stdout",
     "output_type": "stream",
     "text": [
      "********************************************************************************\n",
      "\n",
      " The files in the directory C://batches/online_batch/batch9am/ are : \n",
      "________________________________________________________________________________\n",
      "                        1.Descriptive_Stats - Copy.ipynb                        \n",
      "________________________________________________________________________________\n",
      "________________________________________________________________________________\n",
      "                             Central Tendency.pptx                              \n",
      "________________________________________________________________________________\n",
      "________________________________________________________________________________\n",
      "                                   corona.jpg                                   \n",
      "________________________________________________________________________________\n",
      "________________________________________________________________________________\n",
      "                                 deliveries.csv                                 \n",
      "________________________________________________________________________________\n",
      "________________________________________________________________________________\n",
      "                                  matches.csv                                   \n",
      "________________________________________________________________________________\n",
      "________________________________________________________________________________\n",
      "                                 newcorona.jpg                                  \n",
      "________________________________________________________________________________\n",
      "________________________________________________________________________________\n",
      "                                 Numpy_1.ipynb                                  \n",
      "________________________________________________________________________________\n",
      "________________________________________________________________________________\n",
      "                                 Numpy_2.ipynb                                  \n",
      "________________________________________________________________________________\n",
      "________________________________________________________________________________\n",
      "                                 Numpy_3.ipynb                                  \n",
      "________________________________________________________________________________\n",
      "________________________________________________________________________________\n",
      "                               numpy_images.ipynb                               \n",
      "________________________________________________________________________________\n",
      "________________________________________________________________________________\n",
      "                                 Pandas_1.ipynb                                 \n",
      "________________________________________________________________________________\n",
      "________________________________________________________________________________\n",
      "                                 Pandas_2.ipynb                                 \n",
      "________________________________________________________________________________\n",
      "________________________________________________________________________________\n",
      "                                 pandas_3.ipynb                                 \n",
      "________________________________________________________________________________\n",
      "________________________________________________________________________________\n",
      "                              Shape_of_data.ipynb                               \n",
      "________________________________________________________________________________\n",
      "________________________________________________________________________________\n",
      "                                 Sockets.ipynb                                  \n",
      "________________________________________________________________________________\n",
      "________________________________________________________________________________\n",
      "                            stats quiz answers.docx                             \n",
      "________________________________________________________________________________\n",
      "________________________________________________________________________________\n",
      "                                 Stats quiz.doc                                 \n",
      "________________________________________________________________________________\n",
      "________________________________________________________________________________\n",
      "                                  Stats.ipynb                                   \n",
      "________________________________________________________________________________\n",
      "________________________________________________________________________________\n",
      "                                 Stats_2.ipynb                                  \n",
      "________________________________________________________________________________\n",
      "________________________________________________________________________________\n",
      "                                  students.csv                                  \n",
      "________________________________________________________________________________\n",
      "________________________________________________________________________________\n",
      "                                   three.png                                    \n",
      "________________________________________________________________________________\n",
      "********************************************************************************\n",
      "********************************************************************************\n",
      "\n",
      " The directories in the directory C://batches/online_batch/batch9am/ are : \n",
      "________________________________________________________________________________\n",
      "                               .ipynb_checkpoints                               \n",
      "________________________________________________________________________________\n",
      "********************************************************************************\n"
     ]
    }
   ],
   "source": [
    "filter_path(\"C://batches/online_batch/batch9am/\")"
   ]
  },
  {
   "cell_type": "code",
   "execution_count": 149,
   "metadata": {},
   "outputs": [
    {
     "data": {
      "text/plain": [
       "'C:\\\\batches\\\\batch5pm'"
      ]
     },
     "execution_count": 149,
     "metadata": {},
     "output_type": "execute_result"
    }
   ],
   "source": [
    "os.getcwd()"
   ]
  },
  {
   "cell_type": "code",
   "execution_count": 151,
   "metadata": {},
   "outputs": [],
   "source": [
    "os.chdir(\"C://batches//online_batch//batch9am\")"
   ]
  },
  {
   "cell_type": "code",
   "execution_count": 152,
   "metadata": {},
   "outputs": [
    {
     "data": {
      "text/plain": [
       "'C:\\\\batches\\\\online_batch\\\\batch9am'"
      ]
     },
     "execution_count": 152,
     "metadata": {},
     "output_type": "execute_result"
    }
   ],
   "source": [
    "os.getcwd()"
   ]
  },
  {
   "cell_type": "code",
   "execution_count": 153,
   "metadata": {},
   "outputs": [],
   "source": [
    "def students_details(file,path=os.getcwd()):\n",
    "    p = os.path.join(path,file)\n",
    "    if os.path.exists(p) and os.path.isfile(p):\n",
    "        f = open(p,'a')\n",
    "        n = int(input(\"\\n Number of entries of students you want to make : \"))\n",
    "        t = \"\"\n",
    "        for i in range(n):\n",
    "            name = input(\"\\n Enter the name : \")\n",
    "            maths = input(\"\\n Enter maths marks : \")\n",
    "            science = input(\"\\n Enter science marks : \")\n",
    "            eng  = input(\"\\n Enter english marks : \")\n",
    "            t += \"\\n\"+name+\",\"+maths+\",\"+science+\",\"+eng\n",
    "        print(t)\n",
    "        f.write(t)\n",
    "        f.close()\n",
    "        print(\"\\n Data updated successfully\")\n",
    "    else:\n",
    "        print(\"\\n Incorrect path or filename\")"
   ]
  },
  {
   "cell_type": "code",
   "execution_count": 154,
   "metadata": {},
   "outputs": [
    {
     "name": "stdout",
     "output_type": "stream",
     "text": [
      "\n",
      " Number of entries of students you want to make : 3\n",
      "\n",
      " Enter the name : ayushi\n",
      "\n",
      " Enter maths marks : 56\n",
      "\n",
      " Enter science marks : 67\n",
      "\n",
      " Enter english marks : 78\n",
      "\n",
      " Enter the name : divya\n",
      "\n",
      " Enter maths marks : 67\n",
      "\n",
      " Enter science marks : 78\n",
      "\n",
      " Enter english marks : 89\n",
      "\n",
      " Enter the name : shivani\n",
      "\n",
      " Enter maths marks : 67\n",
      "\n",
      " Enter science marks : 78\n",
      "\n",
      " Enter english marks : 90\n",
      "\n",
      "ayushi,56,67,78\n",
      "divya,67,78,89\n",
      "shivani,67,78,90\n",
      "\n",
      " Data updated successfully\n"
     ]
    }
   ],
   "source": [
    "students_details(\"students.csv\")"
   ]
  },
  {
   "cell_type": "code",
   "execution_count": 155,
   "metadata": {},
   "outputs": [],
   "source": [
    "df = pd.read_csv(\"students.csv\")"
   ]
  },
  {
   "cell_type": "code",
   "execution_count": 156,
   "metadata": {},
   "outputs": [
    {
     "data": {
      "text/html": [
       "<div>\n",
       "<style scoped>\n",
       "    .dataframe tbody tr th:only-of-type {\n",
       "        vertical-align: middle;\n",
       "    }\n",
       "\n",
       "    .dataframe tbody tr th {\n",
       "        vertical-align: top;\n",
       "    }\n",
       "\n",
       "    .dataframe thead th {\n",
       "        text-align: right;\n",
       "    }\n",
       "</style>\n",
       "<table border=\"1\" class=\"dataframe\">\n",
       "  <thead>\n",
       "    <tr style=\"text-align: right;\">\n",
       "      <th></th>\n",
       "      <th>Name</th>\n",
       "      <th>Maths</th>\n",
       "      <th>Science</th>\n",
       "      <th>English</th>\n",
       "    </tr>\n",
       "  </thead>\n",
       "  <tbody>\n",
       "    <tr>\n",
       "      <td>0</td>\n",
       "      <td>rohan</td>\n",
       "      <td>67</td>\n",
       "      <td>89</td>\n",
       "      <td>90</td>\n",
       "    </tr>\n",
       "    <tr>\n",
       "      <td>1</td>\n",
       "      <td>ayushi</td>\n",
       "      <td>78</td>\n",
       "      <td>80</td>\n",
       "      <td>85</td>\n",
       "    </tr>\n",
       "    <tr>\n",
       "      <td>2</td>\n",
       "      <td>nehal</td>\n",
       "      <td>80</td>\n",
       "      <td>90</td>\n",
       "      <td>93</td>\n",
       "    </tr>\n",
       "    <tr>\n",
       "      <td>3</td>\n",
       "      <td>padmani</td>\n",
       "      <td>85</td>\n",
       "      <td>88</td>\n",
       "      <td>90</td>\n",
       "    </tr>\n",
       "    <tr>\n",
       "      <td>4</td>\n",
       "      <td>tushar</td>\n",
       "      <td>50</td>\n",
       "      <td>60</td>\n",
       "      <td>70</td>\n",
       "    </tr>\n",
       "    <tr>\n",
       "      <td>5</td>\n",
       "      <td>ayushi</td>\n",
       "      <td>56</td>\n",
       "      <td>67</td>\n",
       "      <td>78</td>\n",
       "    </tr>\n",
       "    <tr>\n",
       "      <td>6</td>\n",
       "      <td>divya</td>\n",
       "      <td>67</td>\n",
       "      <td>78</td>\n",
       "      <td>89</td>\n",
       "    </tr>\n",
       "    <tr>\n",
       "      <td>7</td>\n",
       "      <td>shivani</td>\n",
       "      <td>67</td>\n",
       "      <td>78</td>\n",
       "      <td>90</td>\n",
       "    </tr>\n",
       "  </tbody>\n",
       "</table>\n",
       "</div>"
      ],
      "text/plain": [
       "      Name  Maths  Science  English\n",
       "0    rohan     67       89       90\n",
       "1   ayushi     78       80       85\n",
       "2    nehal     80       90       93\n",
       "3  padmani     85       88       90\n",
       "4   tushar     50       60       70\n",
       "5   ayushi     56       67       78\n",
       "6    divya     67       78       89\n",
       "7  shivani     67       78       90"
      ]
     },
     "execution_count": 156,
     "metadata": {},
     "output_type": "execute_result"
    }
   ],
   "source": [
    "df"
   ]
  },
  {
   "cell_type": "code",
   "execution_count": null,
   "metadata": {},
   "outputs": [],
   "source": []
  }
 ],
 "metadata": {
  "kernelspec": {
   "display_name": "Python 3",
   "language": "python",
   "name": "python3"
  },
  "language_info": {
   "codemirror_mode": {
    "name": "ipython",
    "version": 3
   },
   "file_extension": ".py",
   "mimetype": "text/x-python",
   "name": "python",
   "nbconvert_exporter": "python",
   "pygments_lexer": "ipython3",
   "version": "3.7.4"
  }
 },
 "nbformat": 4,
 "nbformat_minor": 2
}
